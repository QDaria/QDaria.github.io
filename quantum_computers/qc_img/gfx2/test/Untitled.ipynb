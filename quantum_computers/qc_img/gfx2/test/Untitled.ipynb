{
 "cells": [
  {
   "cell_type": "code",
   "execution_count": 1,
   "id": "e83651c9-e73f-4cc6-a698-018ff17dbda8",
   "metadata": {},
   "outputs": [
    {
     "ename": "Exception",
     "evalue": "File not found: /home/tomek/Desktop/test.pdf",
     "output_type": "error",
     "traceback": [
      "\u001b[0;31m---------------------------------------------------------------------------\u001b[0m",
      "\u001b[0;31mException\u001b[0m                                 Traceback (most recent call last)",
      "Input \u001b[0;32mIn [1]\u001b[0m, in \u001b[0;36m<cell line: 20>\u001b[0;34m()\u001b[0m\n\u001b[1;32m     16\u001b[0m         pdf_file\u001b[38;5;241m.\u001b[39mseek(page)\n\u001b[1;32m     17\u001b[0m         pdf_file\u001b[38;5;241m.\u001b[39msave(output_path \u001b[38;5;241m+\u001b[39m \u001b[38;5;124m'\u001b[39m\u001b[38;5;124m/\u001b[39m\u001b[38;5;124m'\u001b[39m \u001b[38;5;241m+\u001b[39m \u001b[38;5;28mstr\u001b[39m(os\u001b[38;5;241m.\u001b[39mpath\u001b[38;5;241m.\u001b[39mbasename(pdf_path))\u001b[38;5;241m.\u001b[39msplit(\u001b[38;5;124m'\u001b[39m\u001b[38;5;124m.\u001b[39m\u001b[38;5;124m'\u001b[39m)[\u001b[38;5;241m0\u001b[39m] \u001b[38;5;241m+\u001b[39m \u001b[38;5;124m'\u001b[39m\u001b[38;5;124m_\u001b[39m\u001b[38;5;124m'\u001b[39m \u001b[38;5;241m+\u001b[39m \u001b[38;5;28mstr\u001b[39m(page) \u001b[38;5;241m+\u001b[39m \u001b[38;5;124m'\u001b[39m\u001b[38;5;124m.png\u001b[39m\u001b[38;5;124m'\u001b[39m)\n\u001b[0;32m---> 20\u001b[0m \u001b[43mpdf_to_png\u001b[49m\u001b[43m(\u001b[49m\u001b[38;5;124;43m\"\u001b[39;49m\u001b[38;5;124;43m/home/tomek/Desktop/test.pdf\u001b[39;49m\u001b[38;5;124;43m\"\u001b[39;49m\u001b[43m,\u001b[49m\u001b[43m \u001b[49m\u001b[38;5;124;43m\"\u001b[39;49m\u001b[38;5;124;43m/home/tomek/Desktop/test\u001b[39;49m\u001b[38;5;124;43m\"\u001b[39;49m\u001b[43m)\u001b[49m\n\u001b[1;32m     22\u001b[0m \u001b[38;5;28;01mdef\u001b[39;00m \u001b[38;5;21mpdf2png\u001b[39m(path):\n\u001b[1;32m     23\u001b[0m     files \u001b[38;5;241m=\u001b[39m os\u001b[38;5;241m.\u001b[39mlistdir(path)\n",
      "Input \u001b[0;32mIn [1]\u001b[0m, in \u001b[0;36mpdf_to_png\u001b[0;34m(pdf_path, output_path)\u001b[0m\n\u001b[1;32m      7\u001b[0m \u001b[38;5;28;01mdef\u001b[39;00m \u001b[38;5;21mpdf_to_png\u001b[39m(pdf_path, output_path):\n\u001b[1;32m      8\u001b[0m     \u001b[38;5;28;01mif\u001b[39;00m \u001b[38;5;129;01mnot\u001b[39;00m os\u001b[38;5;241m.\u001b[39mpath\u001b[38;5;241m.\u001b[39mexists(pdf_path):\n\u001b[0;32m----> 9\u001b[0m         \u001b[38;5;28;01mraise\u001b[39;00m \u001b[38;5;167;01mException\u001b[39;00m(\u001b[38;5;124m\"\u001b[39m\u001b[38;5;124mFile not found: \u001b[39m\u001b[38;5;124m\"\u001b[39m \u001b[38;5;241m+\u001b[39m pdf_path)\n\u001b[1;32m     11\u001b[0m     \u001b[38;5;28;01mif\u001b[39;00m \u001b[38;5;129;01mnot\u001b[39;00m os\u001b[38;5;241m.\u001b[39mpath\u001b[38;5;241m.\u001b[39mexists(output_path):\n\u001b[1;32m     12\u001b[0m         os\u001b[38;5;241m.\u001b[39mmkdir(output_path)\n",
      "\u001b[0;31mException\u001b[0m: File not found: /home/tomek/Desktop/test.pdf"
     ]
    }
   ],
   "source": [
    "# In python=3.9 convert pdf files to png\n",
    "\n",
    "import os\n",
    "from PIL import Image\n",
    "\n",
    "\n",
    "def pdf_to_png(pdf_path, output_path):\n",
    "    if not os.path.exists(pdf_path):\n",
    "        raise Exception(\"File not found: \" + pdf_path)\n",
    "\n",
    "    if not os.path.exists(output_path):\n",
    "        os.mkdir(output_path)\n",
    "\n",
    "    pdf_file = Image.open(pdf_path)\n",
    "    for page in range(pdf_file.n_frames):\n",
    "        pdf_file.seek(page)\n",
    "        pdf_file.save(output_path + '/' + str(os.path.basename(pdf_path)).split('.')[0] + '_' + str(page) + '.png')\n",
    "        \n",
    "\n",
    "pdf_to_png(\"/home/tomek/Desktop/test.pdf\", \"/home/tomek/Desktop/test\")"
   ]
  },
  {
   "cell_type": "code",
   "execution_count": 3,
   "id": "ba37f8a0-710a-40b5-b6f6-1728f96c42c6",
   "metadata": {},
   "outputs": [
    {
     "ename": "UnidentifiedImageError",
     "evalue": "cannot identify image file './m2a1.pdf'",
     "output_type": "error",
     "traceback": [
      "\u001b[0;31m---------------------------------------------------------------------------\u001b[0m",
      "\u001b[0;31mUnidentifiedImageError\u001b[0m                    Traceback (most recent call last)",
      "Input \u001b[0;32mIn [3]\u001b[0m, in \u001b[0;36m<cell line: 14>\u001b[0;34m()\u001b[0m\n\u001b[1;32m     11\u001b[0m             im\u001b[38;5;241m.\u001b[39msave(img_path)\n\u001b[1;32m     14\u001b[0m \u001b[38;5;28;01mif\u001b[39;00m \u001b[38;5;18m__name__\u001b[39m \u001b[38;5;241m==\u001b[39m \u001b[38;5;124m'\u001b[39m\u001b[38;5;124m__main__\u001b[39m\u001b[38;5;124m'\u001b[39m:\n\u001b[0;32m---> 15\u001b[0m     \u001b[43mpdf2png\u001b[49m\u001b[43m(\u001b[49m\u001b[38;5;124;43m'\u001b[39;49m\u001b[38;5;124;43m./\u001b[39;49m\u001b[38;5;124;43m'\u001b[39;49m\u001b[43m)\u001b[49m\n",
      "Input \u001b[0;32mIn [3]\u001b[0m, in \u001b[0;36mpdf2png\u001b[0;34m(path)\u001b[0m\n\u001b[1;32m      8\u001b[0m \u001b[38;5;28;01mif\u001b[39;00m os\u001b[38;5;241m.\u001b[39mpath\u001b[38;5;241m.\u001b[39mexists(img_path):\n\u001b[1;32m      9\u001b[0m     os\u001b[38;5;241m.\u001b[39mremove(img_path)\n\u001b[0;32m---> 10\u001b[0m im \u001b[38;5;241m=\u001b[39m \u001b[43mImage\u001b[49m\u001b[38;5;241;43m.\u001b[39;49m\u001b[43mopen\u001b[49m\u001b[43m(\u001b[49m\u001b[43mpdf_path\u001b[49m\u001b[43m)\u001b[49m\n\u001b[1;32m     11\u001b[0m im\u001b[38;5;241m.\u001b[39msave(img_path)\n",
      "File \u001b[0;32m/Library/Frameworks/Python.framework/Versions/3.10/lib/python3.10/site-packages/PIL/Image.py:3123\u001b[0m, in \u001b[0;36mopen\u001b[0;34m(fp, mode, formats)\u001b[0m\n\u001b[1;32m   3121\u001b[0m \u001b[38;5;28;01mfor\u001b[39;00m message \u001b[38;5;129;01min\u001b[39;00m accept_warnings:\n\u001b[1;32m   3122\u001b[0m     warnings\u001b[38;5;241m.\u001b[39mwarn(message)\n\u001b[0;32m-> 3123\u001b[0m \u001b[38;5;28;01mraise\u001b[39;00m UnidentifiedImageError(\n\u001b[1;32m   3124\u001b[0m     \u001b[38;5;124m\"\u001b[39m\u001b[38;5;124mcannot identify image file \u001b[39m\u001b[38;5;132;01m%r\u001b[39;00m\u001b[38;5;124m\"\u001b[39m \u001b[38;5;241m%\u001b[39m (filename \u001b[38;5;28;01mif\u001b[39;00m filename \u001b[38;5;28;01melse\u001b[39;00m fp)\n\u001b[1;32m   3125\u001b[0m )\n",
      "\u001b[0;31mUnidentifiedImageError\u001b[0m: cannot identify image file './m2a1.pdf'"
     ]
    }
   ],
   "source": [
    "def pdf2png(path):\n",
    "    files = os.listdir(path)\n",
    "    for file in files:\n",
    "        if file.endswith(\".pdf\"):\n",
    "            file_name = file.split('.')[0]\n",
    "            img_path = path + file_name + '.png'\n",
    "            pdf_path = path + file\n",
    "            if os.path.exists(img_path):\n",
    "                os.remove(img_path)\n",
    "            im = Image.open(pdf_path)\n",
    "            im.save(img_path)\n",
    "\n",
    "\n",
    "if __name__ == '__main__':\n",
    "    pdf2png('./')"
   ]
  },
  {
   "cell_type": "code",
   "execution_count": 2,
   "id": "fd38c1b8-4fdc-4f60-873b-e16060dfa360",
   "metadata": {},
   "outputs": [
    {
     "name": "stdout",
     "output_type": "stream",
     "text": [
      "/Users/m0/Documents/mo22/mo22Books/moQCH1/qch1/qch1/gfx/gfx2/test\n"
     ]
    }
   ],
   "source": [
    "!pwd"
   ]
  },
  {
   "cell_type": "code",
   "execution_count": null,
   "id": "59280fa9-8658-4973-9c96-494023f888f3",
   "metadata": {},
   "outputs": [],
   "source": []
  },
  {
   "cell_type": "code",
   "execution_count": null,
   "id": "13c85dc6-f6a7-486e-ae29-5627687be991",
   "metadata": {},
   "outputs": [],
   "source": [
    "# In python=3.9 convert all pdf files in the current directory to png files and \n",
    "# store the png files in a new directory called png_files\n",
    "+\n"
   ]
  }
 ],
 "metadata": {
  "kernelspec": {
   "display_name": "Python 3 (ipykernel)",
   "language": "python",
   "name": "python3"
  },
  "language_info": {
   "codemirror_mode": {
    "name": "ipython",
    "version": 3
   },
   "file_extension": ".py",
   "mimetype": "text/x-python",
   "name": "python",
   "nbconvert_exporter": "python",
   "pygments_lexer": "ipython3",
   "version": "3.10.4"
  },
  "widgets": {
   "application/vnd.jupyter.widget-state+json": {
    "state": {},
    "version_major": 2,
    "version_minor": 0
   }
  }
 },
 "nbformat": 4,
 "nbformat_minor": 5
}
