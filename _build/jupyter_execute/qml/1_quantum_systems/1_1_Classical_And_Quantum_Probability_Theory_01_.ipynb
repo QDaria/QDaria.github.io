{
 "cells": [
  {
   "attachments": {},
   "cell_type": "markdown",
   "metadata": {
    "id": "NSiqLHmCuupF"
   },
   "source": [
    "# Classical and Quantum Probability Theory"
   ]
  },
  {
   "attachments": {},
   "cell_type": "markdown",
   "metadata": {},
   "source": [
    ":::::{grid}\n",
    "::::{grid-item-card}\n",
    ":shadow: lg\n",
    "\n",
    "```{grid-item-card}\n",
    ":shadow: lg\n",
    "![D58](_static/D52.png)\n",
    "```\n",
    "\n",
    "::::\n",
    ":::::\n"
   ]
  },
  {
   "attachments": {},
   "cell_type": "markdown",
   "metadata": {},
   "source": []
  },
  {
   "attachments": {},
   "cell_type": "markdown",
   "metadata": {
    "id": "2o8webMQuupL"
   },
   "source": [
    "Consider a classical bit, which is binary and often likened to an impartial coin toss - with Heads $(H)$ or Tails $(T)$ as the outcomes. This can be mathematically formulated as: \n",
    "\n",
    "$$ P(H)=P(T)=0.5 $$ \n",
    "\n",
    "Contrarily, a quantum bit, popularly termed a qubit, visualizes as a rotating coin in suspense of its landing state - perceptionally exhibiting the characteristics of a sphere in its spinning phase.\n",
    "\n",
    "# Quantum Machine Learning: An Emerging Phenomenon\n",
    "\n",
    "Traditional machine learning is concerned with the capacity of conventional computers to perceive patterns within data. However, Quantum Machine Learning (QML) expands this to explore the ability of Quantum Computers and similar quantum informational processors to discern patterns in data that remain beyond the apprehension of classical machine learning algorithms.\n",
    "\n",
    "Quantum states, defined by their precise properties that set them apart from classical probabilities, are instrumental in forming an intuitive understanding of quantum computing. This differentiation provides an accessible groundwork for the essential concepts required in quantum computing. \n",
    "\n",
    "Linear algebra, alike probability theory, is indispensable for numerous learning protocols. Fundamentally, quantum computing is a manifestation of linear algebra. An insightful correlation will be drawn between quantum computing, geometry, and probabilities, shedding light on their intrinsic links. Familiarity with geometric notions can further aid in appreciating classical probability distributions. Initiating with a discussion on classical probabilities and stochastic vectors, this notebook will introduce quantum states as a progressive extension of these elements.\n",
    "\n",
    "Throughout this course, we will confine our assumptions to finite probability distributions and finite-dimensional spaces. This abbreviation considerably eases notation renditions, while not sacrificing much since a majority of quantum computers operate within finite-dimensional realms. \n",
    "\n",
    "Upon introducing quantum states as an extension of classical probability distributions and quantum computations as a method for transforming these probability distributions, we will briefly examine the components of classical probability theory before delving further into quantum states and quantum computations. A look into coin flipping serves as a useful introduction. It offers two prospective outcomes-- heads or tails. Each outcome is associated with a certain probability, P0 for heads and P1 for tails. \n",
    "\n",
    "In essence, classical probability distributions can be considered as a specific instance within the broader scope of quantum states. Furthermore, the transformation of these probability distributions is the crux of quantum computation. Upon exploring classical probability theory elements, we arrive at the occurrence of a coin flip. With two potential outcomes - heads or tails, equal probabilities are assigned to each outcome - P0 associated with heads and P1 associated with tails. In a formalized context, the probability of outcome X being the 'head' (H) is designated as P0. Similarly, this applies to the outcome being 'tail'.\n"
   ]
  },
  {
   "attachments": {},
   "cell_type": "markdown",
   "metadata": {
    "id": "OefMJ0P9uupM"
   },
   "source": [
    "Probability theory forms a crucial foundation for machine learning, and quantum states can be perceived as probability distributions with distinctive properties that differentiate them from the classical understanding of probabilities. Examining these differences serves as a basic yet essential primer towards comprehending quantum computing.\n",
    "\n",
    "In addition to probability theory, linear algebra is critically important for various learning methods. Interestingly, the domains of geometry and probabilities are integrally correlated in quantum computing. However, such geometric concepts are not unfamiliar when dealing with classical probability distributions. This notebook will begin by discussing classical probabilities and stochastic vectors, eventually paving the way to introduce quantum states as their natural evolution.\n",
    "\n",
    "In the context of this course, we will operate under the presumption of finite probability distributions and finite-dimensional spaces. This approach significantly eases the complexity of notation, and since most quantum computers operate within finite-dimensional spaces, the overall generality of the course remains unaffected.\n",
    "\n",
    "# Classical Probability Distributions\n",
    "\n",
    "Consider an instance where we toss a biased coin. Without delving into technical specifics, we can assign a random variable $X$ to represent the result - it assumes the value 0 for 'Heads' and the value 1 for 'Tails'. The occurrence of 'Heads' can be denoted with a probability $P(X=0) = p_0$, and 'Tails' with $P(X=1) = p_1$. As per classical Kolmogorovian probability theory, each probability $p_i$ is always greater than or equal to 0, and the sum of all probabilities equals 1, or mathematically, $\\sum_i p_i = 1$. Following this understanding, let's proceed to sample this distribution.\n"
   ]
  },
  {
   "cell_type": "code",
   "execution_count": 1,
   "metadata": {},
   "outputs": [
    {
     "name": "stdout",
     "output_type": "stream",
     "text": [
      "Dash is running on http://127.0.0.1:8050/\n",
      "\n"
     ]
    },
    {
     "name": "stdout",
     "output_type": "stream",
     "text": [
      " * Serving Flask app '__main__'\n"
     ]
    },
    {
     "name": "stdout",
     "output_type": "stream",
     "text": [
      " * Debug mode: on\n"
     ]
    },
    {
     "name": "stderr",
     "output_type": "stream",
     "text": [
      "Traceback (most recent call last):\n",
      "  File \"/Users/moh/micromamba/envs/mom1env/lib/python3.8/site-packages/ipykernel_launcher.py\", line 17, in <module>\n",
      "    app.launch_new_instance()\n",
      "  File \"/Users/moh/micromamba/envs/mom1env/lib/python3.8/site-packages/traitlets/config/application.py\", line 1042, in launch_instance\n",
      "    app.initialize(argv)\n",
      "  File \"/Users/moh/micromamba/envs/mom1env/lib/python3.8/site-packages/traitlets/config/application.py\", line 113, in inner\n",
      "    return method(app, *args, **kwargs)\n",
      "  File \"/Users/moh/micromamba/envs/mom1env/lib/python3.8/site-packages/ipykernel/kernelapp.py\", line 678, in initialize\n",
      "    self.init_sockets()\n",
      "  File \"/Users/moh/micromamba/envs/mom1env/lib/python3.8/site-packages/ipykernel/kernelapp.py\", line 317, in init_sockets\n",
      "    self.shell_port = self._bind_socket(self.shell_socket, self.shell_port)\n",
      "  File \"/Users/moh/micromamba/envs/mom1env/lib/python3.8/site-packages/ipykernel/kernelapp.py\", line 252, in _bind_socket\n",
      "    return self._try_bind_socket(s, port)\n",
      "  File \"/Users/moh/micromamba/envs/mom1env/lib/python3.8/site-packages/ipykernel/kernelapp.py\", line 228, in _try_bind_socket\n",
      "    s.bind(\"tcp://%s:%i\" % (self.ip, port))\n",
      "  File \"/Users/moh/micromamba/envs/mom1env/lib/python3.8/site-packages/zmq/sugar/socket.py\", line 302, in bind\n",
      "    super().bind(addr)\n",
      "  File \"zmq/backend/cython/socket.pyx\", line 564, in zmq.backend.cython.socket.Socket.bind\n",
      "  File \"zmq/backend/cython/checkrc.pxd\", line 28, in zmq.backend.cython.checkrc._check_rc\n",
      "zmq.error.ZMQError: Address already in use (addr='tcp://127.0.0.1:56945')\n"
     ]
    },
    {
     "ename": "SystemExit",
     "evalue": "1",
     "output_type": "error",
     "traceback": [
      "An exception has occurred, use %tb to see the full traceback.\n",
      "\u001b[0;31mSystemExit\u001b[0m\u001b[0;31m:\u001b[0m 1\n"
     ]
    },
    {
     "name": "stderr",
     "output_type": "stream",
     "text": [
      "/Users/moh/micromamba/envs/mom1env/lib/python3.8/site-packages/IPython/core/interactiveshell.py:3516: UserWarning: To exit: use 'exit', 'quit', or Ctrl-D.\n",
      "  warn(\"To exit: use 'exit', 'quit', or Ctrl-D.\", stacklevel=1)\n"
     ]
    }
   ],
   "source": [
    "# Import necessary libraries\n",
    "import dash\n",
    "from dash import dcc, html\n",
    "from dash.dependencies import Input, Output\n",
    "import random\n",
    "\n",
    "# Initialize the app\n",
    "app = dash.Dash(__name__)\n",
    "\n",
    "# Define the app layout\n",
    "app.layout = html.Div([\n",
    "    html.Button('Flip Coin', id='flip-button', n_clicks=0),\n",
    "    html.Div(id='result-div')\n",
    "])\n",
    "\n",
    "# Define callback to update coin flip result\n",
    "@app.callback(\n",
    "    Output('result-div', 'children'),\n",
    "    [Input('flip-button', 'n_clicks')]\n",
    ")\n",
    "def update_result(n_clicks):\n",
    "    if n_clicks > 0:\n",
    "        coin_sides = ['Heads', 'Tails']\n",
    "        result = random.choice(coin_sides)\n",
    "        return f\"The result is: {result}\"\n",
    "    return \"Press the button to flip the coin.\"\n",
    "\n",
    "# Run the app\n",
    "if __name__ == '__main__':\n",
    "    app.run_server(debug=True)\n"
   ]
  },
  {
   "attachments": {},
   "cell_type": "markdown",
   "metadata": {},
   "source": []
  },
  {
   "cell_type": "code",
   "execution_count": 9,
   "metadata": {
    "ExecuteTime": {
     "end_time": "2018-11-19T19:47:57.736024Z",
     "start_time": "2018-11-19T19:47:57.668891Z"
    },
    "colab": {
     "base_uri": "https://localhost:8080/"
    },
    "id": "zH-raazHuupN",
    "outputId": "ec77db83-cab4-4d0c-93af-fb794a6f35c9"
   },
   "outputs": [
    {
     "name": "stdout",
     "output_type": "stream",
     "text": [
      "[0 0 0 1 1 0 0 1 0 0 0 0 0 0 0 0 0 0 0 0 1 0 0 0 0 0 0 0 1 1 0 0 0 0 0 0 0\n",
      " 0 0 0 0 0 0 1 0 0 0 0 0 0 0 0 0 0 0 0 0 0 0 0 0 0 1 0 1 0 0 0 1 0 1 0 0 0\n",
      " 0 0 0 0 0 1 0 0 0 0 0 0 0 1 0 0 0 0 0 0 0 0 1 0 0 0]\n"
     ]
    }
   ],
   "source": [
    "import numpy as np\n",
    "N = 100\n",
    "p_1 = 0.2\n",
    "x_data = np.random.binomial(1, p_1, (N,))\n",
    "print(x_data)"
   ]
  },
  {
   "cell_type": "code",
   "execution_count": 10,
   "metadata": {
    "colab": {
     "base_uri": "https://localhost:8080/"
    },
    "id": "L0BHyPGCA-Bg",
    "outputId": "b62b4d46-01e0-46d0-b02f-39f58c925785"
   },
   "outputs": [
    {
     "data": {
      "text/plain": [
       "numpy.ndarray"
      ]
     },
     "execution_count": 10,
     "metadata": {},
     "output_type": "execute_result"
    }
   ],
   "source": [
    "type(x_data)"
   ]
  },
  {
   "cell_type": "code",
   "execution_count": 11,
   "metadata": {
    "colab": {
     "base_uri": "https://localhost:8080/"
    },
    "id": "PSUUNpwvBC5p",
    "outputId": "08be3455-753f-41f8-e378-bb42f593964d"
   },
   "outputs": [
    {
     "data": {
      "text/plain": [
       "14"
      ]
     },
     "execution_count": 11,
     "metadata": {},
     "output_type": "execute_result"
    }
   ],
   "source": [
    "x_data.sum()"
   ]
  },
  {
   "cell_type": "code",
   "execution_count": 12,
   "metadata": {
    "id": "D1F4IYAPBe3n"
   },
   "outputs": [],
   "source": [
    "def flip(p, N):\n",
    "    return 'H' if np.random.random() < p else 'T'"
   ]
  },
  {
   "cell_type": "code",
   "execution_count": 13,
   "metadata": {
    "colab": {
     "base_uri": "https://localhost:8080/"
    },
    "id": "XzJTDiPhDa3Z",
    "outputId": "3ca93c4b-d5ee-46ac-a2fc-356221fbb31e"
   },
   "outputs": [
    {
     "data": {
      "text/plain": [
       "0.57"
      ]
     },
     "execution_count": 13,
     "metadata": {},
     "output_type": "execute_result"
    }
   ],
   "source": [
    "flips = [flip(0.5, 150) for i in np.arange(N)]\n",
    "float(flips.count('H'))/N"
   ]
  },
  {
   "cell_type": "code",
   "execution_count": 14,
   "metadata": {
    "colab": {
     "base_uri": "https://localhost:8080/"
    },
    "id": "kAIWehIkMNh7",
    "outputId": "bd67eb4b-82c3-4f8f-b97f-4e5a8bca3ca4"
   },
   "outputs": [
    {
     "data": {
      "text/plain": [
       "0.49"
      ]
     },
     "execution_count": 14,
     "metadata": {},
     "output_type": "execute_result"
    }
   ],
   "source": [
    "flips = [flip(0.5, 150) for i in np.arange(N)]\n",
    "float(flips.count('H'))/N"
   ]
  },
  {
   "cell_type": "code",
   "execution_count": 15,
   "metadata": {
    "colab": {
     "base_uri": "https://localhost:8080/"
    },
    "id": "mQCBOFa9KC6B",
    "outputId": "9b04ba76-99b1-4377-d9de-0deb76d993b9"
   },
   "outputs": [
    {
     "data": {
      "text/plain": [
       "100"
      ]
     },
     "execution_count": 15,
     "metadata": {},
     "output_type": "execute_result"
    }
   ],
   "source": [
    "len(flips)"
   ]
  },
  {
   "cell_type": "code",
   "execution_count": 16,
   "metadata": {
    "colab": {
     "base_uri": "https://localhost:8080/",
     "height": 35
    },
    "id": "VrHs0PudNbs6",
    "outputId": "4796a083-e503-41dc-d0fc-5e1c4c7bc8fd"
   },
   "outputs": [
    {
     "data": {
      "text/plain": [
       "'T'"
      ]
     },
     "execution_count": 16,
     "metadata": {},
     "output_type": "execute_result"
    }
   ],
   "source": [
    "flips[3]"
   ]
  },
  {
   "cell_type": "code",
   "execution_count": 20,
   "metadata": {
    "colab": {
     "base_uri": "https://localhost:8080/",
     "height": 181
    },
    "id": "Fd1AhcH6KL3s",
    "outputId": "7787eea3-fde8-4217-b07c-6e7831d86429"
   },
   "outputs": [
    {
     "name": "stdout",
     "output_type": "stream",
     "text": [
      " w\n"
     ]
    },
    {
     "name": "stdout",
     "output_type": "stream",
     "text": [
      "23\n"
     ]
    }
   ],
   "source": [
    "def remove(string): \n",
    "    return string.replace(\" \", \"\")\n",
    "\n",
    "dict = {'a': '1', \n",
    "    'b': '2',\n",
    "    'c': '3',\n",
    "    'd': '4',\n",
    "    'e': '5',\n",
    "    'f': '6',\n",
    "    'g': '7',\n",
    "    'h': '8',\n",
    "    'i': '9',\n",
    "    'j': '10',\n",
    "    'k': '11',\n",
    "    'l': '12',\n",
    "    'm': '13',\n",
    "    'n': '14',\n",
    "    'o': '15',\n",
    "    'p': '16',\n",
    "    'q': '17',\n",
    "    'r': '18',\n",
    "    's': '19',\n",
    "    't': '20',\n",
    "    'u': '21',\n",
    "    'v': '22',\n",
    "    'w': '23',\n",
    "    'x': '24',\n",
    "    'y': '25',\n",
    "    'z': '26',\n",
    "}\n",
    "\n",
    "word = remove(input(''))\n",
    "\n",
    "for x in word:\n",
    "    print(dict[x])"
   ]
  },
  {
   "cell_type": "code",
   "execution_count": 23,
   "metadata": {
    "id": "aAcYS0sGQRDI"
   },
   "outputs": [
    {
     "name": "stdout",
     "output_type": "stream",
     "text": [
      "23\n"
     ]
    }
   ],
   "source": [
    "index = 0\n",
    "for x in word:\n",
    "   print(dict[word[index]])\n",
    "   index = index + 1"
   ]
  },
  {
   "cell_type": "code",
   "execution_count": 25,
   "metadata": {
    "id": "rH30dNOxEZjq"
   },
   "outputs": [],
   "source": [
    "import matplotlib.pyplot as plt"
   ]
  },
  {
   "cell_type": "code",
   "execution_count": 27,
   "metadata": {
    "id": "C1B9wdQGVEwm"
   },
   "outputs": [],
   "source": [
    "# for inline plots in jupyter\n",
    "%matplotlib inline\n",
    "# import matplotlib\n",
    "import matplotlib.pyplot as plt\n",
    "# for latex equations\n",
    "from IPython.display import Math, Latex\n",
    "# for displaying images\n",
    "from IPython.core.display import Image\n",
    "# import seaborn\n",
    "import seaborn as sns\n",
    "# settings for seaborn plotting style\n",
    "sns.set(color_codes=True)\n",
    "# settings for seaborn plot sizes\n",
    "sns.set(rc={'figure.figsize':(5,5)})"
   ]
  },
  {
   "cell_type": "code",
   "execution_count": 28,
   "metadata": {
    "id": "tYclzQVYHcG_"
   },
   "outputs": [],
   "source": [
    "from scipy.stats import norm\n",
    "# generate random numbers from N(0,1)\n",
    "data_normal = norm.rvs(size=10000,loc=0,scale=1)"
   ]
  },
  {
   "cell_type": "code",
   "execution_count": 29,
   "metadata": {
    "colab": {
     "base_uri": "https://localhost:8080/",
     "height": 410
    },
    "id": "K-zapxVoUtzH",
    "outputId": "9d6734f7-d085-4411-a93e-bdbf24dfa110"
   },
   "outputs": [
    {
     "name": "stderr",
     "output_type": "stream",
     "text": [
      "/Library/Frameworks/Python.framework/Versions/3.10/lib/python3.10/site-packages/seaborn/distributions.py:2619: FutureWarning: `distplot` is a deprecated function and will be removed in a future version. Please adapt your code to use either `displot` (a figure-level function with similar flexibility) or `histplot` (an axes-level function for histograms).\n",
      "  warnings.warn(msg, FutureWarning)\n"
     ]
    },
    {
     "data": {
      "text/plain": [
       "[Text(0.5, 0, 'Normal Distribution'), Text(0, 0.5, 'Frequency')]"
      ]
     },
     "execution_count": 29,
     "metadata": {},
     "output_type": "execute_result"
    },
    {
     "data": {
      "image/png": "[encoded data removed]",
      "text/plain": [
       "<Figure size 360x360 with 1 Axes>"
      ]
     },
     "metadata": {},
     "output_type": "display_data"
    }
   ],
   "source": [
    "ax = sns.distplot(data_normal,\n",
    "                  bins=100,\n",
    "                  kde=True,\n",
    "                  color='skyblue',\n",
    "                  hist_kws={\"linewidth\": 15,'alpha':1})\n",
    "ax.set(xlabel='Normal Distribution', ylabel='Frequency')\n"
   ]
  },
  {
   "cell_type": "code",
   "execution_count": 30,
   "metadata": {
    "id": "VSniG9PbU6Jt"
   },
   "outputs": [],
   "source": [
    "#[Text(0,0.5,u'Frequency'), Text(0.5,0,u'Normal Distribution')]"
   ]
  },
  {
   "attachments": {},
   "cell_type": "markdown",
   "metadata": {
    "id": "MTFHkIJ7X4Tf"
   },
   "source": [
    "https://www.kaggle.com/nowke9/statistics-2-distributions"
   ]
  },
  {
   "cell_type": "code",
   "execution_count": 31,
   "metadata": {
    "id": "7MUzdk9aV4gM"
   },
   "outputs": [],
   "source": [
    "from scipy.stats import bernoulli\n",
    "data_bern = bernoulli.rvs(size=100,p=0.5)"
   ]
  },
  {
   "cell_type": "code",
   "execution_count": 36,
   "metadata": {
    "colab": {
     "base_uri": "https://localhost:8080/",
     "height": 410
    },
    "id": "H46rW4--V6JU",
    "outputId": "a88ee292-bf9f-4492-cfb9-8557bd473799"
   },
   "outputs": [
    {
     "name": "stderr",
     "output_type": "stream",
     "text": [
      "/Library/Frameworks/Python.framework/Versions/3.10/lib/python3.10/site-packages/seaborn/distributions.py:2619: FutureWarning: `distplot` is a deprecated function and will be removed in a future version. Please adapt your code to use either `displot` (a figure-level function with similar flexibility) or `histplot` (an axes-level function for histograms).\n",
      "  warnings.warn(msg, FutureWarning)\n"
     ]
    },
    {
     "data": {
      "text/plain": [
       "[Text(0.5, 0, 'Bernoulli Distribution'), Text(0, 0.5, 'Frequency')]"
      ]
     },
     "execution_count": 36,
     "metadata": {},
     "output_type": "execute_result"
    },
    {
     "data": {
      "image/png": "[encoded data removed]",
      "text/plain": [
       "<Figure size 360x360 with 1 Axes>"
      ]
     },
     "metadata": {},
     "output_type": "display_data"
    }
   ],
   "source": [
    "ax= sns.distplot(data_bern,\n",
    "                 kde=True, #False\n",
    "                 color=\"skyblue\",\n",
    "                 hist_kws={\"linewidth\": 19,'alpha':1})\n",
    "ax.set(xlabel='Bernoulli Distribution', ylabel='Frequency')"
   ]
  },
  {
   "attachments": {},
   "cell_type": "markdown",
   "metadata": {},
   "source": [
    "https://www.datacamp.com/community/tutorials/probability-distributions-python"
   ]
  },
  {
   "attachments": {},
   "cell_type": "markdown",
   "metadata": {
    "id": "kP1jeYGORWJH"
   },
   "source": [
    "**End Test**\n",
    "\n"
   ]
  },
  {
   "attachments": {},
   "cell_type": "markdown",
   "metadata": {
    "id": "MZY3pOhWuupQ"
   },
   "source": [
    "We naturally expect that the empirically observed frequencies also sum to one:"
   ]
  },
  {
   "cell_type": "code",
   "execution_count": 38,
   "metadata": {
    "ExecuteTime": {
     "end_time": "2018-11-19T19:47:57.747061Z",
     "start_time": "2018-11-19T19:47:57.741685Z"
    },
    "id": "V2BBNXqFuupR",
    "outputId": "720e8fff-eae5-43d7-dbc2-d56ee19a8890"
   },
   "outputs": [
    {
     "name": "stdout",
     "output_type": "stream",
     "text": [
      "1.0000000000000004\n"
     ]
    }
   ],
   "source": [
    "frequency_of_zeros, frequency_of_ones = 0, 0\n",
    "for x in x_data:\n",
    "    if x:\n",
    "        frequency_of_ones += 1/n_samples\n",
    "    else:\n",
    "        frequency_of_zeros += 1/n_samples\n",
    "print(frequency_of_ones+frequency_of_zeros)"
   ]
  },
  {
   "cell_type": "code",
   "execution_count": null,
   "metadata": {},
   "outputs": [],
   "source": []
  },
  {
   "attachments": {},
   "cell_type": "markdown",
   "metadata": {
    "id": "IIipfm56uupS"
   },
   "source": [
    "Given that $p_0$ and $p_1$ must be non-negative, all potential probability distributions can be confined to the positive orthant. The normalization constraint further distils all potential distributions to lie on a straight line. The plot that follows graphically represents all conceivable probability distributions derived from biased and unbiased coins."
   ]
  },
  {
   "cell_type": "code",
   "execution_count": 39,
   "metadata": {
    "ExecuteTime": {
     "end_time": "2018-11-19T19:47:58.253755Z",
     "start_time": "2018-11-19T19:47:57.751818Z"
    },
    "id": "3MkQEsyouupU",
    "outputId": "9c4b1b33-f414-445f-9b06-bb9ba4c34c4f"
   },
   "outputs": [
    {
     "data": {
      "text/plain": [
       "[<matplotlib.lines.Line2D at 0x287e01c90>]"
      ]
     },
     "execution_count": 39,
     "metadata": {},
     "output_type": "execute_result"
    },
    {
     "data": {
      "image/png": "[encoded data removed]",
      "text/plain": [
       "<Figure size 432x288 with 1 Axes>"
      ]
     },
     "metadata": {
      "needs_background": "light"
     },
     "output_type": "display_data"
    }
   ],
   "source": [
    "import matplotlib.pyplot as plt\n",
    "%matplotlib inline\n",
    "p_0 = np.linspace(0, 1, 100)\n",
    "p_1 = 1-p_0\n",
    "fig, ax = plt.subplots()\n",
    "ax.set_xlim(-1.2, 1.2)\n",
    "ax.set_ylim(-1.2, 1.2)\n",
    "ax.spines['left'].set_position('center')\n",
    "ax.spines['bottom'].set_position('center')\n",
    "ax.spines['right'].set_color('none')\n",
    "ax.spines['top'].set_color('none')\n",
    "ax.set_xlabel(\"$p_0$\")\n",
    "ax.xaxis.set_label_coords(1.0, 0.5)\n",
    "ax.set_ylabel(\"$p_1$\")\n",
    "ax.yaxis.set_label_coords(0.5, 1.0)\n",
    "plt.plot(p_0, p_1)"
   ]
  },
  {
   "attachments": {},
   "cell_type": "markdown",
   "metadata": {
    "id": "zY3Ujt5SuupV"
   },
   "source": [
    "# The Geometry of Probability Distribution\n",
    "\n",
    "Delving into the geometry of this probability distribution, we see it can also be represented as a vector.\n",
    "\n",
    "$$\\boldsymbol{p}=\\left[\\begin{array}{c}\n",
    "p_{0}\\\\\n",
    "p_{1}\n",
    "\\end{array}\\right]$$ \n",
    "\n",
    "This vector representation is referred to as a stochastic vector. If we transpose these probability values into a column vector (and denote it with an arrow above the P to indicate it's a vector), we find a comparable process in quantum states. Quantum states are generally depicted by a column vector with a notation signifying it as a column vector. All the components are non-negative real values, and their sum equals 1.\n",
    "\n",
    "However, the summation is identical to the summation of the absolute value, considering we are dealing with non-negative numbers. This suggests that we normalize the P vector in the 1-norm, consequently, it's normed to 1 in the 1-norm.\n",
    "\n",
    "$$\\sum_{i}p_{i}=\\sum_{i}\\mid p_{i}\\mid=\\mid\\boldsymbol{p}\\mid_{1}$$\n",
    "\n",
    "This is particularly important as the normalization in quantum states will happen in a different norm. \n",
    "\n",
    "# Stochastic Matrix\n",
    "\n",
    "Lastly, we will inspect how we transform probability distributions. Currently, we possess this stochastic vector and aim to acquire another stochastic vector, subsequently another probability distribution. The transformation applied to this vector should meet certain conditions to ensure this.\n",
    "\n",
    "$$M\\boldsymbol{p}=\\boldsymbol{p}'$$\n",
    "\n",
    "Here, M represents a left-stochastic matrix. $$p_{i}'\\geq0$$\n",
    "\n",
    "$$\\mid\\mid\\boldsymbol{p}\\mid\\mid_{1}=1$$\n",
    "\n",
    "In the case of a left-stochastic matrix (indicating its application to the left of the stochastic vector), the summation of the columns equates to 1. Quantum computations will also involve matrix operations fulfilling certain mathematical properties. They are unitary operations, transforming quantum states, or quantum probabilities, into other quantum states.\n",
    "\n",
    "## Quiz on Classical Probability Distribution\n",
    "\n",
    "**All classical probability distributions of coin flipping lie on...**\n",
    "\n",
    "– A unit circle within the $l_{1}$ norm, restricted to the positive orthant.\n",
    "\n",
    "**You are given a biased 6-sided dice where side 1 has a higher probability than all the other sides. The entropy is...**\n",
    "\n",
    "– Lower than $\\log_{2}6$.\n",
    "\n",
    "**A stochastic matrix**\n",
    "\n",
    "– Transforms a stochastic vector into another stochastic vector.\n",
    "\n",
    "We can also organize the probabilities in a vector:\n",
    "\n",
    "$$\\vec{p} = \\begin{bmatrix} p_0 \\\\ p_1 \\end{bmatrix}$$\n",
    "\n",
    "For ease of notation, we will denote vectors with an arrow above the variable to distinguish them from scalars. Notably, quantum states also have standard notation facilitating convenience and offering more practical advantages than the simple arrow.\n",
    "\n",
    "A vector representing a probability distribution is termed a *stochastic vector*. The normalization constraint fundamentally signifies that the norm of the vector is confined to one within the $l_1$ norm - mathematically expressed as,\n",
    "\n",
    "$$\\mid \\mid \\vec{p}\\mid \\mid_{1} = \\sum_i |p_i| = 1$$ \n",
    "\n",
    "While this corresponds to the unit circle within the $l_1$ norm, the condition $p_i\\geq 0$ restricts us to a quarter of the unit circle, as shown in the above plot. The validity of this can be easily confirmed using the numpy's norm function.\n"
   ]
  },
  {
   "cell_type": "code",
   "execution_count": 40,
   "metadata": {
    "ExecuteTime": {
     "end_time": "2018-11-19T19:47:58.267761Z",
     "start_time": "2018-11-19T19:47:58.257885Z"
    },
    "id": "bqsfbg4nuupW",
    "outputId": "dccf2b04-d4c4-4d60-9885-74fda30e8d62"
   },
   "outputs": [
    {
     "data": {
      "text/plain": [
       "1.0"
      ]
     },
     "execution_count": 40,
     "metadata": {},
     "output_type": "execute_result"
    }
   ],
   "source": [
    "p = np.array([[0.8], [0.2]])\n",
    "np.linalg.norm(p, ord=1)"
   ]
  },
  {
   "cell_type": "code",
   "execution_count": 1,
   "metadata": {},
   "outputs": [
    {
     "name": "stdout",
     "output_type": "stream",
     "text": [
      "start to install package: redis\n",
      "successfully installed package: redis\n",
      "start to install package: redis_om\n",
      "successfully installed package: redis_om\n"
     ]
    }
   ],
   "source": [
    "%load_ext chapyter"
   ]
  },
  {
   "cell_type": "code",
   "execution_count": null,
   "metadata": {},
   "outputs": [],
   "source": []
  },
  {
   "attachments": {},
   "cell_type": "markdown",
   "metadata": {
    "id": "LQ0ISTS6uupX"
   },
   "source": [
    "We know that the probability of heads is just the first element in the $\\vec{p}$, but since it is a vector, we could use linear algebra to extract it. Geometrically, it means that we project the vector to the first axis. This projection is described by the matrix \n",
    "$$\\begin{bmatrix} 1 & 0\\\\0 & 0\\end{bmatrix}$$ \n",
    "The length in the $l_1$ norm gives the sought probability:"
   ]
  },
  {
   "cell_type": "code",
   "execution_count": 41,
   "metadata": {
    "ExecuteTime": {
     "end_time": "2018-11-19T19:47:58.296678Z",
     "start_time": "2018-11-19T19:47:58.272116Z"
    },
    "id": "5FaRPP3TuupZ",
    "outputId": "6d899860-716f-44e4-80ed-7994dbd81b49"
   },
   "outputs": [
    {
     "data": {
      "text/plain": [
       "0.8"
      ]
     },
     "execution_count": 41,
     "metadata": {},
     "output_type": "execute_result"
    }
   ],
   "source": [
    "Π_0 = np.array([[1, 0], [0, 0]])\n",
    "np.linalg.norm(Π_0 @ p, ord=1)"
   ]
  },
  {
   "attachments": {},
   "cell_type": "markdown",
   "metadata": {
    "id": "wcgoNmQAuupa"
   },
   "source": [
    "We can repeat the process to get the probability of tails:"
   ]
  },
  {
   "cell_type": "code",
   "execution_count": 42,
   "metadata": {
    "ExecuteTime": {
     "end_time": "2018-11-19T19:47:58.312414Z",
     "start_time": "2018-11-19T19:47:58.301148Z"
    },
    "id": "8v5TzFXLuupa",
    "outputId": "04f65bc2-8dc3-4d5c-b27f-733ef27ab041"
   },
   "outputs": [
    {
     "data": {
      "text/plain": [
       "0.2"
      ]
     },
     "execution_count": 42,
     "metadata": {},
     "output_type": "execute_result"
    }
   ],
   "source": [
    "Π_1 = np.array([[0, 0], [0, 1]])\n",
    "np.linalg.norm(Π_1 @ p, ord=1)"
   ]
  },
  {
   "attachments": {},
   "cell_type": "markdown",
   "metadata": {
    "id": "IYgqSNmQuupc"
   },
   "source": [
    "The two projections play an equivalent role to the values 0 and 1 when we defined the probability distribution. In fact, we could define a new random variable called $\\Pi$ that can take the projections $\\Pi_0$ and $\\Pi_1$ as values and we would end up with an identical probability distribution. This may sound convoluted and unnatural, but the measurement in quantum mechanics is essentially a random variable that takes operator values, such as projections."
   ]
  },
  {
   "attachments": {},
   "cell_type": "markdown",
   "metadata": {
    "id": "Z5Z5oyYLuupc"
   },
   "source": [
    "What happens when we want to transform a probability distribution to another one? For instance, to change the bias of a coin, or to describe the transition of a Markov chain. Since the probability distribution is also a stochastic vector, we can apply a matrix on the vector, where the matrix has to fulfill certain conditions. A left *stochastic matrix* will map stochastic vectors to stochastic vectors when multiplied from the left: its columns add up to one. In other words, it maps probability distributions to probability distributions. For example, starting with a unbiased coin, the map $M$ will transform the distribution to a biased coin:"
   ]
  },
  {
   "cell_type": "code",
   "execution_count": 43,
   "metadata": {
    "ExecuteTime": {
     "end_time": "2018-11-19T19:47:58.328764Z",
     "start_time": "2018-11-19T19:47:58.316399Z"
    },
    "id": "ni01tQiquupd",
    "outputId": "41dcd894-19ae-4dd1-c9cc-6ea86af14946"
   },
   "outputs": [
    {
     "data": {
      "text/plain": [
       "0.9999999999999999"
      ]
     },
     "execution_count": 43,
     "metadata": {},
     "output_type": "execute_result"
    }
   ],
   "source": [
    "p = np.array([[.5], [.5]])\n",
    "M = np.array([[0.7, 0.6], [0.3, 0.4]])\n",
    "np.linalg.norm(M @ p, ord=1)"
   ]
  },
  {
   "attachments": {},
   "cell_type": "markdown",
   "metadata": {
    "id": "ewNjrNbAuupe"
   },
   "source": [
    "One last concept that will come handy is entropy. A probability distribution's entropy is defined as \n",
    "$$H(p) = - \\sum_i p_i \\log_2 p_i$$ \n",
    "\n",
    "And the plot over all possible probability distributions of coin tosses:\n",
    "\n",
    "## Entropy\n",
    "\n",
    "Now let's pay attention to another concept called **entropy**. Entropy is a characterization of a probability distribution, and tells something about its unpredictability. It peaks at the unbiased coin, which is the uniform distribution and we'll get all outcomes with the same probability. This is the most unpredictable case where in this case, we flip the coin, we have absolutely no predictive power of what the next coin flip is going to give us. Whereas if the coin is biased either way, it has a lower complexity and it becomes easier to make probabilistic predictions about the future outcome."
   ]
  },
  {
   "cell_type": "code",
   "execution_count": 44,
   "metadata": {
    "ExecuteTime": {
     "end_time": "2018-11-19T19:47:58.829415Z",
     "start_time": "2018-11-19T19:47:58.337314Z"
    },
    "id": "EdTxQ_GIuupe",
    "outputId": "9b6bb4ef-c4f8-492a-f433-252df650c7a8"
   },
   "outputs": [
    {
     "data": {
      "text/plain": [
       "<matplotlib.lines.Line2D at 0x287de3e20>"
      ]
     },
     "execution_count": 44,
     "metadata": {},
     "output_type": "execute_result"
    },
    {
     "data": {
      "image/png": "[encoded data removed]",
      "text/plain": [
       "<Figure size 432x288 with 1 Axes>"
      ]
     },
     "metadata": {
      "needs_background": "light"
     },
     "output_type": "display_data"
    }
   ],
   "source": [
    "ϵ = 10e-10\n",
    "p_0 = np.linspace(ϵ, 1-ϵ, 100)\n",
    "p_1 = 1-p_0\n",
    "H = -(p_0*np.log2(p_0) + p_1*np.log2(p_1))\n",
    "fig, ax = plt.subplots()\n",
    "ax.set_xlim(0, 1)\n",
    "ax.set_ylim(0, -np.log2(0.5))\n",
    "ax.set_xlabel(\"$p_0$\")\n",
    "ax.set_ylabel(\"$H$\")\n",
    "plt.plot(p_0, H)\n",
    "plt.axvline(x=0.5, color='k', linestyle='--')"
   ]
  },
  {
   "attachments": {},
   "cell_type": "markdown",
   "metadata": {
    "id": "9NSlYJ_Uuupf"
   },
   "source": [
    "Here we can see that the entropy is maximal for the unbiased coin. This is true in general: the entropy peaks for the uniform distribution. In a sense, this is the most unpredictable distribution: if we get heads with probability 0.2, betting tails is a great idea. On the other hand, if the coin is unbiased, then a deterministic strategy is of little help in winning. Entropy quantifies this notion of surprise and unpredictability."
   ]
  },
  {
   "attachments": {},
   "cell_type": "markdown",
   "metadata": {
    "id": "Wqpq_fzAuupg"
   },
   "source": [
    "# Quantum states\n",
    "\n",
    "# Qubits revisited\n",
    "\n",
    "In the previous we introduced classical probability theories and the stochastic vector, which describes a probability distribution. So, based on that, we can easily introduce quantum states. So a quantum state is just like stochastic vector. You can write it as a column vector. \n",
    "\n",
    "$$\\mathbf{\\mid\\psi\\rangle=\\left[\\begin{array}{c}a_{0}\\\\a_{1}\\end{array}\\right]\\qquad}a\\in\\mathbb{C}$$\n",
    "\n",
    "But the big difference is that you are not restricted to real numbers and nonnegative real numbers, because the entries in this vector are complex values. And the normalization of this vector doesn't happen in the one norm, it happens in the two norm. \n",
    "\n",
    "$$\\Vert\\mid\\psi\\rangle\\Vert_{2}=1$$\n",
    "\n",
    "So it's still normalizing to $1$, but now the square sum of the absolute values of the entries is what adds up to 1, as opposed to just the absolute values adding up to $1$. \n",
    "\n",
    "$$\\mathbf{\\mid\\psi\\rangle=\\left[\\begin{array}{c}a_{0}\\\\a_{1}\\end{array}\\right]\\qquad}a\\in\\mathbb{C}$$\n",
    "\n",
    "This is the simplest possible quantum state. It has two possible outcomes. This is often referred to as a qubit.\n",
    "\n",
    "**Finish**\n",
    "\n",
    "A classical coin is a two-level system: it is either heads or tails. At a first look a quantum state is a probability distribution, and the simplest case is a two-level state, which we call a qubit. Just like the way we can write the probability distribution as a column vector, we can write a quantum state as a column vector. For notational convenience that will become apparent later, we write the label of a quantum state in what is called a ket in the Dirac notation. So for instance, for some qubit, we can write \n",
    "\n",
    "$$\\mid \\psi\\rangle = \\begin{bmatrix}a_0 \\\\ a_1 \\\\\\end{bmatrix}$$\n",
    "\n",
    "In other words, a ket is just a column vector, exactly like the stochastic vector in the classical case. Instead of putting an arrow over the name of the variable to express that it is a vector, we use the ket to say that it is a column vector that represents a quantum state. There's more to this notation, as we will see.\n",
    "\n",
    "The key difference to classical probability distributions and stochastic vectors is the normalization constraint. The square sum of their absolute values adds up to 1:\n",
    "\n",
    "$$\\sqrt{|a_0|^2+|a_1|^2}=1$$\n",
    "\n",
    "where \n",
    "$$a_0, a_1\\in \\mathbb{C}$$ \n",
    "\n",
    "In other words, we are normalizing in the $l_2$ norm instead of the $l_1$ norm. Furthermore, we are no longer restricted to the positive orthant: the components of the quantum state vector, which we call *probability amplitudes*, are complex valued.\n",
    "\n",
    "# Superposition revisited\n",
    "\n",
    "And a superposition is just the expansion of this vector in a basis. For instance, if it expanded in the canonical basis, like this, then we can introduce a notation for the $1 0$ vector and the $0 1$ vector. \n",
    "\n",
    "$$\\mid\\psi\\rangle=\\left[\\begin{array}{c}a_{0}\\\\a_{1}\\end{array}\\right]=a_{0}\\left[\\begin{array}{c}1\\\\0\\end{array}\\right]+a_{1}\\left[\\begin{array}{c}0\\\\1\\end{array}\\right]=a_{0}\\mid0\\rangle+a_{1}\\mid1\\rangle$$\n",
    "\n",
    "Outcome $0$ with probability \n",
    "$$\\mid a_{0}\\mid^{2}$$ \n",
    "\n",
    "state afterwards: \n",
    "$$\\mid0\\rangle$$\n",
    "\n",
    "Now the \n",
    "\n",
    "$$\\left[\\begin{array}{c}1\\\\0\\end{array}\\right]$$ \n",
    "is called the 0 ket \n",
    "$$\\mid0\\rangle$$ \n",
    "\n",
    "And the \n",
    "$$\\left[\\begin{array}{c}0\\\\1\\end{array}\\right]$$ \n",
    "\n",
    "the second basis vector, is called the 1 ket \n",
    "\n",
    "$$\\mid1\\rangle$$ \n",
    "And this notation, the vertical bar, and this little angle, often the name of the vector-- is ket. This gives us the same idea as in a stochastic vector, that we have to put an arrow on top of the vector, that will help us in the syntax of writing calculations on the quantum states. Here \n",
    "\n",
    "$$a_{0}\\mid0\\rangle+a_{1}\\mid1\\rangle$$ \n",
    "\n",
    "is the superposition of the $0$ and the $1 ket$ , with different coefficients $a_{0}$ and $a_{1}$. So these coefficients are called probability amplitudes. They no longer represent probabilities directly, as in the case of a stochastic vector, but it's the absolute value squared of these values what gives you a probability. So, for instance, you get the outcome 0, with probability a0 squared and, similarly, outcome 1, with probability of the absolute value of a1 squared. And, once you get an outcome 0,\n",
    "\n",
    "$$a_{0}\\mid0\\rangle+a_{1}\\mid1\\rangle$$ \n",
    "\n",
    "you know that the state is in the 0 state. And similarly, if you get the outcome 1, afterwards the state is going to be in the state 1. This is called the \"collapse of the wave function.\" A quantum state is also called a wave function. And basically, once you pull out a sample of this distribution and you get an outcome, you make that observation, then you get the deterministic state afterwards, after the random outcome. So you can also think about it in a more geometric way. So now you have a two-dimensional complex space which would take a four dimensions to visualize. But we have this restriction on the degree of freedom. So we can have some three-dimensional object representing these qubit states. \n",
    "\n",
    "\n",
    "\n",
    "Let us introduce two special qubits, corresponding to the canonical basis vectors in two dimensions: \n",
    "$$\\mid 0\\rangle$$ \n",
    "and \n",
    "$$\\mid 1\\rangle$$\n",
    "\n",
    "$$\\mid 0\\rangle = \\begin{bmatrix} 1 \\\\ 0 \\\\ \\end{bmatrix}, \\,\\,\\, \\mid 1\\rangle = \\begin{bmatrix} 0 \\\\ 1 \\\\ \\end{bmatrix}$$\n",
    "\n",
    "This basis is also called the computational basis in quantum computing.\n",
    "\n",
    "We can expand an arbitrary qubit state in this basis:\n",
    "\n",
    "$$\\mid \\psi\\rangle = \\begin{bmatrix}a_0 \\\\ a_1 \\\\ \\end{bmatrix}=a_0\\begin{bmatrix}1 \\\\0 \\\\\\end{bmatrix} + a_1\\begin{bmatrix} 0 \\\\ 1 \\\\ \\end{bmatrix}= a_0 \\mid 0\\rangle+a_1 \\mid 1\\rangle$$\n",
    "\n",
    "This expansion in a basis is called a superposition. If we sample the qubit state, we obtain the outcome 0 with probability $|a_0|^2$, and 1 with probability $|a_1|^2$. This is known as the Born rule; you will learn more about measurements and this rule in a subsequent notebook.\n",
    "\n",
    "For now, let's take a look at how we can simulate classical coin tossing on a quantum computer. Let's start with a completely biased case where we get heads with probability 1. This means that our qubit $|\\psi\\rangle=|0\\rangle$. We create a circuit of a single qubit and a single classical register where the results of the sampling (measurements) go."
   ]
  },
  {
   "attachments": {},
   "cell_type": "markdown",
   "metadata": {},
   "source": []
  },
  {
   "cell_type": "code",
   "execution_count": 45,
   "metadata": {
    "ExecuteTime": {
     "end_time": "2018-11-19T19:47:59.562010Z",
     "start_time": "2018-11-19T19:47:58.831645Z"
    },
    "id": "o_LtUfCouuph",
    "outputId": "2193ec66-dde7-4900-a795-7d2c94b41885"
   },
   "outputs": [],
   "source": [
    "from qiskit import QuantumCircuit, ClassicalRegister, QuantumRegister\n",
    "from qiskit import execute\n",
    "from qiskit import BasicAer\n",
    "from qiskit.tools.visualization import plot_histogram, plot_bloch_multivector\n",
    "\n",
    "import numpy as np\n",
    "π = np.pi\n",
    "\n",
    "backend = BasicAer.get_backend('qasm_simulator')\n",
    "\n",
    "q = QuantumRegister(1)\n",
    "c = ClassicalRegister(1)\n",
    "circuit = QuantumCircuit(q, c)"
   ]
  },
  {
   "attachments": {},
   "cell_type": "markdown",
   "metadata": {
    "id": "51AYpYZOuupi"
   },
   "source": [
    "Any qubit is initialized in $|0\\rangle$, so if we measure it right away, we should get our maximally biased coin."
   ]
  },
  {
   "cell_type": "code",
   "execution_count": 46,
   "metadata": {
    "ExecuteTime": {
     "end_time": "2018-11-19T19:47:59.567831Z",
     "start_time": "2018-11-19T19:47:59.563751Z"
    },
    "id": "by3ExzCDuupi",
    "outputId": "b013dbc0-4d65-4cef-ea54-648260cf2bb1"
   },
   "outputs": [
    {
     "data": {
      "text/plain": [
       "<qiskit.circuit.instructionset.InstructionSet at 0x10f511390>"
      ]
     },
     "execution_count": 46,
     "metadata": {},
     "output_type": "execute_result"
    }
   ],
   "source": [
    "circuit.measure(q, c)"
   ]
  },
  {
   "attachments": {},
   "cell_type": "markdown",
   "metadata": {
    "id": "VzwHwJvmuupj"
   },
   "source": [
    "Let us execute it a hundred times and study the result"
   ]
  },
  {
   "cell_type": "code",
   "execution_count": 47,
   "metadata": {
    "ExecuteTime": {
     "end_time": "2018-11-19T19:47:59.619731Z",
     "start_time": "2018-11-19T19:47:59.569854Z"
    },
    "id": "JAnbTjA2uupk"
   },
   "outputs": [],
   "source": [
    "job = execute(circuit, backend, shots=100)"
   ]
  },
  {
   "cell_type": "code",
   "execution_count": 48,
   "metadata": {
    "ExecuteTime": {
     "end_time": "2018-11-19T19:47:59.632356Z",
     "start_time": "2018-11-19T19:47:59.623850Z"
    },
    "id": "9Pk3OBwTuupk",
    "outputId": "1b6bb54a-761c-4923-e9b7-8a8cbb297b8c"
   },
   "outputs": [
    {
     "data": {
      "text/plain": [
       "{'0': 100}"
      ]
     },
     "execution_count": 48,
     "metadata": {},
     "output_type": "execute_result"
    }
   ],
   "source": [
    "result = job.result()\n",
    "result.get_counts(circuit)"
   ]
  },
  {
   "attachments": {},
   "cell_type": "markdown",
   "metadata": {
    "id": "dI5Ay2_euupl"
   },
   "source": [
    "As expected, all of our outcomes are 0. \n",
    "\n",
    "# Bloch Sphere revisited\n",
    "\n",
    "So this is where the Bloch sphere helps us. So Bloch sphere is this three-dimensional sphere, but with a slightly different geometry than a normal sphere. So here the north pole is identified with the 0 ket, and the south pole is identified with the 1 ket. \n",
    "\n",
    "\n",
    "\n",
    "It's a little bit unusual, because these two basis vectors are actually orthogonal. And it gives an illusion as if they're relying on the same line. So just keep in mind that orthogonality is a little bit different in this sphere. And now every single point on the surface of the sphere is a qubit state \n",
    "\n",
    "$$\\mathbf{\\mid\\psi\\rangle=\\left[\\begin{array}{c}a_{0}\\\\a_{1}\\end{array}\\right]\\qquad}a\\in\\mathbb{C}$$\n",
    "\n",
    "So, basically, you have a much larger representative power. If you compare it, for instance, with classical probability distributions, where every single probability distribution lies on this straight line, as opposed to this large, two-dimensional surface of the Bloch sphere. Now, there are a couple of things that we can do with quantum states which we cannot do, for instance, in classical digital computers. <br> \n",
    "\n",
    "To understand the possible quantum states, we use the Bloch sphere visualization. Since the probability amplitudes are complex and there are two of them for a single qubit, this would require a four-dimensional space. Now since the vectors are normalized, this removes a degree of freedom, allowing a three-dimensional representation with an appropriate embedding. This embedding is the Bloch sphere. It is slightly different than an ordinary sphere in three dimensions: we identify the north pole with the state \n",
    "$$\\mid 0\\rangle$$ \n",
    "and the south pole with $|1\\rangle$. In other words, two orthogonal vectors appear as if they were on the same axis -- the axis Z. The computational basis is just one basis: the axes X and Y represent two other bases. Any point on the surface of this sphere is a valid quantum state. This is also true the other way around: every pure quantum state is a point on the Bloch sphere. Here it 'pure' is an important technical term and it essentially means that the state is described by a ket (column vector). Later in the course we will see other states called mix states that are not described by a ket (you will see later that these are inside the Bloch sphere).\n",
    "\n",
    "To make it less abstract, let's plot our \n",
    "$$\\mid 0\\rangle$$ \n",
    "on the Bloch sphere:"
   ]
  },
  {
   "cell_type": "code",
   "execution_count": 53,
   "metadata": {
    "ExecuteTime": {
     "end_time": "2018-11-19T19:48:00.005920Z",
     "start_time": "2018-11-19T19:47:59.635003Z"
    },
    "id": "penyrHLVuupl",
    "outputId": "7c301a13-e616-4e2f-c987-7439d80983c8"
   },
   "outputs": [
    {
     "data": {
      "image/png": "[encoded data removed]",
      "text/plain": [
       "<Figure size 288x288 with 1 Axes>"
      ]
     },
     "execution_count": 53,
     "metadata": {},
     "output_type": "execute_result"
    }
   ],
   "source": [
    "backend_statevector = BasicAer.get_backend('statevector_simulator')\n",
    "circuit = QuantumCircuit(q, c)\n",
    "#circuit.iden(q[0])\n",
    "#QuantumCircuit.iden(q[0])\n",
    "circuit.id(q[0])\n",
    "job = execute(circuit, backend_statevector)\n",
    "plot_bloch_multivector(job.result().get_statevector(circuit))"
   ]
  },
  {
   "attachments": {},
   "cell_type": "markdown",
   "metadata": {
    "ExecuteTime": {
     "end_time": "2018-11-01T17:22:30.580690Z",
     "start_time": "2018-11-01T17:22:30.567499Z"
    },
    "id": "FfUEeT8Quupm"
   },
   "source": [
    "Compare this sphere with the straight line in the positive orthant that describes all classical probability distributions of coin tosses. You can already see that there is a much richer structure in the quantum probability space.\n",
    "\n",
    "Let us pick another point on the Bloch sphere, that is, another distribution. Let's transform the state \n",
    "$$\\mid 0\\rangle$$ \n",
    "to \n",
    "$$\\frac{1}{\\sqrt{2}}(|0\\rangle + |1\\rangle)$$ \n",
    "This corresponds to the unbiased coin, since we will get 0 with probability \n",
    "$$\\mid\\frac{1}{\\sqrt{2}}|^2=1/2$$ \n",
    "and the other way around. There are many ways to do this transformation. We pick a rotation around the Y axis by $\\pi/2$, which corresponds to the matrix \n",
    "$$\\frac{1}{\\sqrt{2}}\\begin{bmatrix} 1 & -1\\\\1 & 1\\end{bmatrix}$$"
   ]
  },
  {
   "cell_type": "code",
   "execution_count": 54,
   "metadata": {
    "ExecuteTime": {
     "end_time": "2018-11-19T19:48:00.139079Z",
     "start_time": "2018-11-19T19:48:00.008309Z"
    },
    "id": "xQpy_50Euupm",
    "outputId": "fbea9e15-ba12-44b4-f275-8085ebbc480f"
   },
   "outputs": [
    {
     "data": {
      "image/png": "[encoded data removed]",
      "text/plain": [
       "<Figure size 504x360 with 1 Axes>"
      ]
     },
     "execution_count": 54,
     "metadata": {},
     "output_type": "execute_result"
    }
   ],
   "source": [
    "circuit = QuantumCircuit(q, c)\n",
    "circuit.ry(π/2, q[0])\n",
    "circuit.measure(q, c)\n",
    "job = execute(circuit, backend, shots=100)\n",
    "plot_histogram(job.result().get_counts(circuit))"
   ]
  },
  {
   "attachments": {},
   "cell_type": "markdown",
   "metadata": {
    "id": "IxQenprguupo"
   },
   "source": [
    "To get an intuition why it is called a rotation around the Y axis, let's plot it on the Bloch sphere:"
   ]
  },
  {
   "cell_type": "code",
   "execution_count": 55,
   "metadata": {
    "ExecuteTime": {
     "end_time": "2018-11-19T19:48:00.377553Z",
     "start_time": "2018-11-19T19:48:00.141442Z"
    },
    "id": "WHW4NYFMuupp",
    "outputId": "964ef3a7-a501-4f18-faac-47866074f249"
   },
   "outputs": [
    {
     "data": {
      "image/png": "[encoded data removed]",
      "text/plain": [
       "<Figure size 288x288 with 1 Axes>"
      ]
     },
     "execution_count": 55,
     "metadata": {},
     "output_type": "execute_result"
    }
   ],
   "source": [
    "circuit = QuantumCircuit(q, c)\n",
    "circuit.ry(π/2, q[0])\n",
    "job = execute(circuit, backend_statevector)\n",
    "plot_bloch_multivector(job.result().get_statevector(circuit))"
   ]
  },
  {
   "attachments": {},
   "cell_type": "markdown",
   "metadata": {
    "id": "2qTqBJ4suupq"
   },
   "source": [
    "It does exactly what it says: it rotates from the north pole of the Bloch sphere.\n",
    "\n",
    "Why is interesting to have complex probability amplitudes instead of non-negative real numbers? To get some insight, take a look what happens if we apply the same rotation to $|1\\rangle$. To achieve this, first we flip $|0\\rangle$ to $|1\\rangle$ by applying a NOT gate (denoted by X in quantum computing) and then the rotation."
   ]
  },
  {
   "cell_type": "code",
   "execution_count": 56,
   "metadata": {
    "ExecuteTime": {
     "end_time": "2018-11-19T19:48:00.622667Z",
     "start_time": "2018-11-19T19:48:00.379562Z"
    },
    "id": "CX62yCEEuupq",
    "outputId": "b8036eea-5daa-48f2-f209-d59554c501ca"
   },
   "outputs": [
    {
     "data": {
      "image/png": "[encoded data removed]",
      "text/plain": [
       "<Figure size 288x288 with 1 Axes>"
      ]
     },
     "execution_count": 56,
     "metadata": {},
     "output_type": "execute_result"
    }
   ],
   "source": [
    "circuit = QuantumCircuit(q, c)\n",
    "circuit.x(q[0])\n",
    "circuit.ry(π/2, q[0])\n",
    "job = execute(circuit, backend_statevector)\n",
    "plot_bloch_multivector(job.result().get_statevector(circuit))"
   ]
  },
  {
   "attachments": {},
   "cell_type": "markdown",
   "metadata": {
    "id": "aSRosrJ0uupr"
   },
   "source": [
    "We can verify that the result is \n",
    "$$\\frac{1}{\\sqrt{2}}(-|0\\rangle + |1\\rangle)$$ \n",
    "That is, the exact same state as before, except that the first term got a minus sign: it is a negative probability amplitude. Note that the difference cannot be observed from the statistics:"
   ]
  },
  {
   "cell_type": "code",
   "execution_count": 57,
   "metadata": {
    "ExecuteTime": {
     "end_time": "2018-11-19T19:48:00.747978Z",
     "start_time": "2018-11-19T19:48:00.624958Z"
    },
    "id": "yTH_aBnquups",
    "outputId": "637d9122-af31-45ee-e8df-499086be2cec"
   },
   "outputs": [
    {
     "data": {
      "image/png": "[encoded data removed]",
      "text/plain": [
       "<Figure size 504x360 with 1 Axes>"
      ]
     },
     "execution_count": 57,
     "metadata": {},
     "output_type": "execute_result"
    }
   ],
   "source": [
    "circuit.measure(q, c)\n",
    "job = execute(circuit, backend, shots=100)\n",
    "plot_histogram(job.result().get_counts(circuit))"
   ]
  },
  {
   "attachments": {},
   "cell_type": "markdown",
   "metadata": {
    "id": "hQMceUrEuups"
   },
   "source": [
    "# Interference\n",
    "\n",
    "Interference is a strange phenomenon where the different basis vectors and the coefficients interact in your calculations.\n",
    "\n",
    "$$\\frac{1}{\\sqrt{2}}\\left[\\begin{array}{cc}1 & -1\\\\1 & 1\\end{array}\\right]\\mid0\\rangle=\\frac{1}{\\sqrt{2}}\\left[\\begin{array}{cc}1 & -1\\\\1 & 1\\end{array}\\right]\\left[\\begin{array}{c} 1\\\\1\\end{array}\\right]=\\frac{1}{\\sqrt{2}}(\\mid0\\rangle+\\mid1\\rangle)$$\n",
    "\n",
    "So imagine that you act on your 0 ket with this particular matrix. Remember that, in your transform stochastic vectors, with matrices, with stochastic matrices, to ensure that the result is also a stochastic vector, a probability distribution, quantum states are also acted on by these operators, and they fulfill certain conditions that we will learn later. Now, just accept that this is a valid operation, and it transform the 0 ket into the equal superposition of the 0 and the 1 ket. And, if you are acting on the 1 ket, the only difference would be that it would introduce a negative sign to the 0 ket. \n",
    "\n",
    "$$\\frac{1}{\\sqrt{2}}(-\\mid0\\rangle+\\mid1\\rangle$$\n",
    "\n",
    "Interestingly is, if we now take this outcome \n",
    "$$\\frac{1}{\\sqrt{2}}(\\mid0\\rangle+\\mid1\\rangle)$$ \n",
    "and we apply the same operation on it-- that's what we are doing here-- so I take this outcome, and I apply the same operation on it-- then something interesting is happening. So this is a linear operator, so I can pull out the 1 over square root 2 the front, so it simplifies to 1/2. And I can also take the matrix operation basis vector by basis vector in the superposition. \n",
    "\n",
    "$$\\frac{1}{\\sqrt{2}}\\left[\\begin{array}{cc}1 & -1\\\\1 & 1\\end{array}\\right]\\frac{1}{\\sqrt{2}}(\\mid0\\rangle+\\mid1\\rangle)=\\frac{1}{2}\\left(\\mid0\\rangle+\\mid1\\rangle-\\mid0\\rangle+\\mid1\\rangle\\right)$$\n",
    "\n",
    "So I act on the first one. From that, I get the superposition of 0 and 1 $\\mid0\\rangle+\\mid1\\rangle$, just like here, the same thing. And then I have the 1 ket, so I'm going to get this outcome, which we calculated here. And now, if you look at this, these two cancel out \n",
    "\n",
    "$$\\require{cancel}$$ \n",
    "\n",
    "$$\\frac{1}{2}\\left(\\cancel{\\mid0\\rangle}+\\mid1\\rangle-\\cancel{\\mid0\\rangle}+\\mid1\\rangle\\right)$$ \n",
    "\n",
    "Which means that we get a deterministic outcome by applying the operator again. So this is an example of interference. So t he probability amplitudes of the 0 ket destructive interfere, they vanish from the superposition, and you get the deterministic 1 outcome.\n",
    "\n",
    "\n",
    "## Quiz Quantum States\n",
    "\n",
    "- Is \n",
    "$$\\frac{1}{3}\\mid0\\rangle+\\sqrt{\\frac{2}{3}}\\mid1\\rangle$$ \n",
    "a valid quantum state?\n",
    "\n",
    "**False**\n",
    "\n",
    "- In a quantum state, the probability amplitudes are not restricted to the positive orthant. This is what enables interference.\n",
    "\n",
    "**True**\n",
    "\n",
    "- The points on the surface of the Bloch sphere...\n",
    "\n",
    "**are qubit states**\n",
    "\n",
    "It still looks like an approximately unbiased coin. Yet, that negative sign -- or any complex value -- is what models *interference*, a critically important phenomenon where probability amplitudes can interact in a constructive or a destructive way. To see this, if we apply the rotation twice in a row on \n",
    "$$|0\\rangle$$ \n",
    "we get another deterministic output, \n",
    "$$1\\rangle$$\n",
    "although in between the two, it was some superposition. "
   ]
  },
  {
   "cell_type": "code",
   "execution_count": 58,
   "metadata": {
    "ExecuteTime": {
     "end_time": "2018-11-19T19:48:00.906121Z",
     "start_time": "2018-11-19T19:48:00.752622Z"
    },
    "id": "fZ8YTgVruupt",
    "outputId": "f8103c1e-33e4-401e-ce25-2300994182b1"
   },
   "outputs": [
    {
     "data": {
      "image/png": "[encoded data removed]",
      "text/plain": [
       "<Figure size 504x360 with 1 Axes>"
      ]
     },
     "execution_count": 58,
     "metadata": {},
     "output_type": "execute_result"
    }
   ],
   "source": [
    "circuit = QuantumCircuit(q, c)\n",
    "circuit.ry(π/2, q[0])\n",
    "circuit.ry(π/2, q[0])\n",
    "circuit.measure(q, c)\n",
    "job = execute(circuit, backend, shots=100)\n",
    "plot_histogram(job.result().get_counts(circuit))"
   ]
  },
  {
   "attachments": {},
   "cell_type": "markdown",
   "metadata": {
    "id": "UMcIYGPEuupu"
   },
   "source": [
    "Many quantum algorithms exploit interference, for instance, the seminal [Deutsch-Josza algorithm](https://en.wikipedia.org/wiki/Deutsch–Jozsa_algorithm), which is among the simplest to understand its significance."
   ]
  },
  {
   "attachments": {},
   "cell_type": "markdown",
   "metadata": {
    "id": "3yNh4dN7uupv"
   },
   "source": [
    "# More qubits and entanglement\n",
    "\n",
    "# Multiple Qubits revisited\n",
    "\n",
    "Starting with the simplest possible quantum system, a qubit state and try to construct larger probability distributions, or larger states, which are composed of several qubits. Before we go there, we have to introduce a new mathematical operation, a tensor product. Imagine that you have two quantum states, two kets. One has a probability amplitudes a0 a1, and the second one has b0 and b1.\n",
    "\n",
    "$$\\mid\\psi\\rangle=\\left[\\begin{array}{c}a_{0}\\\\a_{1}\\end{array}\\right]$$\n",
    "\n",
    "$$\\mid\\psi'\\rangle=\\left[\\begin{array}{c}b_{0}\\\\b_{1}\\end{array}\\right]$$\n",
    "\n",
    "Now, then, we can define this tensor product as this object.\n",
    "\n",
    "$$|\\psi\\rangle\\otimes|\\psi\\prime\\rangle=\\left[\\begin{array}{c}a_{0}b_{0}\\\\a_{0}b_{1}\\\\a_{1}b_{0}\\\\a_{1}b_{1}\\end{array}\\right]$$\n",
    "\n",
    "First we have \n",
    "$$a_{0} \\otimes b_{0}$$\n",
    "as the first component, and you have \n",
    "$$a_{0} \\otimes b_{1}$$\n",
    "$$a_{1} \\otimes b_{0}$$\n",
    "which is a four-dimensional complex vector. These are independently two-dimensional complex vectors, and here we create a four-dimensional one. And now we can also look at this probability distribution-- has four possible outcomes. We can create a basis, in this space by taking our $0$ ket and take the tensor product of the other $0$ kets. \n",
    "\n",
    "$$\\mid0\\rangle\\otimes\\mid0\\rangle=\\mid0\\rangle\\mid0\\rangle=\\mid00\\rangle=\\left[\\begin{array}{c}1\\\\0\\\\0\\\\0\\end{array}\\right]$$\n",
    "\n",
    "$$\\mid0\\rangle\\otimes\\mid1\\rangle=\\mid0\\rangle\\mid1\\rangle=\\mid01\\rangle=\\left[\\begin{array}{c}0\\\\1\\\\0\\\\0\\end{array}\\right]$$\n",
    "\n",
    "$$\\mid1\\rangle\\otimes\\mid0\\rangle=\\mid1\\rangle\\mid0\\rangle=\\mid11\\rangle=\\left[\\begin{array}{c}0\\\\0\\\\1\\\\0\\end{array}\\right]$$\n",
    "\n",
    "$$\\mid1\\rangle\\otimes\\mid1\\rangle=\\mid1\\rangle\\mid1\\rangle=\\mid11\\rangle=\\left[\\begin{array}{c}0\\\\0\\\\0\\\\1\\end{array}\\right]$$\n",
    "\n",
    "Convention right most qubit is qubit $0$\n",
    "\n",
    "The shorthand notation for this is just dropping the tensor product sign. Even shorter notation is by dropping the two kets, here, and just contracting them into one. And if we calculate the product, then we end up with the first canonical basis vector of the four-dimensional space. The same thing with 0 and 1, 1 0, and 1 1. Noticing that these are the four possibilities, the four canonical basis vectors, in the four-dimensional complex space. There's a very important convention that most quantum-computing libraries out there use, which is that it's the rightmost qubit which is the qubit 0. This would be qubit 0. And then to the left of it would be qubit 1, and so on, and so forth.<br> \n",
    "This is the same order of representing binary values as you would have in most digital computers, and that's why this convention is maintained in these quantum-computing frameworks. These are called \"product states,\" but there are also states which cannot be written in this form, even though they live in the same space. One example is the $\\phi+$ state.\n",
    "\n",
    "$$\\mid\\psi\\rangle\\otimes|\\psi\\prime\\rangle\\in C^{2}\\otimes C^{2}$$\n",
    "\n",
    "It's written as an equal superposition of two basis vectors, 0 0 and 1 1, so it's definitely in the same space as our product vector. \n",
    "\n",
    "$$\\phi^{\\dagger'}=\\frac{1}{\\sqrt{2}}(\\mid00\\rangle+\\mid11\\rangle)\\in C^{2}\\otimes C^{2}$$\n",
    "\n",
    "But it cannot be written as a product vector. And, to see that, let's take a look at the general structure of this product vector. \n",
    "\n",
    "$$\\mid\\psi\\rangle\\otimes|\\psi\\prime\\rangle=\\left[\\begin{array}{c}a_{0}b_{0}\\\\a_{0}b_{1}\\\\a_{1}b_{0}\\\\a_{1}b_{1}\\end{array}\\right]=a_{0}b_{0}\\mid00\\rangle+a_{0}b_{10}\\mid01\\rangle+a_{1}b_{0}\\mid10\\rangle+a_{1}b_{1}\\mid11\\rangle$$\n",
    "\n",
    "We copied the definition of the product vector here and wrote it down in the canonical basis. It would have a0 times b0 times the 0 0 ket, and so on. It has four components. And let us assume that there is some combination of these ai and bj values such that we can write this phi plus state as a product state.\n",
    "\n",
    "$$\\phi^{\\dagger'} = \\mid\\psi\\rangle\\otimes\\mid\\psi\\prime\\rangle$$\n",
    "\n",
    "So this means that, either here we have 0 0 ket with a coefficient 1 over square root 2-- so this equation must be fulfilled. \n",
    "\n",
    "$$a_{0}b_{0}=\\frac{1}{\\sqrt{2}}\\qquad a_{0}b_{1}=0$$\n",
    "\n",
    "$$\\underbrace{a_{0}b_{0}=\\frac{1}{\\sqrt{2}}}_{\\text{Entangled state}}\\qquad a_{1}b_{0}=0$$\n",
    "\n",
    "Similarly, we have the $1 1$ ket with the same coefficient. This condition must be fulfilled. And we also see that there is no 0 1 and 1 0, so the corresponding coefficient must be 0. But now, it means that either a0 or b1 must be 0. a0 cannot be 0, because it multiplies to some known nonzero value, but the same is true for b1. Therefore the state, although it lives in the same space, cannot be written as a product state. Such states are called \"entangled states,\" and they play a very important role in quantum computing, together with interference. So these are the main quantum-mechanical properties that we exploit in quantum calculations, as you will see in subsequent lectures. \n",
    "\n",
    "### Quiz\n",
    "\n",
    "- The $\\mid00\\rangle$ state is the same as...\n",
    "$$\\mid0\\rangle\\otimes\\mid0\\rangle$$\n",
    "\n",
    "– the first basis vector in the canonical basis in four dimensions.\n",
    "\n",
    "$$\\left[\\begin{array}{c}1 \\\\0\\\\0\\\\0\\end{array}\\right]$$\n",
    "\n",
    "Since the basis of \n",
    "$$\\mathbb{C}^{2}\\otimes\\mathbb{C}^{2}$$ \n",
    "is created as product states, all states in this space must be product states.\n",
    "\n",
    "**False**\n",
    "\n",
    "We have already seen that quantum states are probability distributions normed to $1$ in the $l_{2}$ norm and we got a first peek at interference. If we introduce more qubits, we see another crucial quantum effect emerging. To do that, we first have to define how we write down the column vector for describing two qubits. Using a tensor product, which, in the case of qubits, is equivalent to the Kronecker product. Given two qubits, \n",
    "$$\\mid\\psi\\rangle=\\begin{bmatrix}a_0\\\\a_1\\end{bmatrix}$$ \n",
    "and \n",
    "$$\\mid\\psi'\\rangle=\\begin{bmatrix}b_0\\\\b_1\\end{bmatrix}$$ \n",
    "their product is \n",
    "$$\\mid\\psi\\rangle\\otimes\\mid\\psi'\\rangle = \\begin{bmatrix}a_0b_0\\\\ a_0b_1\\\\ a_1b_0\\\\ a_1b_1\\end{bmatrix}$$ \n",
    "Imagine that you have two registers \n",
    "$q_{0}$ and $q_{1}$ \n",
    "each can hold a qubit, and both qubits are in the state \n",
    "$$\\mid 0\\rangle$$\n",
    "Then this composite state would be described by according to this product rule as follows:"
   ]
  },
  {
   "cell_type": "code",
   "execution_count": 59,
   "metadata": {
    "ExecuteTime": {
     "end_time": "2018-11-19T19:48:00.928395Z",
     "start_time": "2018-11-19T19:48:00.913259Z"
    },
    "id": "SZQ4ew07uupw",
    "outputId": "7316d2d2-63a1-42bf-e1f6-623d6a5d2203"
   },
   "outputs": [
    {
     "data": {
      "text/plain": [
       "array([[1],\n",
       "       [0],\n",
       "       [0],\n",
       "       [0]])"
      ]
     },
     "execution_count": 59,
     "metadata": {},
     "output_type": "execute_result"
    }
   ],
   "source": [
    "q0 = np.array([[1], [0]])\n",
    "q1 = np.array([[1], [0]])\n",
    "np.kron(q0, q1)"
   ]
  },
  {
   "attachments": {},
   "cell_type": "markdown",
   "metadata": {
    "id": "vQ3QcyB5uupw"
   },
   "source": [
    "This is the $|0\\rangle\\otimes|0\\rangle$ state, which we often abbreviate as $|00\\rangle$. The states $|01\\rangle$, $|10\\rangle$, and $|11\\rangle$ are defined analogously, and the four of them give the canonical basis of the four dimensional complex space, $\\mathbb{C}^2\\otimes\\mathbb{C}^2$.\n",
    "\n",
    "Now comes the interesting and counter-intuitive part. In machine learning, we also work with high-dimensional spaces, but we never construct it as a tensor product: it is typically $\\mathbb{R}^d$ for some dimension $d$. The interesting part of writing the high-dimensional space as a tensor product is that not all vectors in can be written as a product of vectors in the component space.\n",
    "\n",
    "Take the following state: $|\\phi^+\\rangle = \\frac{1}{\\sqrt{2}}(|00\\rangle+|11\\rangle)$. This vector is clearly in $\\mathbb{C}^2\\otimes\\mathbb{C}^2$, since it is a linear combination of two of the basis vector in this space. Yet, it cannot be written as $|\\psi\\rangle\\otimes|\\psi'\\rangle$ for some $|\\psi\\rangle$, $|\\psi'\\rangle\\in\\mathbb{C}^2$.\n",
    "\n",
    "To see this, assume that it can be written in this form. Then\n",
    "\n",
    "$$\n",
    "|\\phi^+\\rangle = \\frac{1}{\\sqrt{2}}(|00\\rangle+|11\\rangle) = \\begin{bmatrix}a_0b_0\\\\ a_0b_1\\\\ a_1b_0\\\\ a_1b_1\\end{bmatrix} = a_0b_0|00\\rangle + a_0b_1|01\\rangle + a_1b_0|10\\rangle + a_1b_1|11\\rangle.\n",
    "$$\n",
    "\n",
    "$|01\\rangle$ and $|10\\rangle$ do not appear on the left-hand side, so their coefficients must be zero: $a_1b_0=0$ and $a_0b_1=0$. This leads to a contradiction, since $a_1$ cannot be zero ($a_1b_1=1$), so $b_0$ must be zero, but $a_0b_0=1$. Therefore $|\\phi^+\\rangle$ cannot be written as a product.\n",
    "\n",
    "States that cannot be written as a product are called entangled states. This is the mathematical form of describing a phenomenon of strong correlations between random variables that exceed what is possible classically. Entanglement plays a central role in countless quantum algorithms. A simple example is [quantum teleportation](https://en.wikipedia.org/wiki/Quantum_teleportation). We will also see its applications in quantum machine learning protocols.\n",
    "\n",
    "We will have a closer look at entanglement in a subsequent notebook on measurements, but as a teaser, let us look at the measurement statistics of the $|\\phi^+\\rangle$ state. The explanation of the circuit preparing it will also come in a subsequent notebook."
   ]
  },
  {
   "cell_type": "code",
   "execution_count": 60,
   "metadata": {
    "ExecuteTime": {
     "end_time": "2018-11-19T19:48:01.146195Z",
     "start_time": "2018-11-19T19:48:00.930859Z"
    },
    "id": "Ag9eSASGuupx",
    "outputId": "39b30b5e-2dfa-4478-c486-4dda46b8ab64"
   },
   "outputs": [
    {
     "data": {
      "image/png": "[encoded data removed]",
      "text/plain": [
       "<Figure size 504x360 with 1 Axes>"
      ]
     },
     "execution_count": 60,
     "metadata": {},
     "output_type": "execute_result"
    }
   ],
   "source": [
    "q = QuantumRegister(2)\n",
    "c = ClassicalRegister(2)\n",
    "circuit = QuantumCircuit(q, c)\n",
    "circuit.h(q[0])\n",
    "circuit.cx(q[0], q[1])\n",
    "circuit.measure(q, c)\n",
    "job = execute(circuit, backend, shots=100)\n",
    "plot_histogram(job.result().get_counts(circuit))"
   ]
  },
  {
   "attachments": {},
   "cell_type": "markdown",
   "metadata": {
    "id": "7Ze4Jfhjuupy"
   },
   "source": [
    "Notice that 01 or 10 never appear in the measurement statistics."
   ]
  },
  {
   "attachments": {},
   "cell_type": "markdown",
   "metadata": {
    "id": "_OvGk70Quupy"
   },
   "source": [
    "# Further reading\n",
    "\n",
    "Chapter 9 in Quantum Computing since Democritus by Scott Aaronson describes a similar approach to understanding quantum states -- in fact, the interference example was lifted from there."
   ]
  }
 ],
 "metadata": {
  "accelerator": "GPU",
  "colab": {
   "collapsed_sections": [],
   "name": " 1_1_QML_Quantum_Systems:_Classical_And_Quantum Probability_Theory-qiskit.ipynb",
   "provenance": []
  },
  "kernelspec": {
   "display_name": "Python 3 (ipykernel)",
   "language": "python",
   "name": "python3"
  },
  "language_info": {
   "codemirror_mode": {
    "name": "ipython",
    "version": 3
   },
   "file_extension": ".py",
   "mimetype": "text/x-python",
   "name": "python",
   "nbconvert_exporter": "python",
   "pygments_lexer": "ipython3",
   "version": "3.8.18"
  },
  "latex_envs": {
   "LaTeX_envs_menu_present": true,
   "autoclose": false,
   "autocomplete": true,
   "bibliofile": "biblio.bib",
   "cite_by": "apalike",
   "current_citInitial": 1,
   "eqLabelWithNumbers": true,
   "eqNumInitial": 1,
   "hotkeys": {
    "equation": "Ctrl-E",
    "itemize": "Ctrl-I"
   },
   "labels_anchors": false,
   "latex_user_defs": false,
   "report_style_numbering": false,
   "user_envs_cfg": false
  },
  "toc": {
   "base_numbering": 1,
   "nav_menu": {},
   "number_sections": true,
   "sideBar": true,
   "skip_h1_title": false,
   "title_cell": "Table of Contents",
   "title_sidebar": "Contents",
   "toc_cell": false,
   "toc_position": {
    "height": "calc(100% - 180px)",
    "left": "10px",
    "top": "150px",
    "width": "248.390625px"
   },
   "toc_section_display": true,
   "toc_window_display": true
  },
  "widgets": {
   "application/vnd.jupyter.widget-state+json": {
    "state": {},
    "version_major": 2,
    "version_minor": 0
   }
  }
 },
 "nbformat": 4,
 "nbformat_minor": 4
}