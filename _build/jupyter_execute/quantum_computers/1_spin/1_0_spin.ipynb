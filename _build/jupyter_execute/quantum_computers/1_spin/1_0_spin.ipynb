{
 "cells": [
  {
   "cell_type": "markdown",
   "id": "21df0dfc",
   "metadata": {},
   "source": [
    ":::::{grid}\n",
    "::::{grid-item-card}\n",
    ":shadow: lg\n",
    "\n",
    "```{grid-item-card}\n",
    ":shadow: lg\n",
    "![D31](/_static/D31.png)\n",
    "```\n",
    "\n",
    "::::\n",
    ":::::\n",
    "\n",
    "# Spin-Based and Molecular Approaches\n",
    "\n",
    "```{contents}\n",
    ":local:\n",
    ":depth: 5\n",
    "```\n",
    "\n",
    "- **Nitrogen-Vacancy Centers in Diamond:** Using defects in diamond's lattice structure.\n",
    "- **Nuclear Magnetic Resonance (NMR):** Controlling nuclear spins in molecules.\n",
    "- **Molecular Spin Qubits:** Molecules with unpaired electron spins."
   ]
  }
 ],
 "metadata": {
  "jupytext": {
   "formats": "md:myst",
   "text_representation": {
    "extension": ".md",
    "format_name": "myst",
    "format_version": 0.13,
    "jupytext_version": "1.11.5"
   }
  },
  "kernelspec": {
   "display_name": "Python 3",
   "language": "python",
   "name": "python3"
  },
  "language_info": {
   "codemirror_mode": {
    "name": "ipython",
    "version": 3
   },
   "file_extension": ".py",
   "mimetype": "text/x-python",
   "name": "python",
   "nbconvert_exporter": "python",
   "pygments_lexer": "ipython3",
   "version": "3.8.18"
  },
  "source_map": [
   13
  ]
 },
 "nbformat": 4,
 "nbformat_minor": 5
}