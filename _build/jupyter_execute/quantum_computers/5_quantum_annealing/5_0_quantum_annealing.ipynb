{
 "cells": [
  {
   "attachments": {},
   "cell_type": "markdown",
   "metadata": {},
   "source": [
    "# Quantum Annealing "
   ]
  },
  {
   "attachments": {},
   "cell_type": "markdown",
   "metadata": {},
   "source": [
    ":::::{grid}\n",
    "::::{grid-item-card}\n",
    ":shadow: lg\n",
    "\n",
    "```{grid-item-card}\n",
    ":shadow: lg\n",
    "![D46](/_static/D46.png)\n",
    "```\n",
    "\n",
    "::::\n",
    ":::::\n"
   ]
  },
  {
   "cell_type": "code",
   "execution_count": null,
   "metadata": {},
   "outputs": [],
   "source": []
  }
 ],
 "metadata": {
  "language_info": {
   "codemirror_mode": {
    "name": "ipython",
    "version": 3
   },
   "file_extension": ".py",
   "mimetype": "text/x-python",
   "name": "python",
   "nbconvert_exporter": "python",
   "pygments_lexer": "ipython3",
   "version": "3.8.18"
  }
 },
 "nbformat": 4,
 "nbformat_minor": 2
}