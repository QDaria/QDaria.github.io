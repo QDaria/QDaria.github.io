{
 "cells": [
  {
   "cell_type": "markdown",
   "metadata": {
    "id": "8LddfsdPCiMi"
   },
   "source": [
    "# Introduction\n",
    "The prerequisites of this course include linear algebra, calculus, complex numbers, and intermediate-level Python. Nevertheless, it is worth gathering some core concepts in a single notebook as a refresher, and also to serve as a reference. The concepts in this notebook will be used over and over again in the course, so "
   ]
  },
  {
   "cell_type": "code",
   "execution_count": 1,
   "metadata": {
    "id": "s5l-KF_mCiM0"
   },
   "outputs": [],
   "source": [
    "import matplotlib.pyplot as plt\n",
    "import numpy as np\n",
    "%matplotlib inline\n",
    "np.set_printoptions(precision=3, suppress=True)\n",
    "π = np.pi"
   ]
  },
  {
   "cell_type": "markdown",
   "metadata": {
    "id": "pv9xoEFICiM3"
   },
   "source": [
    "Apart from the imports, we also make some changes for convenience. Staring at the many digits of precision of numpy is irrelevant for most of the course, so we suppress anything beyond three digits. Also, we use π to denote π, which is a lot easier to read than `np.pi`."
   ]
  },
  {
   "cell_type": "markdown",
   "metadata": {
    "id": "qF5l-uecCiM4"
   },
   "source": [
    "# Complex numbers\n",
    "Using complex numbers in machine learning is rare, but in quantum mechanics, all spaces use complex numbers. The difference is that a complex number has an imaginary component: a part that is a multiple of $i=\\sqrt{-1}$. Complex numbers are very much an algebraic construct: technically speaking, they are [algebraically closed](https://en.wikipedia.org/wiki/Fundamental_theorem_of_algebra), whereas the real numbers are not. From our perspective, what matters is that they enable us to model effects like interference. We denote the set of complex numbers by $\\mathbb{C}$.\n",
    "\n",
    "The imaginary number $i$ in Python is denoted by `1j`. We can quickly check that it indeed squares to -1:"
   ]
  },
  {
   "cell_type": "code",
   "execution_count": 2,
   "metadata": {
    "id": "pOz002s6CiM5",
    "outputId": "305dc68e-f8f6-420f-f10c-c52285a91a85"
   },
   "outputs": [
    {
     "data": {
      "text/plain": [
       "(-1+0j)"
      ]
     },
     "execution_count": 2,
     "metadata": {},
     "output_type": "execute_result"
    }
   ],
   "source": [
    "1j**2"
   ]
  },
  {
   "cell_type": "markdown",
   "metadata": {
    "id": "uIEnlLDXCiM8"
   },
   "source": [
    "A generic complex number has both real and imaginary parts:"
   ]
  },
  {
   "cell_type": "code",
   "execution_count": 3,
   "metadata": {
    "id": "7UHcB1DGCiM9",
    "outputId": "c686bf44-ef7a-432e-a1ab-80ad30027eb1"
   },
   "outputs": [
    {
     "name": "stdout",
     "output_type": "stream",
     "text": [
      "Type of x: <class 'complex'>\n",
      "Real part of x: 2.3\n",
      "Imaginary part of x: 5.1\n"
     ]
    }
   ],
   "source": [
    "x = 2.3 + 5.1j\n",
    "print(\"Type of x:\", type(x))\n",
    "print(\"Real part of x:\", x.real)\n",
    "print(\"Imaginary part of x:\", x.imag)"
   ]
  },
  {
   "cell_type": "markdown",
   "metadata": {
    "id": "inNBHsCmCiM_"
   },
   "source": [
    "You can think of a complex number as a point on the plane. After all, it is described by two real numbers: the actual real part, and the real coefficient that multiplies the imaginary number. We define a simple function to plot complex numbers:"
   ]
  },
  {
   "cell_type": "code",
   "execution_count": 4,
   "metadata": {
    "id": "FVyd6P6zCiNA",
    "outputId": "2362171f-7c52-465f-e127-38e579e852d5"
   },
   "outputs": [
    {
     "data": {
      "image/png": "[encoded data removed]",
      "text/plain": [
       "<Figure size 432x288 with 1 Axes>"
      ]
     },
     "metadata": {
      "needs_background": "light"
     },
     "output_type": "display_data"
    }
   ],
   "source": [
    "def plot_complex(a):\n",
    "    for x in range(len(a)):\n",
    "        plt.plot([0,a[x].real], [0,a[x].imag], 'r-o')\n",
    "    plt.axhline(y=0, color='k')\n",
    "    plt.axvline(x=0, color='k')\n",
    "    plt.ylabel('Imaginary')\n",
    "    plt.xlabel('Real')\n",
    "    limit = np.max(np.ceil(np.absolute(a)))\n",
    "    plt.xlim((-limit,limit))\n",
    "    plt.ylim((-limit,limit))    \n",
    "    plt.show()\n",
    "\n",
    "plot_complex([x])"
   ]
  },
  {
   "cell_type": "markdown",
   "metadata": {
    "id": "uEFCkYlzCiNC"
   },
   "source": [
    "The absolute value of a complex numbers is the distance between the point and the origin:"
   ]
  },
  {
   "cell_type": "code",
   "execution_count": 5,
   "metadata": {
    "id": "mo0mpINqCiNC",
    "outputId": "00b75e15-d0c7-4589-ecb2-69300b4a8b0a"
   },
   "outputs": [
    {
     "data": {
      "text/plain": [
       "5.594640292279745"
      ]
     },
     "execution_count": 5,
     "metadata": {},
     "output_type": "execute_result"
    }
   ],
   "source": [
    "abs(x)"
   ]
  },
  {
   "cell_type": "markdown",
   "metadata": {
    "id": "_bBzzvvQCiND"
   },
   "source": [
    "In fact, the absolute value $r$ and the angle $\\varphi$ with the x axis are also sufficient to describe a complex number. This leads to writing the complex number as $z=re^{i\\varphi}$. In quantum mechanics, we often write complex numbers in the exponential form and call the angle $\\varphi$ a phase."
   ]
  },
  {
   "cell_type": "code",
   "execution_count": 6,
   "metadata": {
    "id": "VprtCUmCCiNE",
    "outputId": "ac55c9dc-3a0f-4dca-80b5-22165420d6e4"
   },
   "outputs": [
    {
     "data": {
      "text/plain": [
       "True"
      ]
     },
     "execution_count": 6,
     "metadata": {},
     "output_type": "execute_result"
    }
   ],
   "source": [
    "r = abs(x)\n",
    "φ = np.arctan2(x.imag, x.real)\n",
    "z = r*np.exp(1j*φ)\n",
    "z == x"
   ]
  },
  {
   "cell_type": "markdown",
   "metadata": {
    "id": "j9tX0WCfCiNF"
   },
   "source": [
    "Complex conjugation flips the sign of the imaginary number, that is, $x=a+bi$ becomes $x^*=a-bi$."
   ]
  },
  {
   "cell_type": "code",
   "execution_count": 7,
   "metadata": {
    "id": "VTtFPBBkCiNG",
    "outputId": "ada14640-6cf1-465d-b4b9-cd36c052b350"
   },
   "outputs": [
    {
     "name": "stdout",
     "output_type": "stream",
     "text": [
      "(2.3-5.1j)\n"
     ]
    },
    {
     "data": {
      "image/png": "[encoded data removed]",
      "text/plain": [
       "<Figure size 432x288 with 1 Axes>"
      ]
     },
     "metadata": {
      "needs_background": "light"
     },
     "output_type": "display_data"
    }
   ],
   "source": [
    "print(x.conjugate())\n",
    "plot_complex([x.conjugate()])"
   ]
  },
  {
   "cell_type": "markdown",
   "metadata": {
    "id": "kz2RpuyPCiNG"
   },
   "source": [
    "# Vectors\n",
    "Linear spaces are ubiquitous in machine learning, and they also provide the foundation to the formalism of quantum mechanics. However, unlike in machine learning and many other disciplines where linear space are common, the vectors are over complex spaces. Here is an example of a two-dimensional complex vector, that is, an element of $\\mathbb{C}^2$:"
   ]
  },
  {
   "cell_type": "code",
   "execution_count": 8,
   "metadata": {
    "id": "yST-DJ3qCiNH",
    "outputId": "78e50235-36dd-43e1-8809-081e699fabce"
   },
   "outputs": [
    {
     "data": {
      "text/plain": [
       "array([[1.+2.j],\n",
       "       [2.+2.j]])"
      ]
     },
     "execution_count": 8,
     "metadata": {},
     "output_type": "execute_result"
    }
   ],
   "source": [
    "a = np.array([[1+2j], [2+2j]])\n",
    "a"
   ]
  },
  {
   "cell_type": "markdown",
   "metadata": {
    "id": "NUP00QS-CiNI"
   },
   "source": [
    "By convention, we write vectors as column vectors.\n",
    "\n",
    "Since a complex number is described by two real numbers, even a two dimensional complex number would require four spatial dimensions if we wanted to plot it. Visual intuition is very limited when we deal even with low-dimensional complex spaces.\n",
    "\n",
    "We can transpose complex vectors just like real vectors, but it is more interesting to take their conjugate transpose (also called Hermitian transpose or adjoint), which is a transposition followed by taking the complex conjugate of each element. We will denote the complex conjugation of a vector by $\\dagger$. With this, a vector $a=\\begin{pmatrix}a_1\\\\ a_2\\end{pmatrix}$ becomes $a^\\dagger=\\begin{pmatrix}a_1^* & a_2^*\\end{pmatrix}$."
   ]
  },
  {
   "cell_type": "code",
   "execution_count": 9,
   "metadata": {
    "id": "gUR282xOCiNJ",
    "outputId": "e80fcd6a-c71a-439b-cf4f-c9bd49ac8ee2"
   },
   "outputs": [
    {
     "data": {
      "text/plain": [
       "array([[1.-2.j, 2.-2.j]])"
      ]
     },
     "execution_count": 9,
     "metadata": {},
     "output_type": "execute_result"
    }
   ],
   "source": [
    "a.T.conj()"
   ]
  },
  {
   "cell_type": "markdown",
   "metadata": {
    "id": "3OHgXCJICiNK"
   },
   "source": [
    "The product of a row vector with a column vector is a scalar, which we call the inner or dot product. In `numpy`, you can use the `.dot` method of an array, or the symbol `@` to calculate the inner product."
   ]
  },
  {
   "cell_type": "code",
   "execution_count": 10,
   "metadata": {
    "id": "2U5zAzM8CiNK",
    "outputId": "45abf939-05b2-4bad-db73-027c68428074"
   },
   "outputs": [
    {
     "data": {
      "text/plain": [
       "array([[4.1-3.8j]])"
      ]
     },
     "execution_count": 10,
     "metadata": {},
     "output_type": "execute_result"
    }
   ],
   "source": [
    "b = np.array([[0.1], [2j]])\n",
    "b.T.conj() @ a"
   ]
  },
  {
   "cell_type": "markdown",
   "metadata": {
    "id": "iyvVYgHNCiNL"
   },
   "source": [
    "It is the inner product that allows us to talk about notions like angle between the vectors, orthogonality, and overlap. For instance, orthogonal vectors have zero overlap:"
   ]
  },
  {
   "cell_type": "code",
   "execution_count": 11,
   "metadata": {
    "id": "Srv2OaJNCiNM",
    "outputId": "6705ef52-a20a-4d93-e26e-11395cc2ddca"
   },
   "outputs": [
    {
     "data": {
      "text/plain": [
       "array([[0]])"
      ]
     },
     "execution_count": 11,
     "metadata": {},
     "output_type": "execute_result"
    }
   ],
   "source": [
    "c = np.array([[1], [0]])\n",
    "d = np.array([[0], [1]])\n",
    "c.T.conj() @ d"
   ]
  },
  {
   "cell_type": "markdown",
   "metadata": {
    "id": "rQHQD8y3CiNN"
   },
   "source": [
    "The inner product also induces a norm: taking the inner product of the vector with its own conjugate transpose measures its own overlap with itself. In other words, it has something to do with its length. The $l_2$-norm is just the square root of the inner product of the vector with itself:"
   ]
  },
  {
   "cell_type": "code",
   "execution_count": 12,
   "metadata": {
    "id": "q6BilfLaCiNO",
    "outputId": "af1feb68-7266-4cd5-ba5a-5ce2a3e6867d"
   },
   "outputs": [
    {
     "name": "stdout",
     "output_type": "stream",
     "text": [
      "The square of the l2 norm of a: 12.999999999999998\n",
      "The same thing calculated as an inner product: [[13.+0.j]]\n"
     ]
    }
   ],
   "source": [
    "print(\"The square of the l2 norm of a:\", np.linalg.norm(a)**2)\n",
    "print(\"The same thing calculated as an inner product:\", a.T.conj() @ a)"
   ]
  },
  {
   "cell_type": "markdown",
   "metadata": {
    "id": "f8BXplQiCiNP"
   },
   "source": [
    "Apart from the $l_2$-norm, the $l_0$- and $l_1$-norms are also frequently used. The $l_0$-norm counts the number of nonzero elements of a vector. For instance, by imposing a regularizer on a neural network that adds a penalty in the $l_0$-norm of the weights, we increase sparsity in the network by forcing many entries to zero."
   ]
  },
  {
   "cell_type": "code",
   "execution_count": 13,
   "metadata": {
    "id": "Ix9CMM31CiNQ",
    "outputId": "bc66be34-90a2-4a80-97ec-8e9eb5123f32"
   },
   "outputs": [
    {
     "data": {
      "text/plain": [
       "(array([2]), array([1]))"
      ]
     },
     "execution_count": 13,
     "metadata": {},
     "output_type": "execute_result"
    }
   ],
   "source": [
    "sum(a != 0), sum(c != 0)"
   ]
  },
  {
   "cell_type": "markdown",
   "metadata": {
    "id": "RNEbzsdnCiNR"
   },
   "source": [
    "The $l_1$-norm is the sum of the absolute values of the elements of the vector:"
   ]
  },
  {
   "cell_type": "code",
   "execution_count": 14,
   "metadata": {
    "id": "vurKxmv2CiNR",
    "outputId": "cc12117d-f922-47a0-ba66-be929a1558f9"
   },
   "outputs": [
    {
     "data": {
      "text/plain": [
       "5.06449510224598"
      ]
     },
     "execution_count": 14,
     "metadata": {},
     "output_type": "execute_result"
    }
   ],
   "source": [
    "np.linalg.norm(a, ord=1)"
   ]
  },
  {
   "cell_type": "markdown",
   "metadata": {
    "id": "t01cFAUQCiNS"
   },
   "source": [
    "As an exercise, it is worth drawing the unit circle in each of these three norms to get a better intuition at the difference between them.\n",
    "\n",
    "If you are coming from a computer science background, tensor products might take while to get used to. We only work in finite-dimensional spaces, so the tensor product for us is identical to the Kronecker product. For two two-dimensional vectors $a=\\begin{pmatrix}a_1\\\\ a_2\\end{pmatrix}$ and $b=\\begin{pmatrix}b_1\\\\ b_2\\end{pmatrix}$, it is defined as $a\\otimes b=\\begin{pmatrix}a_1b_1\\\\a_1b_2\\\\a_2b_1\\\\ a_2b_2\\end{pmatrix}$. For instance:"
   ]
  },
  {
   "cell_type": "code",
   "execution_count": 15,
   "metadata": {
    "id": "sjmEqyYiCiNS",
    "outputId": "4f1f9e55-9b31-4f7d-bfc7-a390e6a3c72e"
   },
   "outputs": [
    {
     "data": {
      "text/plain": [
       "array([[0],\n",
       "       [1],\n",
       "       [0],\n",
       "       [0]])"
      ]
     },
     "execution_count": 15,
     "metadata": {},
     "output_type": "execute_result"
    }
   ],
   "source": [
    "np.kron(c, d)"
   ]
  },
  {
   "cell_type": "markdown",
   "metadata": {
    "id": "E7ZQj5MwCiNV"
   },
   "source": [
    "This vector is an element of the tensor product of the two spaces where $a$ and $b$ lie, that is, $a\\otimes b\\in\\mathbb{C}^2\\otimes\\mathbb{C}^2$. Why not just say $\\mathbb{C}^4$? The fine tensor product structure of the space is of major importance in quantum computation, as you will see."
   ]
  },
  {
   "cell_type": "markdown",
   "metadata": {
    "id": "qjqBrQRkCiNW"
   },
   "source": [
    "# Matrices\n",
    "Matrices, just like vectors, form linear spaces. The matrices we encounter in quantum computing are complex-valued, just like the vectors. For instance:"
   ]
  },
  {
   "cell_type": "code",
   "execution_count": 16,
   "metadata": {
    "id": "FRht7ngCCiNX",
    "outputId": "e1958353-d4a1-4d50-bd6f-3a3ee17f22a1"
   },
   "outputs": [
    {
     "data": {
      "text/plain": [
       "array([[1.+2.j, 2.+0.j],\n",
       "       [0.+1.j, 3.+4.j]])"
      ]
     },
     "execution_count": 16,
     "metadata": {},
     "output_type": "execute_result"
    }
   ],
   "source": [
    "A = np.array([[1+2j, 2], [1j, 3+4j]])\n",
    "A"
   ]
  },
  {
   "cell_type": "markdown",
   "metadata": {
    "id": "WsKkV8CnCiNY"
   },
   "source": [
    "The conjugate transpose works just the same way as for vectors:"
   ]
  },
  {
   "cell_type": "code",
   "execution_count": 17,
   "metadata": {
    "id": "0wH-YhZ2CiNZ",
    "outputId": "2119ee07-4a9c-428e-ceb8-882bada8a96f"
   },
   "outputs": [
    {
     "data": {
      "text/plain": [
       "array([[1.-2.j, 0.-1.j],\n",
       "       [2.-0.j, 3.-4.j]])"
      ]
     },
     "execution_count": 17,
     "metadata": {},
     "output_type": "execute_result"
    }
   ],
   "source": [
    "A.T.conj()"
   ]
  },
  {
   "cell_type": "markdown",
   "metadata": {
    "id": "zNIfZFbCCiNa"
   },
   "source": [
    "We can apply a matrix to a vector:"
   ]
  },
  {
   "cell_type": "code",
   "execution_count": 18,
   "metadata": {
    "id": "EeBwDWocCiNa",
    "outputId": "727eb36a-2ba3-4e1b-afdf-f6088bc8c123"
   },
   "outputs": [
    {
     "data": {
      "text/plain": [
       "array([[ 1. +8.j],\n",
       "       [-4.+15.j]])"
      ]
     },
     "execution_count": 18,
     "metadata": {},
     "output_type": "execute_result"
    }
   ],
   "source": [
    "A @ a"
   ]
  },
  {
   "cell_type": "markdown",
   "metadata": {
    "id": "Mt2h-HTrCiNb"
   },
   "source": [
    "We can also construct matrices by vectors. We saw that the inner product is the multiplication of a row vector with a column vector. If we multiply a column vector with a row vector, we get a matrix:"
   ]
  },
  {
   "cell_type": "code",
   "execution_count": 19,
   "metadata": {
    "id": "Oox-1RwICiNb",
    "outputId": "10eef6cb-2f7e-4fac-a6d4-17e5200fe414"
   },
   "outputs": [
    {
     "data": {
      "text/plain": [
       "array([[5.+0.j, 6.+2.j],\n",
       "       [6.-2.j, 8.+0.j]])"
      ]
     },
     "execution_count": 19,
     "metadata": {},
     "output_type": "execute_result"
    }
   ],
   "source": [
    "a @ a.T.conj()"
   ]
  },
  {
   "cell_type": "markdown",
   "metadata": {
    "id": "mWmvYrFYCiNc"
   },
   "source": [
    "The eigendecomposition of a matrix gives you its eigenvalues $\\lambda$ and the corresponding eigenvectors:"
   ]
  },
  {
   "cell_type": "code",
   "execution_count": 20,
   "metadata": {
    "id": "xI71nI31CiNf"
   },
   "outputs": [],
   "source": [
    "λs, eigenvectors = np.linalg.eig(A)"
   ]
  },
  {
   "cell_type": "markdown",
   "metadata": {
    "id": "aGfxyTGsCiNf"
   },
   "source": [
    "The eigenvalues of the matrix are also called its spectrum. The spectrum is of central interest in quantum mechanics. For instance, the spectrum of a specific matrix called Hamiltonian gives you the discrete energy levels that the quantum system can take."
   ]
  },
  {
   "cell_type": "markdown",
   "metadata": {
    "id": "6AJccRSFCiNg"
   },
   "source": [
    "Matrices often have some interesting properties. For instance, they can be symmetric, that is, they equal their transpose. Since we work with complex-valued matrices, we are interested in generalizing this to the complex conjugate. If a matrix equals its complex conjugate, it is called Hermitian (or self-adjoint). Hermitian matrices are ubiquitous in quantum mechanics: the Hamiltonian we just referred to is Hermitian, so are density matrices that represent quantum states, and measurements we make on the system. All of these concepts will be introduced in the course. Our example matrix is not Hermitian:"
   ]
  },
  {
   "cell_type": "code",
   "execution_count": 21,
   "metadata": {
    "id": "Q9FvQaK1CiNh",
    "outputId": "709081f2-773b-4ea8-a357-ebe933036065"
   },
   "outputs": [
    {
     "data": {
      "text/plain": [
       "False"
      ]
     },
     "execution_count": 21,
     "metadata": {},
     "output_type": "execute_result"
    }
   ],
   "source": [
    "np.all(A == A.T.conj())"
   ]
  },
  {
   "cell_type": "markdown",
   "metadata": {
    "id": "UrVwgOgyCiNh"
   },
   "source": [
    "But the one we obtained from the vector $a$ is:"
   ]
  },
  {
   "cell_type": "code",
   "execution_count": 22,
   "metadata": {
    "id": "vv0P_oxnCiNi",
    "outputId": "4adffea5-d88f-4a02-a8e7-fa42f9179fcc"
   },
   "outputs": [
    {
     "data": {
      "text/plain": [
       "True"
      ]
     },
     "execution_count": 22,
     "metadata": {},
     "output_type": "execute_result"
    }
   ],
   "source": [
    "B = a @ a.T.conj()\n",
    "np.all(B == B.T.conj())"
   ]
  },
  {
   "cell_type": "markdown",
   "metadata": {
    "id": "BLV2vSpRCiNi"
   },
   "source": [
    "An $n\\times n$ Hermitian matrix $M$ is positive semidefinite if the scalar $z^* M z$ is non-negative for every non-zero column vector $z$ of $n$ elements. $M$ is positive semidefinite if and only if all of its eigenvalues are non-negative. For instance, $B$ is positive semidefinite:"
   ]
  },
  {
   "cell_type": "code",
   "execution_count": 23,
   "metadata": {
    "id": "fTe0gYNiCiNj",
    "outputId": "7b5e9311-d8dd-48c7-808f-6fa4de9564e0"
   },
   "outputs": [
    {
     "data": {
      "text/plain": [
       "array([ 0.-0.j, 13.-0.j])"
      ]
     },
     "execution_count": 23,
     "metadata": {},
     "output_type": "execute_result"
    }
   ],
   "source": [
    "np.linalg.eigvals(B)"
   ]
  },
  {
   "cell_type": "markdown",
   "metadata": {
    "id": "ymLqkSQvCiNj"
   },
   "source": [
    "Density matrices and measurement operators are always positive semidefinite matrices.\n",
    "\n",
    "One last property is the unitary nature. A matrix $U$ is unitary if its inverse is its complex conjugate, that is, $UU^\\dagger=U^\\dagger U=\\mathbb{1}$. For instance, the matrix $\\begin{pmatrix} 0 & 1\\\\1 & 0\\end{pmatrix}$ is unitary:"
   ]
  },
  {
   "cell_type": "code",
   "execution_count": 24,
   "metadata": {
    "id": "Y66Eu-_XCiNk",
    "outputId": "2f00c1d4-19be-4947-a48f-6c3b664a45bd"
   },
   "outputs": [
    {
     "name": "stdout",
     "output_type": "stream",
     "text": [
      "[[1 0]\n",
      " [0 1]]\n",
      "[[1 0]\n",
      " [0 1]]\n"
     ]
    }
   ],
   "source": [
    "U = np.array([[0, 1], [1, 0]])\n",
    "print(U @ U.T.conj())\n",
    "print(U.T.conj() @ U)"
   ]
  },
  {
   "cell_type": "markdown",
   "metadata": {
    "id": "kg7FjkVXCiNl"
   },
   "source": [
    "As you will see, computation in a perfect quantum computer is described by unitary matrices.\n",
    "\n",
    "Functions of matrices are usually not trivial to calculate. For instance, a common operation is matrix exponentiation. Given some matrices $M$ and $N$, we are interested in $\\exp(MN)$. In general, the product rule does not apply, that is, we cannot say that $\\exp(MN)$ equals $\\exp(M)\\exp(N)$. A common trick is called Trotterization, where $\\exp(MN)$ is approximated by some product of operators. The concept is of critical importance in contemporary quantum computers where we use various tricks to run algorithms despite noise and poor coherence times. "
   ]
  },
  {
   "cell_type": "markdown",
   "metadata": {
    "id": "PFskEK3vCiNn"
   },
   "source": [
    "Finally, we can also take tensor products of matrices, just like in the case of vectors:"
   ]
  },
  {
   "cell_type": "code",
   "execution_count": 25,
   "metadata": {
    "id": "eCQAk1QmCiNn",
    "outputId": "d922160d-21f0-4b9c-cddb-8fd9906319e1"
   },
   "outputs": [
    {
     "data": {
      "text/plain": [
       "array([[ 5.+10.j,  2.+14.j, 10. +0.j, 12. +4.j],\n",
       "       [10.+10.j,  8.+16.j, 12. -4.j, 16. +0.j],\n",
       "       [ 0. +5.j, -2. +6.j, 15.+20.j, 10.+30.j],\n",
       "       [ 2. +6.j,  0. +8.j, 26.+18.j, 24.+32.j]])"
      ]
     },
     "execution_count": 25,
     "metadata": {},
     "output_type": "execute_result"
    }
   ],
   "source": [
    "np.kron(A, B)"
   ]
  },
  {
   "cell_type": "code",
   "execution_count": null,
   "metadata": {
    "id": "3q85kvnpCiNo"
   },
   "outputs": [],
   "source": []
  }
 ],
 "metadata": {
  "colab": {
   "collapsed_sections": [],
   "name": "02_QML_Fundamental_Concepts_in_Machine_Learning.ipynb",
   "provenance": []
  },
  "kernelspec": {
   "display_name": "Python 3 (ipykernel)",
   "language": "python",
   "name": "python3"
  },
  "language_info": {
   "codemirror_mode": {
    "name": "ipython",
    "version": 3
   },
   "file_extension": ".py",
   "mimetype": "text/x-python",
   "name": "python",
   "nbconvert_exporter": "python",
   "pygments_lexer": "ipython3",
   "version": "3.10.4"
  },
  "latex_envs": {
   "LaTeX_envs_menu_present": true,
   "autoclose": false,
   "autocomplete": true,
   "bibliofile": "biblio.bib",
   "cite_by": "apalike",
   "current_citInitial": 1,
   "eqLabelWithNumbers": true,
   "eqNumInitial": 1,
   "hotkeys": {
    "equation": "Ctrl-E",
    "itemize": "Ctrl-I"
   },
   "labels_anchors": false,
   "latex_user_defs": false,
   "report_style_numbering": false,
   "user_envs_cfg": false
  },
  "toc": {
   "base_numbering": 1,
   "nav_menu": {},
   "number_sections": true,
   "sideBar": true,
   "skip_h1_title": false,
   "title_cell": "Table of Contents",
   "title_sidebar": "Contents",
   "toc_cell": false,
   "toc_position": {},
   "toc_section_display": true,
   "toc_window_display": false
  },
  "widgets": {
   "application/vnd.jupyter.widget-state+json": {
    "state": {},
    "version_major": 2,
    "version_minor": 0
   }
  }
 },
 "nbformat": 4,
 "nbformat_minor": 4
}
