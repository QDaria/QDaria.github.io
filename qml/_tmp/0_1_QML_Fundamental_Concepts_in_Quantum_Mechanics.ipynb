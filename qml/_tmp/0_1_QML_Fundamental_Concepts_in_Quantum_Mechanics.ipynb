{
 "cells": [
  {
   "cell_type": "code",
   "execution_count": 4,
   "metadata": {
    "colab": {
     "base_uri": "https://localhost:8080/"
    },
    "id": "Du_hXfFUrnye",
    "outputId": "0b00ddca-8bfe-4744-ff7f-b5ec7488ff9d"
   },
   "outputs": [
    {
     "name": "stdout",
     "output_type": "stream",
     "text": [
      "Collecting qiskit==0.16.1\n",
      "  Using cached qiskit-0.16.1.tar.gz (3.9 kB)\n",
      "Collecting qiskit-terra==0.12.0\n",
      "  Downloading qiskit-terra-0.12.0.tar.gz (2.4 MB)\n",
      "\u001b[K     |████████████████████████████████| 2.4 MB 9.6 MB/s eta 0:00:01     |███████▉                        | 583 kB 9.6 MB/s eta 0:00:01     |███████████████████             | 1.4 MB 9.6 MB/s eta 0:00:01\n",
      "\u001b[?25hCollecting qiskit-aer==0.4.1\n",
      "  Downloading qiskit-aer-0.4.1.tar.gz (10.0 MB)\n",
      "\u001b[K     |████████████████████████████████| 10.0 MB 13.7 MB/s eta 0:00:01    |▋                               | 204 kB 13.7 MB/s eta 0:00:01     |██▋                             | 819 kB 13.7 MB/s eta 0:00:01     |███▍                            | 1.0 MB 13.7 MB/s eta 0:00:01     |██████████                      | 3.1 MB 13.7 MB/s eta 0:00:01     |██████████████████▎             | 5.7 MB 13.7 MB/s eta 0:00:01     |████████████████████████████▌   | 8.9 MB 13.7 MB/s eta 0:00:01\n",
      "\u001b[?25hCollecting qiskit-ibmq-provider==0.5.0\n",
      "  Using cached qiskit_ibmq_provider-0.5.0-py3-none-any.whl (140 kB)\n",
      "Collecting qiskit-ignis==0.2.0\n",
      "  Using cached qiskit_ignis-0.2.0-py3-none-any.whl (100 kB)\n",
      "Collecting qiskit-aqua==0.6.4\n",
      "  Using cached qiskit_aqua-0.6.4-py3-none-any.whl (1.8 MB)\n",
      "Requirement already satisfied: numpy>=1.16.3 in /opt/anaconda3/envs/pyc395/lib/python3.9/site-packages (from qiskit-aer==0.4.1->qiskit==0.16.1) (1.20.2)\n",
      "Requirement already satisfied: scipy>=1.0 in /opt/anaconda3/envs/pyc395/lib/python3.9/site-packages (from qiskit-aer==0.4.1->qiskit==0.16.1) (1.6.2)\n",
      "Collecting cython>=0.27.1\n",
      "  Using cached Cython-0.29.23-cp39-cp39-macosx_10_9_x86_64.whl (1.9 MB)\n",
      "Collecting pybind11>=2.4\n",
      "  Using cached pybind11-2.6.2-py2.py3-none-any.whl (191 kB)\n",
      "Collecting sympy>=1.3\n",
      "  Using cached sympy-1.8-py3-none-any.whl (6.1 MB)\n",
      "Collecting dlx\n",
      "  Using cached dlx-1.0.4-py3-none-any.whl\n",
      "Collecting cvxopt\n",
      "  Downloading cvxopt-1.2.6-cp39-cp39-macosx_10_9_x86_64.whl (3.1 MB)\n",
      "\u001b[K     |████████████████████████████████| 3.1 MB 18.5 MB/s eta 0:00:01\n",
      "\u001b[?25hCollecting scikit-learn>=0.20.0\n",
      "  Downloading scikit_learn-0.24.2-cp39-cp39-macosx_10_13_x86_64.whl (7.3 MB)\n",
      "\u001b[K     |████████████████████████████████| 7.3 MB 1.9 MB/s eta 0:00:01     |██████████▍                     | 2.4 MB 1.9 MB/s eta 0:00:03     |██████████████                  | 3.2 MB 1.9 MB/s eta 0:00:03\n",
      "\u001b[?25hRequirement already satisfied: psutil>=5 in /opt/anaconda3/envs/pyc395/lib/python3.9/site-packages (from qiskit-aqua==0.6.4->qiskit==0.16.1) (5.8.0)\n",
      "Requirement already satisfied: setuptools>=40.1.0 in /opt/anaconda3/envs/pyc395/lib/python3.9/site-packages (from qiskit-aqua==0.6.4->qiskit==0.16.1) (52.0.0.post20210125)\n",
      "Collecting networkx>=2.2\n",
      "  Downloading networkx-2.5.1-py3-none-any.whl (1.6 MB)\n",
      "\u001b[K     |████████████████████████████████| 1.6 MB 7.9 MB/s eta 0:00:01\n",
      "\u001b[?25hCollecting fastdtw\n",
      "  Using cached fastdtw-0.3.4-py3-none-any.whl\n",
      "Requirement already satisfied: jsonschema>=2.6 in /opt/anaconda3/envs/pyc395/lib/python3.9/site-packages (from qiskit-aqua==0.6.4->qiskit==0.16.1) (3.2.0)\n",
      "Collecting docplex\n",
      "  Downloading docplex-2.21.207.tar.gz (635 kB)\n",
      "\u001b[K     |████████████████████████████████| 635 kB 18.8 MB/s eta 0:00:01\n",
      "\u001b[?25hCollecting h5py\n",
      "  Downloading h5py-3.2.1-cp39-cp39-macosx_10_9_x86_64.whl (3.0 MB)\n",
      "\u001b[K     |████████████████████████████████| 3.0 MB 3.2 MB/s eta 0:00:01     |███████████▊                    | 1.1 MB 3.2 MB/s eta 0:00:01\n",
      "\u001b[?25hCollecting quandl\n",
      "  Downloading Quandl-3.6.1-py2.py3-none-any.whl (26 kB)\n",
      "Requirement already satisfied: nest-asyncio!=1.1.0,>=1.0.0 in /opt/anaconda3/envs/pyc395/lib/python3.9/site-packages (from qiskit-ibmq-provider==0.5.0->qiskit==0.16.1) (1.5.1)\n",
      "Collecting websockets<8,>=7\n",
      "  Using cached websockets-7.0.tar.gz (49 kB)\n",
      "Collecting arrow>=0.15.5\n",
      "  Using cached arrow-1.1.0-py3-none-any.whl (58 kB)\n",
      "Collecting requests-ntlm>=1.1.0\n",
      "  Using cached requests_ntlm-1.1.0-py2.py3-none-any.whl (5.7 kB)\n",
      "Requirement already satisfied: requests>=2.19 in /opt/anaconda3/envs/pyc395/lib/python3.9/site-packages (from qiskit-ibmq-provider==0.5.0->qiskit==0.16.1) (2.25.1)\n",
      "Collecting marshmallow<4,>=3\n",
      "  Using cached marshmallow-3.12.1-py2.py3-none-any.whl (47 kB)\n",
      "Collecting marshmallow_polyfield<6,>=5.7\n",
      "  Using cached marshmallow_polyfield-5.10-py3-none-any.whl (8.5 kB)\n",
      "Collecting ply>=3.10\n",
      "  Using cached ply-3.11-py2.py3-none-any.whl (49 kB)\n",
      "Collecting dill>=0.3\n",
      "  Using cached dill-0.3.3-py2.py3-none-any.whl (81 kB)\n",
      "Requirement already satisfied: python-dateutil>=2.7.0 in /opt/anaconda3/envs/pyc395/lib/python3.9/site-packages (from arrow>=0.15.5->qiskit-ibmq-provider==0.5.0->qiskit==0.16.1) (2.8.1)\n",
      "Requirement already satisfied: attrs>=17.4.0 in /opt/anaconda3/envs/pyc395/lib/python3.9/site-packages (from jsonschema>=2.6->qiskit-aqua==0.6.4->qiskit==0.16.1) (20.3.0)\n",
      "Requirement already satisfied: pyrsistent>=0.14.0 in /opt/anaconda3/envs/pyc395/lib/python3.9/site-packages (from jsonschema>=2.6->qiskit-aqua==0.6.4->qiskit==0.16.1) (0.17.3)\n",
      "Requirement already satisfied: six>=1.11.0 in /opt/anaconda3/envs/pyc395/lib/python3.9/site-packages (from jsonschema>=2.6->qiskit-aqua==0.6.4->qiskit==0.16.1) (1.15.0)\n",
      "Collecting decorator<5,>=4.3\n",
      "  Downloading decorator-4.4.2-py2.py3-none-any.whl (9.2 kB)\n",
      "Requirement already satisfied: idna<3,>=2.5 in /opt/anaconda3/envs/pyc395/lib/python3.9/site-packages (from requests>=2.19->qiskit-ibmq-provider==0.5.0->qiskit==0.16.1) (2.10)\n",
      "Requirement already satisfied: certifi>=2017.4.17 in /opt/anaconda3/envs/pyc395/lib/python3.9/site-packages (from requests>=2.19->qiskit-ibmq-provider==0.5.0->qiskit==0.16.1) (2020.12.5)\n",
      "Requirement already satisfied: urllib3<1.27,>=1.21.1 in /opt/anaconda3/envs/pyc395/lib/python3.9/site-packages (from requests>=2.19->qiskit-ibmq-provider==0.5.0->qiskit==0.16.1) (1.26.4)\n",
      "Requirement already satisfied: chardet<5,>=3.0.2 in /opt/anaconda3/envs/pyc395/lib/python3.9/site-packages (from requests>=2.19->qiskit-ibmq-provider==0.5.0->qiskit==0.16.1) (4.0.0)\n",
      "Requirement already satisfied: cryptography>=1.3 in /opt/anaconda3/envs/pyc395/lib/python3.9/site-packages (from requests-ntlm>=1.1.0->qiskit-ibmq-provider==0.5.0->qiskit==0.16.1) (3.4.7)\n",
      "Collecting ntlm-auth>=1.0.2\n",
      "  Using cached ntlm_auth-1.5.0-py2.py3-none-any.whl (29 kB)\n",
      "Requirement already satisfied: cffi>=1.12 in /opt/anaconda3/envs/pyc395/lib/python3.9/site-packages (from cryptography>=1.3->requests-ntlm>=1.1.0->qiskit-ibmq-provider==0.5.0->qiskit==0.16.1) (1.14.5)\n",
      "Requirement already satisfied: pycparser in /opt/anaconda3/envs/pyc395/lib/python3.9/site-packages (from cffi>=1.12->cryptography>=1.3->requests-ntlm>=1.1.0->qiskit-ibmq-provider==0.5.0->qiskit==0.16.1) (2.20)\n",
      "Collecting joblib>=0.11\n",
      "  Using cached joblib-1.0.1-py3-none-any.whl (303 kB)\n",
      "Collecting threadpoolctl>=2.0.0\n",
      "  Using cached threadpoolctl-2.1.0-py3-none-any.whl (12 kB)\n",
      "Collecting mpmath>=0.19\n",
      "  Using cached mpmath-1.2.1-py3-none-any.whl (532 kB)\n",
      "Collecting more-itertools\n",
      "  Using cached more_itertools-8.8.0-py3-none-any.whl (48 kB)\n",
      "Requirement already satisfied: pandas>=0.14 in /opt/anaconda3/envs/pyc395/lib/python3.9/site-packages (from quandl->qiskit-aqua==0.6.4->qiskit==0.16.1) (1.2.4)\n",
      "Collecting inflection>=0.3.1\n",
      "  Using cached inflection-0.5.1-py2.py3-none-any.whl (9.5 kB)\n",
      "Requirement already satisfied: pytz>=2017.3 in /opt/anaconda3/envs/pyc395/lib/python3.9/site-packages (from pandas>=0.14->quandl->qiskit-aqua==0.6.4->qiskit==0.16.1) (2021.1)\n",
      "Building wheels for collected packages: qiskit, qiskit-aer, qiskit-terra, websockets, docplex\n",
      "  Building wheel for qiskit (setup.py) ... \u001b[?25ldone\n",
      "\u001b[?25h  Created wheel for qiskit: filename=qiskit-0.16.1-py3-none-any.whl size=2897 sha256=462bf830aa7783d26708c05aa32e4775f7fdbe52bfcf39d40080623946d9e62b\n",
      "  Stored in directory: /Users/mo/Library/Caches/pip/wheels/6d/7b/e7/346dced7e5efb9bdf5688bdd3ed2552c9a07886614ede63253\n",
      "  Building wheel for qiskit-aer (setup.py) ... \u001b[?25ldone\n",
      "\u001b[?25h  Created wheel for qiskit-aer: filename=qiskit_aer-0.4.1-cp39-cp39-macosx_10_9_x86_64.whl size=13636430 sha256=d2eb93dcd4720651c0c11c057468301cca17151d8dc47c86681a2e542d731709\n",
      "  Stored in directory: /Users/mo/Library/Caches/pip/wheels/dc/6d/b9/918da533a030783f4d87e2c880806c7d0c5ebcd6173e3068e8\n",
      "  Building wheel for qiskit-terra (setup.py) ... \u001b[?25ldone\n",
      "\u001b[?25h  Created wheel for qiskit-terra: filename=qiskit_terra-0.12.0-cp39-cp39-macosx_10_9_x86_64.whl size=2165170 sha256=708644e8dbe78b58736415ece7b6112d4267acf5a8b9e8db89b894c4fcaa16a5\n",
      "  Stored in directory: /Users/mo/Library/Caches/pip/wheels/69/2a/78/23cfa72ecbf503827a28b0bcb3c69f3dad1ae2676c014f9c4e\n",
      "  Building wheel for websockets (setup.py) ... \u001b[?25ldone\n",
      "\u001b[?25h  Created wheel for websockets: filename=websockets-7.0-cp39-cp39-macosx_10_9_x86_64.whl size=56848 sha256=04283f36682942a8e8557e0a6e15bf17f1ca6f54ba428871fbfe8e2b3e44e33c\n",
      "  Stored in directory: /Users/mo/Library/Caches/pip/wheels/05/65/39/a2dbf62d6f8e74968da3bbd93073de24a596372fbdd8ab81b8\n",
      "  Building wheel for docplex (setup.py) ... \u001b[?25ldone\n",
      "\u001b[?25h  Created wheel for docplex: filename=docplex-2.21.207-py3-none-any.whl size=700511 sha256=267c859e7ce424866b70604d8c693efafeba18414f43a61a14cf226fa22795f1\n",
      "  Stored in directory: /Users/mo/Library/Caches/pip/wheels/b6/08/86/1630fe930fd2052557f7b5204a89bfd05531662b118bfd0206\n",
      "Successfully built qiskit qiskit-aer qiskit-terra websockets docplex\n",
      "Installing collected packages: mpmath, marshmallow, decorator, sympy, ply, networkx, marshmallow-polyfield, dill, threadpoolctl, qiskit-terra, ntlm-auth, more-itertools, joblib, inflection, websockets, scikit-learn, requests-ntlm, quandl, qiskit-ignis, pybind11, h5py, fastdtw, docplex, dlx, cython, cvxopt, arrow, qiskit-ibmq-provider, qiskit-aqua, qiskit-aer, qiskit\n",
      "  Attempting uninstall: decorator\n",
      "    Found existing installation: decorator 5.0.9\n",
      "    Uninstalling decorator-5.0.9:\n",
      "      Successfully uninstalled decorator-5.0.9\n",
      "Successfully installed arrow-1.1.0 cvxopt-1.2.6 cython-0.29.23 decorator-4.4.2 dill-0.3.3 dlx-1.0.4 docplex-2.21.207 fastdtw-0.3.4 h5py-3.2.1 inflection-0.5.1 joblib-1.0.1 marshmallow-3.12.1 marshmallow-polyfield-5.10 more-itertools-8.8.0 mpmath-1.2.1 networkx-2.5.1 ntlm-auth-1.5.0 ply-3.11 pybind11-2.6.2 qiskit-0.16.1 qiskit-aer-0.4.1 qiskit-aqua-0.6.4 qiskit-ibmq-provider-0.5.0 qiskit-ignis-0.2.0 qiskit-terra-0.12.0 quandl-3.6.1 requests-ntlm-1.1.0 scikit-learn-0.24.2 sympy-1.8 threadpoolctl-2.1.0 websockets-7.0\n"
     ]
    }
   ],
   "source": [
    "!pip install qiskit==0.16.1"
   ]
  },
  {
   "cell_type": "code",
   "execution_count": 5,
   "metadata": {
    "id": "PvjPYxPWzRgL"
   },
   "outputs": [],
   "source": [
    "# Task One : Fuandamentals of Qunatum Computation\n",
    "# Concepts and Mathematical Prerequisite for Qunatum Computation"
   ]
  },
  {
   "cell_type": "code",
   "execution_count": null,
   "metadata": {
    "id": "OsmIhFCAT0Vk"
   },
   "outputs": [],
   "source": []
  },
  {
   "cell_type": "markdown",
   "metadata": {
    "id": "a7gC9yXWO-uh"
   },
   "source": [
    "# Introduction\n",
    "The prerequisites of these series of course include linear algebra, calculus, complex numbers, and intermediate-level Python. Nevertheless, it is worth gathering some core concepts in a single notebook as a refresher, and also to serve as a reference. The concepts in this notebook will be used over and over again in the course, so\n",
    "\n"
   ]
  },
  {
   "cell_type": "markdown",
   "metadata": {
    "id": "JpQ7nCGdUPkk"
   },
   "source": [
    "# Hilbert Space\n",
    "Hilbert space is named after David Hilbert, one of the greatest and most influential mathematician ever lived. Hilbert space is a generalisation of the Nth dimension starting from the fundamental axioms, Hilbert postulated that if zeroth dimension is a dot, and one dimension is a straight line between two dots forming the fist axis say x-axis, and two dimension is another perpendicularly straight line spanning a surface between the lines that forms another axis, the y-axis, then in 3D another 2D surface rises perpendicular and orthonormal forming a third z-axis, then fourth dimension could be formulated whit the same principle and so on. Hilbert formalized the notion of dimension to yield infinitely many dimensions for an infite case, and more practically the Nth dimension. \n",
    "The Euclidian space is a speciel case of $\\mathcal{H}$\n"
   ]
  },
  {
   "cell_type": "code",
   "execution_count": 1,
   "metadata": {
    "colab": {
     "base_uri": "https://localhost:8080/",
     "height": 38
    },
    "id": "5qr23Z-1TPIU",
    "outputId": "6d8053e7-7fd9-40fd-9ddd-fbdba8072677"
   },
   "outputs": [
    {
     "data": {
      "text/latex": [
       "$\\displaystyle \\mathcal{H}$"
      ],
      "text/plain": [
       "H"
      ]
     },
     "execution_count": 1,
     "metadata": {},
     "output_type": "execute_result"
    }
   ],
   "source": [
    "from sympy.physics.quantum.hilbert import HilbertSpace\n",
    "hs = HilbertSpace()\n",
    "hs"
   ]
  },
  {
   "cell_type": "code",
   "execution_count": null,
   "metadata": {
    "id": "BDXHlATycp64"
   },
   "outputs": [],
   "source": []
  },
  {
   "cell_type": "markdown",
   "metadata": {
    "id": "-zAPOWPfcLKb"
   },
   "source": [
    "The Hilbert space of square integrable functions on an interval.\n",
    "\n",
    "An L2 object takes in a single sympy Interval argument which represents the interval its functions (vectors) are defined on."
   ]
  },
  {
   "cell_type": "code",
   "execution_count": 2,
   "metadata": {
    "colab": {
     "base_uri": "https://localhost:8080/",
     "height": 38
    },
    "id": "iPceBMDdckrW",
    "outputId": "e511902a-0260-4cf7-c153-32f82229e2c4"
   },
   "outputs": [
    {
     "data": {
      "text/latex": [
       "$\\displaystyle {\\mathcal{L}^2}\\left( \\left[0, \\infty\\right) \\right)$"
      ],
      "text/plain": [
       "L2(Interval(0, oo))"
      ]
     },
     "execution_count": 2,
     "metadata": {},
     "output_type": "execute_result"
    }
   ],
   "source": [
    "from sympy import Interval, oo\n",
    "from sympy.physics.quantum.hilbert import L2\n",
    "hs = L2(Interval(0,oo))\n",
    "hs"
   ]
  },
  {
   "cell_type": "code",
   "execution_count": 3,
   "metadata": {
    "colab": {
     "base_uri": "https://localhost:8080/",
     "height": 164
    },
    "id": "gTzIlnPUc96I",
    "outputId": "24185015-06e7-41d3-f72d-aa5c292224a3"
   },
   "outputs": [
    {
     "data": {
      "text/latex": [
       "$\\displaystyle {\\mathcal{L}^2}\\left( \\left[0, \\infty\\right) \\right)$"
      ],
      "text/plain": [
       "L2(Interval(0, oo))"
      ]
     },
     "execution_count": 3,
     "metadata": {},
     "output_type": "execute_result"
    }
   ],
   "source": [
    "L2(Interval(0, oo))"
   ]
  },
  {
   "cell_type": "code",
   "execution_count": 4,
   "metadata": {
    "colab": {
     "base_uri": "https://localhost:8080/",
     "height": 164
    },
    "id": "_LPdWr_8cdJO",
    "outputId": "d4daa333-8612-4377-80b5-7c5487269060"
   },
   "outputs": [
    {
     "data": {
      "text/latex": [
       "$\\displaystyle \\infty$"
      ],
      "text/plain": [
       "oo"
      ]
     },
     "execution_count": 4,
     "metadata": {},
     "output_type": "execute_result"
    }
   ],
   "source": [
    "hs.dimension"
   ]
  },
  {
   "cell_type": "code",
   "execution_count": 5,
   "metadata": {
    "colab": {
     "base_uri": "https://localhost:8080/",
     "height": 164
    },
    "id": "mcBhEVNlR8WY",
    "outputId": "9e12bf40-90e8-4bc2-a19c-27c5ae9e0a4e"
   },
   "outputs": [
    {
     "data": {
      "text/latex": [
       "$\\displaystyle \\left[0, \\infty\\right)$"
      ],
      "text/plain": [
       "Interval(0, oo)"
      ]
     },
     "execution_count": 5,
     "metadata": {},
     "output_type": "execute_result"
    }
   ],
   "source": [
    "hs.interval"
   ]
  },
  {
   "cell_type": "markdown",
   "metadata": {
    "id": "C7VNake6d3X2"
   },
   "source": [
    "An exponentiated Hilbert space [R626].\n",
    "\n",
    "Tensor powers (repeated tensor products) are represented by the operator ** Identical Hilbert spaces that are multiplied together will be automatically combined into a single tensor power object.\n",
    "\n",
    "Any Hilbert space, product, or sum may be raised to a tensor power. The TensorPowerHilbertSpace takes two arguments: the Hilbert space; and the tensor power (number)\n"
   ]
  },
  {
   "cell_type": "code",
   "execution_count": 6,
   "metadata": {
    "id": "CDDGMXgVd_Wj"
   },
   "outputs": [],
   "source": [
    "from sympy.physics.quantum.hilbert import ComplexSpace, FockSpace\n",
    "from sympy import symbols"
   ]
  },
  {
   "cell_type": "code",
   "execution_count": 7,
   "metadata": {
    "colab": {
     "base_uri": "https://localhost:8080/",
     "height": 40
    },
    "id": "ZE6VdbLidxbp",
    "outputId": "6381b330-f985-4f8f-8296-86015007ba63"
   },
   "outputs": [
    {
     "data": {
      "text/latex": [
       "$\\displaystyle {\\mathcal{C}^{2}}^{\\otimes n}$"
      ],
      "text/plain": [
       "C(2)**n"
      ]
     },
     "execution_count": 7,
     "metadata": {},
     "output_type": "execute_result"
    }
   ],
   "source": [
    "n = symbols('n')\n",
    "c = ComplexSpace(2)\n",
    "hs = c**n\n",
    "hs\n"
   ]
  },
  {
   "cell_type": "code",
   "execution_count": 8,
   "metadata": {
    "colab": {
     "base_uri": "https://localhost:8080/",
     "height": 37
    },
    "id": "Gj3FhcM2dyFT",
    "outputId": "b638da0f-1cc1-4c2d-88b2-7cf6ee5169a0"
   },
   "outputs": [
    {
     "data": {
      "text/latex": [
       "$\\displaystyle 2^{n}$"
      ],
      "text/plain": [
       "2**n"
      ]
     },
     "execution_count": 8,
     "metadata": {},
     "output_type": "execute_result"
    }
   ],
   "source": [
    "hs.dimension"
   ]
  },
  {
   "cell_type": "code",
   "execution_count": 9,
   "metadata": {
    "colab": {
     "base_uri": "https://localhost:8080/",
     "height": 41
    },
    "id": "k2eb2KL2dykH",
    "outputId": "445c5b4f-d43a-4e5e-b7fb-53da8baecd53"
   },
   "outputs": [
    {
     "data": {
      "text/latex": [
       "$\\displaystyle {\\mathcal{C}^{2}}^{\\otimes 2}$"
      ],
      "text/plain": [
       "C(2)**2"
      ]
     },
     "execution_count": 9,
     "metadata": {},
     "output_type": "execute_result"
    }
   ],
   "source": [
    "c = ComplexSpace(2)\n",
    "c*c"
   ]
  },
  {
   "cell_type": "code",
   "execution_count": 10,
   "metadata": {
    "colab": {
     "base_uri": "https://localhost:8080/",
     "height": 38
    },
    "id": "mggzT5RZdzfs",
    "outputId": "fb191e13-8fd8-4420-ee85-09cd89dd7e9f"
   },
   "outputs": [
    {
     "data": {
      "text/latex": [
       "$\\displaystyle \\mathcal{C}^{2}\\otimes {\\mathcal{F}}^{\\otimes 2}$"
      ],
      "text/plain": [
       "C(2)*F**2"
      ]
     },
     "execution_count": 10,
     "metadata": {},
     "output_type": "execute_result"
    }
   ],
   "source": [
    "f = FockSpace()\n",
    "c*f*f"
   ]
  },
  {
   "cell_type": "markdown",
   "metadata": {
    "id": "SfymcUDke-D8"
   },
   "source": [
    "A tensor product of Hilbert spaces [R627].\n",
    "\n",
    "The tensor product between Hilbert spaces is represented by the operator * Products of the same Hilbert space will be combined into tensor powers.\n",
    "\n",
    "A TensorProductHilbertSpace object takes in an arbitrary number of HilbertSpace objects as its arguments. In addition, multiplication of HilbertSpace objects will automatically return this tensor product object."
   ]
  },
  {
   "cell_type": "code",
   "execution_count": 11,
   "metadata": {
    "id": "omqbxWCbfGjL"
   },
   "outputs": [],
   "source": [
    "from sympy.physics.quantum.hilbert import ComplexSpace, FockSpace\n",
    "from sympy import symbols"
   ]
  },
  {
   "cell_type": "code",
   "execution_count": 12,
   "metadata": {
    "colab": {
     "base_uri": "https://localhost:8080/",
     "height": 38
    },
    "id": "PyvN3UkrfHbp",
    "outputId": "d4aaf708-adf8-4c92-850b-d5334a36ece2"
   },
   "outputs": [
    {
     "data": {
      "text/latex": [
       "$\\displaystyle \\mathcal{C}^{2}\\otimes \\mathcal{F}$"
      ],
      "text/plain": [
       "C(2)*F"
      ]
     },
     "execution_count": 12,
     "metadata": {},
     "output_type": "execute_result"
    }
   ],
   "source": [
    "c = ComplexSpace(2)\n",
    "f = FockSpace()\n",
    "hs = c*f\n",
    "hs"
   ]
  },
  {
   "cell_type": "code",
   "execution_count": 13,
   "metadata": {
    "colab": {
     "base_uri": "https://localhost:8080/",
     "height": 37
    },
    "id": "jc5MnkTVfH-Q",
    "outputId": "c6541298-2f83-4a70-f53b-ceae390f0010"
   },
   "outputs": [
    {
     "data": {
      "text/latex": [
       "$\\displaystyle \\infty$"
      ],
      "text/plain": [
       "oo"
      ]
     },
     "execution_count": 13,
     "metadata": {},
     "output_type": "execute_result"
    }
   ],
   "source": [
    "hs.dimension"
   ]
  },
  {
   "cell_type": "code",
   "execution_count": 14,
   "metadata": {
    "colab": {
     "base_uri": "https://localhost:8080/"
    },
    "id": "Sx-tJKK7fIvy",
    "outputId": "14fe60c1-c8c7-4549-b733-9351f4554852"
   },
   "outputs": [
    {
     "data": {
      "text/plain": [
       "(C(2), F)"
      ]
     },
     "execution_count": 14,
     "metadata": {},
     "output_type": "execute_result"
    }
   ],
   "source": [
    "hs.spaces"
   ]
  },
  {
   "cell_type": "code",
   "execution_count": 15,
   "metadata": {
    "colab": {
     "base_uri": "https://localhost:8080/",
     "height": 38
    },
    "id": "cE_Nr79vf0ws",
    "outputId": "9905a421-2887-41f1-a501-e0a8aae153d8"
   },
   "outputs": [
    {
     "data": {
      "text/latex": [
       "$\\displaystyle \\mathcal{C}^{2}\\otimes \\mathcal{C}^{n}$"
      ],
      "text/plain": [
       "C(2)*C(n)"
      ]
     },
     "execution_count": 15,
     "metadata": {},
     "output_type": "execute_result"
    }
   ],
   "source": [
    "c1 = ComplexSpace(2)\n",
    "n = symbols('n')\n",
    "c2 = ComplexSpace(n)\n",
    "hs = c1*c2\n",
    "hs"
   ]
  },
  {
   "cell_type": "code",
   "execution_count": 16,
   "metadata": {
    "colab": {
     "base_uri": "https://localhost:8080/",
     "height": 38
    },
    "id": "-KSwaG4GgAQS",
    "outputId": "18eb2b97-e986-4964-b940-4f3282d7e15d"
   },
   "outputs": [
    {
     "data": {
      "text/latex": [
       "$\\displaystyle 2 n$"
      ],
      "text/plain": [
       "2*n"
      ]
     },
     "execution_count": 16,
     "metadata": {},
     "output_type": "execute_result"
    }
   ],
   "source": [
    "hs.dimension"
   ]
  },
  {
   "cell_type": "markdown",
   "metadata": {
    "id": "Z0_36LlzgoxL"
   },
   "source": [
    "## Anticmmutator\n",
    "Evaluating an anticommutator is defined [R615] as: {A, B} = A*B + B*A. This class returns the anticommutator in an unevaluated form. To evaluate the anticommutator, use the .doit() method.\n",
    "\n",
    "Canonical ordering of an anticommutator is {A, B} for A < B. The arguments of the anticommutator are put into canonical order using __cmp__. If B < A, then {A, B} is returned as {B, A}.\n",
    "\n"
   ]
  },
  {
   "cell_type": "code",
   "execution_count": 18,
   "metadata": {
    "id": "TDRJgZcVgCcN"
   },
   "outputs": [],
   "source": [
    "from sympy import symbols\n",
    "from sympy.physics.quantum import AntiCommutator\n",
    "from sympy.physics.quantum import Operator, Dagger\n",
    "x, y = symbols('x,y')\n",
    "A = Operator('A')\n",
    "B = Operator('B')"
   ]
  },
  {
   "cell_type": "code",
   "execution_count": 19,
   "metadata": {
    "colab": {
     "base_uri": "https://localhost:8080/",
     "height": 38
    },
    "id": "HH2_WtPwhFNS",
    "outputId": "b5062252-d3d5-459d-87b5-3e23b3a7659c"
   },
   "outputs": [
    {
     "data": {
      "text/latex": [
       "$\\displaystyle \\left\\{A,B\\right\\}$"
      ],
      "text/plain": [
       "{A,B}"
      ]
     },
     "execution_count": 19,
     "metadata": {},
     "output_type": "execute_result"
    }
   ],
   "source": [
    "ac = AntiCommutator(A,B); ac"
   ]
  },
  {
   "cell_type": "code",
   "execution_count": 20,
   "metadata": {
    "colab": {
     "base_uri": "https://localhost:8080/",
     "height": 38
    },
    "id": "YorWDiMIhZOX",
    "outputId": "598e1d44-66fe-4e40-bf28-aee23ec033c6"
   },
   "outputs": [
    {
     "data": {
      "text/latex": [
       "$\\displaystyle A B + B A$"
      ],
      "text/plain": [
       "A*B + B*A"
      ]
     },
     "execution_count": 20,
     "metadata": {},
     "output_type": "execute_result"
    }
   ],
   "source": [
    "ac.doit()"
   ]
  },
  {
   "cell_type": "code",
   "execution_count": 21,
   "metadata": {
    "colab": {
     "base_uri": "https://localhost:8080/",
     "height": 38
    },
    "id": "OfIMsKABhnBa",
    "outputId": "36e8086f-c1e9-4d1a-92c0-cee8e1eedd31"
   },
   "outputs": [
    {
     "data": {
      "text/latex": [
       "$\\displaystyle \\left\\{A,B\\right\\}$"
      ],
      "text/plain": [
       "{A,B}"
      ]
     },
     "execution_count": 21,
     "metadata": {},
     "output_type": "execute_result"
    }
   ],
   "source": [
    "ac = AntiCommutator(B,A); ac"
   ]
  },
  {
   "cell_type": "code",
   "execution_count": 22,
   "metadata": {
    "colab": {
     "base_uri": "https://localhost:8080/",
     "height": 38
    },
    "id": "mT0-RpdSh6RJ",
    "outputId": "ef784122-0c8d-4d59-f674-904e145e9d21"
   },
   "outputs": [
    {
     "data": {
      "text/latex": [
       "$\\displaystyle 3 x^{2} y \\left\\{A,B\\right\\}$"
      ],
      "text/plain": [
       "3*x**2*y*{A,B}"
      ]
     },
     "execution_count": 22,
     "metadata": {},
     "output_type": "execute_result"
    }
   ],
   "source": [
    "AntiCommutator(3*x*A,x*y*B)"
   ]
  },
  {
   "cell_type": "code",
   "execution_count": 23,
   "metadata": {
    "colab": {
     "base_uri": "https://localhost:8080/",
     "height": 38
    },
    "id": "kor7bsdNh_G_",
    "outputId": "2186a1b4-2138-40f9-9240-b91f16e53382"
   },
   "outputs": [
    {
     "data": {
      "text/latex": [
       "$\\displaystyle \\left\\{A^{\\dagger},B^{\\dagger}\\right\\}$"
      ],
      "text/plain": [
       "{Dagger(A),Dagger(B)}"
      ]
     },
     "execution_count": 23,
     "metadata": {},
     "output_type": "execute_result"
    }
   ],
   "source": [
    "Dagger(AntiCommutator(A,B))"
   ]
  },
  {
   "cell_type": "markdown",
   "metadata": {
    "id": "3mNS5zNIihUR"
   },
   "source": [
    "## commutator\n",
    "Evaluating a commutator is defined [R619] as: [A, B] = A*B - B*A. This class returns the commutator in an unevaluated form. To evaluate the commutator, use the .doit() method.\n",
    "\n",
    "Canonical ordering of a commutator is [A, B] for A < B. The arguments of the commutator are put into canonical order using __cmp__. If B < A, then [B, A] is returned as -[A, B]."
   ]
  },
  {
   "cell_type": "code",
   "execution_count": 24,
   "metadata": {
    "id": "gPSZ08-gi4Xs"
   },
   "outputs": [],
   "source": [
    "from sympy.physics.quantum import Commutator, Dagger, Operator\n",
    "from sympy.abc import x, y\n",
    "A = Operator('A')\n",
    "B = Operator('B')\n",
    "C = Operator('C')"
   ]
  },
  {
   "cell_type": "code",
   "execution_count": 25,
   "metadata": {
    "colab": {
     "base_uri": "https://localhost:8080/",
     "height": 38
    },
    "id": "ZMHpptN0iv2J",
    "outputId": "f12c0883-34b4-46aa-bc69-96686f71e975"
   },
   "outputs": [
    {
     "data": {
      "text/latex": [
       "$\\displaystyle \\left[A,B\\right]$"
      ],
      "text/plain": [
       "[A,B]"
      ]
     },
     "execution_count": 25,
     "metadata": {},
     "output_type": "execute_result"
    }
   ],
   "source": [
    "comm = Commutator(A, B)\n",
    "comm"
   ]
  },
  {
   "cell_type": "code",
   "execution_count": 26,
   "metadata": {
    "colab": {
     "base_uri": "https://localhost:8080/",
     "height": 38
    },
    "id": "ciBipSTojLun",
    "outputId": "589a815b-be7e-4212-cbee-ee072fd3f48b"
   },
   "outputs": [
    {
     "data": {
      "text/latex": [
       "$\\displaystyle A B - B A$"
      ],
      "text/plain": [
       "A*B - B*A"
      ]
     },
     "execution_count": 26,
     "metadata": {},
     "output_type": "execute_result"
    }
   ],
   "source": [
    "comm.doit()"
   ]
  },
  {
   "cell_type": "code",
   "execution_count": 27,
   "metadata": {
    "id": "GbuZyMZpiKxA"
   },
   "outputs": [
    {
     "data": {
      "text/latex": [
       "$\\displaystyle - \\left[A,B\\right]$"
      ],
      "text/plain": [
       "-[A,B]"
      ]
     },
     "execution_count": 27,
     "metadata": {},
     "output_type": "execute_result"
    }
   ],
   "source": [
    "comm = Commutator(B, A); comm"
   ]
  },
  {
   "cell_type": "code",
   "execution_count": 28,
   "metadata": {
    "colab": {
     "base_uri": "https://localhost:8080/",
     "height": 38
    },
    "id": "k2WSHZ1cjWTu",
    "outputId": "0d778466-d3fd-4b67-f4f9-0efe271f84f9"
   },
   "outputs": [
    {
     "data": {
      "text/latex": [
       "$\\displaystyle - \\left[A,B\\right]$"
      ],
      "text/plain": [
       "-[A,B]"
      ]
     },
     "execution_count": 28,
     "metadata": {},
     "output_type": "execute_result"
    }
   ],
   "source": [
    "comm = Commutator(B, A); comm"
   ]
  },
  {
   "cell_type": "code",
   "execution_count": 29,
   "metadata": {
    "colab": {
     "base_uri": "https://localhost:8080/",
     "height": 38
    },
    "id": "u4PzJNAqje8W",
    "outputId": "c47f0df1-21b2-4a7c-c1d9-0fb41d427a71"
   },
   "outputs": [
    {
     "data": {
      "text/latex": [
       "$\\displaystyle 3 x^{2} y \\left[A,B\\right]$"
      ],
      "text/plain": [
       "3*x**2*y*[A,B]"
      ]
     },
     "execution_count": 29,
     "metadata": {},
     "output_type": "execute_result"
    }
   ],
   "source": [
    "Commutator(3*x*A, x*y*B)"
   ]
  },
  {
   "cell_type": "code",
   "execution_count": 30,
   "metadata": {
    "colab": {
     "base_uri": "https://localhost:8080/",
     "height": 38
    },
    "id": "UbKPAQmerq7M",
    "outputId": "400337fa-2516-4d46-fb97-cf94806bcba6"
   },
   "outputs": [
    {
     "data": {
      "text/latex": [
       "$\\displaystyle \\left[A,C\\right] + \\left[B,C\\right]$"
      ],
      "text/plain": [
       "[A,C] + [B,C]"
      ]
     },
     "execution_count": 30,
     "metadata": {},
     "output_type": "execute_result"
    }
   ],
   "source": [
    "Commutator(A+B, C).expand(commutator=True)"
   ]
  },
  {
   "cell_type": "code",
   "execution_count": 31,
   "metadata": {
    "colab": {
     "base_uri": "https://localhost:8080/",
     "height": 38
    },
    "id": "IcW-2gADhoir",
    "outputId": "b91b307a-edf8-4004-ad81-7c83c063f3d0"
   },
   "outputs": [
    {
     "data": {
      "text/latex": [
       "$\\displaystyle \\left[A,B\\right] + \\left[A,C\\right]$"
      ],
      "text/plain": [
       "[A,B] + [A,C]"
      ]
     },
     "execution_count": 31,
     "metadata": {},
     "output_type": "execute_result"
    }
   ],
   "source": [
    "Commutator(A, B+C).expand(commutator=True)"
   ]
  },
  {
   "cell_type": "code",
   "execution_count": 32,
   "metadata": {
    "colab": {
     "base_uri": "https://localhost:8080/",
     "height": 38
    },
    "id": "WaO_yYa4rfMQ",
    "outputId": "715d5a8c-a8a9-4c96-ed61-1a6d1f3e0a0f"
   },
   "outputs": [
    {
     "data": {
      "text/latex": [
       "$\\displaystyle \\left[A,C\\right] B + A \\left[B,C\\right]$"
      ],
      "text/plain": [
       "[A,C]*B + A*[B,C]"
      ]
     },
     "execution_count": 32,
     "metadata": {},
     "output_type": "execute_result"
    }
   ],
   "source": [
    "Commutator(A*B, C).expand(commutator=True)"
   ]
  },
  {
   "cell_type": "code",
   "execution_count": 33,
   "metadata": {
    "colab": {
     "base_uri": "https://localhost:8080/",
     "height": 38
    },
    "id": "WOpJd2UMsDqW",
    "outputId": "fed1178b-368b-4233-9707-629bc80f70fb"
   },
   "outputs": [
    {
     "data": {
      "text/latex": [
       "$\\displaystyle \\left[A,B\\right] C + B \\left[A,C\\right]$"
      ],
      "text/plain": [
       "[A,B]*C + B*[A,C]"
      ]
     },
     "execution_count": 33,
     "metadata": {},
     "output_type": "execute_result"
    }
   ],
   "source": [
    "Commutator(A, B*C).expand(commutator=True)"
   ]
  },
  {
   "cell_type": "code",
   "execution_count": 34,
   "metadata": {
    "colab": {
     "base_uri": "https://localhost:8080/",
     "height": 38
    },
    "id": "Vkpt1k1BsVKW",
    "outputId": "975504dd-72ef-44e9-ab04-bbf7b4c0844b"
   },
   "outputs": [
    {
     "data": {
      "text/latex": [
       "$\\displaystyle - \\left[A^{\\dagger},B^{\\dagger}\\right]$"
      ],
      "text/plain": [
       "-[Dagger(A),Dagger(B)]"
      ]
     },
     "execution_count": 34,
     "metadata": {},
     "output_type": "execute_result"
    }
   ],
   "source": [
    "Dagger(Commutator(A, B))"
   ]
  },
  {
   "cell_type": "markdown",
   "metadata": {
    "id": "naFIWwjmswSB"
   },
   "source": [
    "### Inner Product\n",
    "An unevaluated inner product between a Bra and a Ket [1].\n",
    "\n",
    "Parameters\n",
    "bra : BraBase or subclass\n",
    "The bra on the left side of the inner product.\n",
    "ket : KetBase or subclass\n",
    "The ket on the right side of the inner product.\n"
   ]
  },
  {
   "cell_type": "code",
   "execution_count": 35,
   "metadata": {
    "colab": {
     "base_uri": "https://localhost:8080/",
     "height": 38
    },
    "id": "dQ-xw8PBs8aR",
    "outputId": "55ee01cb-93ab-4d91-95d7-c7867d338c41"
   },
   "outputs": [
    {
     "data": {
      "text/latex": [
       "$\\displaystyle \\left\\langle b \\right. {\\left|k\\right\\rangle }$"
      ],
      "text/plain": [
       "<b|k>"
      ]
     },
     "execution_count": 35,
     "metadata": {},
     "output_type": "execute_result"
    }
   ],
   "source": [
    "from sympy.physics.quantum import Bra, Ket\n",
    "b = Bra('b')\n",
    "k = Ket('k')\n",
    "ip = b*k\n",
    "ip"
   ]
  },
  {
   "cell_type": "code",
   "execution_count": 36,
   "metadata": {
    "colab": {
     "base_uri": "https://localhost:8080/",
     "height": 38
    },
    "id": "Of78_IJEs-rb",
    "outputId": "f290f9e3-641f-4763-dbbf-652e76b99418"
   },
   "outputs": [
    {
     "data": {
      "text/latex": [
       "$\\displaystyle {\\left\\langle b\\right|}$"
      ],
      "text/plain": [
       "<b|"
      ]
     },
     "execution_count": 36,
     "metadata": {},
     "output_type": "execute_result"
    }
   ],
   "source": [
    "ip.bra"
   ]
  },
  {
   "cell_type": "code",
   "execution_count": 37,
   "metadata": {
    "colab": {
     "base_uri": "https://localhost:8080/",
     "height": 38
    },
    "id": "FCpravK2s_YH",
    "outputId": "21ff06d2-2fc1-4abe-df24-65cf9c406d38"
   },
   "outputs": [
    {
     "data": {
      "text/latex": [
       "$\\displaystyle {\\left|k\\right\\rangle }$"
      ],
      "text/plain": [
       "|k>"
      ]
     },
     "execution_count": 37,
     "metadata": {},
     "output_type": "execute_result"
    }
   ],
   "source": [
    "ip.ket"
   ]
  },
  {
   "cell_type": "code",
   "execution_count": 38,
   "metadata": {
    "colab": {
     "base_uri": "https://localhost:8080/",
     "height": 38
    },
    "id": "QxXSBhXKs_8A",
    "outputId": "8d9efa91-49fa-45bb-b8eb-7dd3cd32e118"
   },
   "outputs": [
    {
     "data": {
      "text/latex": [
       "$\\displaystyle \\left\\langle b \\right. {\\left|k\\right\\rangle }$"
      ],
      "text/plain": [
       "<b|k>"
      ]
     },
     "execution_count": 38,
     "metadata": {},
     "output_type": "execute_result"
    }
   ],
   "source": [
    "b*k"
   ]
  },
  {
   "cell_type": "code",
   "execution_count": 39,
   "metadata": {
    "colab": {
     "base_uri": "https://localhost:8080/",
     "height": 38
    },
    "id": "e5IVYyHjtAoX",
    "outputId": "c8221cfe-2df9-40f4-b357-289b6b75fbe1"
   },
   "outputs": [
    {
     "data": {
      "text/latex": [
       "$\\displaystyle {\\left|k\\right\\rangle }{\\left\\langle b\\right|} {\\left|k\\right\\rangle } {\\left\\langle b\\right|}$"
      ],
      "text/plain": [
       "|k><b|*|k>*<b|"
      ]
     },
     "execution_count": 39,
     "metadata": {},
     "output_type": "execute_result"
    }
   ],
   "source": [
    "k*b*k*b"
   ]
  },
  {
   "cell_type": "code",
   "execution_count": 40,
   "metadata": {
    "colab": {
     "base_uri": "https://localhost:8080/",
     "height": 38
    },
    "id": "wdD6FBZBuJE4",
    "outputId": "8ab53ab2-8a01-4687-a0dd-85c6e4ec50dd"
   },
   "outputs": [
    {
     "data": {
      "text/latex": [
       "$\\displaystyle \\left\\langle b \\right. {\\left|k\\right\\rangle } {\\left|k\\right\\rangle } {\\left\\langle b\\right|}$"
      ],
      "text/plain": [
       "<b|k>*|k>*<b|"
      ]
     },
     "execution_count": 40,
     "metadata": {},
     "output_type": "execute_result"
    }
   ],
   "source": [
    "k*(b*k)*b"
   ]
  },
  {
   "cell_type": "markdown",
   "metadata": {
    "id": "ClNvbKWtvFIb"
   },
   "source": [
    "## TensorProduct\n",
    "\n",
    "class sympy.physics.quantum.tensorproduct.TensorProduct(*args)[source]\n",
    "The tensor product of two or more arguments.\n",
    "\n",
    "For matrices, this uses matrix_tensor_product to compute the Kronecker or tensor product matrix. For other objects a symbolic TensorProduct instance is returned. The tensor product is a non-commutative multiplication that is used primarily with operators and states in quantum mechanics.\n",
    "\n",
    "Currently, the tensor product distinguishes between commutative and non-commutative arguments. Commutative arguments are assumed to be scalars and are pulled out in front of the TensorProduct. Non-commutative arguments remain in the resulting TensorProduct."
   ]
  },
  {
   "cell_type": "code",
   "execution_count": null,
   "metadata": {
    "id": "i9gkrcuwv5OZ"
   },
   "outputs": [],
   "source": []
  },
  {
   "cell_type": "code",
   "execution_count": 41,
   "metadata": {
    "colab": {
     "base_uri": "https://localhost:8080/",
     "height": 98
    },
    "id": "ojrZmTmwu792",
    "outputId": "8e409128-8ea6-44b3-d3fb-4ce03934f6e0"
   },
   "outputs": [
    {
     "data": {
      "text/latex": [
       "$\\displaystyle \\left[\\begin{matrix}1 & 0 & 2 & 0\\\\0 & 1 & 0 & 2\\\\3 & 0 & 4 & 0\\\\0 & 3 & 0 & 4\\end{matrix}\\right]$"
      ],
      "text/plain": [
       "Matrix([\n",
       "[1, 0, 2, 0],\n",
       "[0, 1, 0, 2],\n",
       "[3, 0, 4, 0],\n",
       "[0, 3, 0, 4]])"
      ]
     },
     "execution_count": 41,
     "metadata": {},
     "output_type": "execute_result"
    }
   ],
   "source": [
    "from sympy import Matrix\n",
    "from sympy.physics.quantum import TensorProduct\n",
    "m1 = Matrix([[1,2],[3,4]])\n",
    "m2 = Matrix([[1,0],[0,1]])\n",
    "TensorProduct(m1, m2)"
   ]
  },
  {
   "cell_type": "code",
   "execution_count": 44,
   "metadata": {
    "colab": {
     "base_uri": "https://localhost:8080/",
     "height": 98
    },
    "id": "FQsTIL_-u8xE",
    "outputId": "f64e9eb1-82bf-452d-f318-819d038ece5c"
   },
   "outputs": [
    {
     "data": {
      "text/latex": [
       "$\\displaystyle \\left[\\begin{matrix}1 & 2 & 0 & 0\\\\3 & 4 & 0 & 0\\\\0 & 0 & 1 & 2\\\\0 & 0 & 3 & 4\\end{matrix}\\right]$"
      ],
      "text/plain": [
       "Matrix([\n",
       "[1, 2, 0, 0],\n",
       "[3, 4, 0, 0],\n",
       "[0, 0, 1, 2],\n",
       "[0, 0, 3, 4]])"
      ]
     },
     "execution_count": 44,
     "metadata": {},
     "output_type": "execute_result"
    }
   ],
   "source": [
    "TensorProduct(m2, m1)"
   ]
  },
  {
   "cell_type": "code",
   "execution_count": 45,
   "metadata": {
    "colab": {
     "base_uri": "https://localhost:8080/",
     "height": 38
    },
    "id": "N45z_0RZwwMx",
    "outputId": "3f23c08d-99b9-4351-d743-443a87048db5"
   },
   "outputs": [
    {
     "data": {
      "text/latex": [
       "$\\displaystyle {A}\\otimes {B}$"
      ],
      "text/plain": [
       "AxB"
      ]
     },
     "execution_count": 45,
     "metadata": {},
     "output_type": "execute_result"
    }
   ],
   "source": [
    "from sympy import Symbol\n",
    "A = Symbol('A',commutative=False)\n",
    "B = Symbol('B',commutative=False)\n",
    "tp = TensorProduct(A, B)\n",
    "tp"
   ]
  },
  {
   "cell_type": "code",
   "execution_count": 46,
   "metadata": {
    "colab": {
     "base_uri": "https://localhost:8080/",
     "height": 38
    },
    "id": "O68fMw1rxPlF",
    "outputId": "42fdc942-58d3-42dd-e8c7-f2df7c7dceae"
   },
   "outputs": [
    {
     "data": {
      "text/latex": [
       "$\\displaystyle {A^{\\dagger}}\\otimes {B^{\\dagger}}$"
      ],
      "text/plain": [
       "Dagger(A)xDagger(B)"
      ]
     },
     "execution_count": 46,
     "metadata": {},
     "output_type": "execute_result"
    }
   ],
   "source": [
    "from sympy.physics.quantum import Dagger\n",
    "Dagger(tp)"
   ]
  },
  {
   "cell_type": "code",
   "execution_count": 47,
   "metadata": {},
   "outputs": [],
   "source": [
    "from sympy import symbols\n",
    "a, b, c, d, e, f, g, h = symbols(\"a, b, c, d, e, f, g, h\")"
   ]
  },
  {
   "cell_type": "code",
   "execution_count": 48,
   "metadata": {},
   "outputs": [
    {
     "data": {
      "text/latex": [
       "$\\displaystyle \\left[\\begin{matrix}a e & a f & b e & b f\\\\a g & a h & b g & b h\\\\c e & c f & d e & d f\\\\c g & c h & d g & d h\\end{matrix}\\right]$"
      ],
      "text/plain": [
       "Matrix([\n",
       "[a*e, a*f, b*e, b*f],\n",
       "[a*g, a*h, b*g, b*h],\n",
       "[c*e, c*f, d*e, d*f],\n",
       "[c*g, c*h, d*g, d*h]])"
      ]
     },
     "execution_count": 48,
     "metadata": {},
     "output_type": "execute_result"
    }
   ],
   "source": [
    "from sympy import Matrix\n",
    "from sympy.physics.quantum import TensorProduct\n",
    "m1 = Matrix([[a, b],[c, d]])\n",
    "m2 = Matrix([[e, f],[g, h]])\n",
    "TensorProduct(m1, m2)"
   ]
  },
  {
   "cell_type": "markdown",
   "metadata": {
    "id": "Pj65ikPjx9uR"
   },
   "source": [
    "Try to simplify and combine TensorProducts.\n",
    "\n",
    "In general this will try to pull expressions inside of TensorProducts. It currently only works for relatively simple cases where the products have only scalars, raw TensorProducts, not Add, Pow, Commutators of TensorProducts. It is best to see what it does by showing examples."
   ]
  },
  {
   "cell_type": "code",
   "execution_count": 49,
   "metadata": {
    "id": "Lj2dnU6PyOVk"
   },
   "outputs": [],
   "source": [
    "from sympy.physics.quantum import tensor_product_simp\n",
    "from sympy.physics.quantum import TensorProduct\n",
    "from sympy import Symbol\n",
    "A = Symbol('A',commutative=False)\n",
    "B = Symbol('B',commutative=False)\n",
    "C = Symbol('C',commutative=False)\n",
    "D = Symbol('D',commutative=False)"
   ]
  },
  {
   "cell_type": "code",
   "execution_count": 50,
   "metadata": {
    "colab": {
     "base_uri": "https://localhost:8080/",
     "height": 38
    },
    "id": "J-6EA9bTx5no",
    "outputId": "5482d924-c453-40a1-8636-68555611ff85"
   },
   "outputs": [
    {
     "data": {
      "text/latex": [
       "$\\displaystyle {A}\\otimes {B} {C}\\otimes {D}$"
      ],
      "text/plain": [
       "AxB*CxD"
      ]
     },
     "execution_count": 50,
     "metadata": {},
     "output_type": "execute_result"
    }
   ],
   "source": [
    "e = TensorProduct(A,B)*TensorProduct(C,D)\n",
    "e"
   ]
  },
  {
   "cell_type": "code",
   "execution_count": 51,
   "metadata": {
    "colab": {
     "base_uri": "https://localhost:8080/",
     "height": 38
    },
    "id": "FsIh_2BDzII-",
    "outputId": "b175f308-e741-4c5f-b3b8-6389a2d67414"
   },
   "outputs": [
    {
     "data": {
      "text/latex": [
       "$\\displaystyle \\left({A C}\\right)\\otimes \\left({B D}\\right)$"
      ],
      "text/plain": [
       "(A*C)x(B*D)"
      ]
     },
     "execution_count": 51,
     "metadata": {},
     "output_type": "execute_result"
    }
   ],
   "source": [
    "tensor_product_simp(e)"
   ]
  },
  {
   "cell_type": "markdown",
   "metadata": {
    "id": "5pqefByHWdpt"
   },
   "source": [
    "# Complex numbers\n",
    "Using complex numbers in machine learning is rare, but in quantum mechanics, all spaces use complex numbers. The difference is that a complex number has an imaginary component: a part that is a multiple of $i=\\sqrt{-1}$. Complex numbers are very much an algebraic construct: technically speaking, they are [algebraically closed](https://en.wikipedia.org/wiki/Fundamental_theorem_of_algebra), whereas the real numbers are not. From our perspective, what matters is that they enable us to model effects like interference. We denote the set of complex numbers by $\\mathbb{C}$.\n",
    "\n",
    "The imaginary number $i$ in Python is denoted by `1j`. We can quickly check that it indeed squares to -1:"
   ]
  },
  {
   "cell_type": "code",
   "execution_count": null,
   "metadata": {
    "id": "9bNRSrA1Wjmy"
   },
   "outputs": [],
   "source": []
  },
  {
   "cell_type": "code",
   "execution_count": 52,
   "metadata": {
    "id": "UoCdxfK5x2RZ"
   },
   "outputs": [],
   "source": [
    "import matplotlib.pyplot as plt\n",
    "import numpy as np\n",
    "%matplotlib inline\n",
    "np.set_printoptions(precision=3, suppress=True)\n",
    "π = np.pi"
   ]
  },
  {
   "cell_type": "code",
   "execution_count": 53,
   "metadata": {
    "colab": {
     "base_uri": "https://localhost:8080/"
    },
    "id": "argRGkXNx5c8",
    "outputId": "983deccd-2fce-40ec-b9e2-78efa0b8b28e"
   },
   "outputs": [
    {
     "data": {
      "text/plain": [
       "array([0. +6.j, 1. +7.j, 2. +8.j, 3. +9.j, 4.+10.j])"
      ]
     },
     "execution_count": 53,
     "metadata": {},
     "output_type": "execute_result"
    }
   ],
   "source": [
    "a = np.arange(5) + 1j*np.arange(6,11);\n",
    "a"
   ]
  },
  {
   "cell_type": "code",
   "execution_count": 54,
   "metadata": {
    "colab": {
     "base_uri": "https://localhost:8080/",
     "height": 282
    },
    "id": "MWwxA50WLgNJ",
    "outputId": "8fb569d2-a634-4eab-99bb-dc1515a2388f"
   },
   "outputs": [
    {
     "data": {
      "text/plain": [
       "<matplotlib.collections.PathCollection at 0x1244f68f0>"
      ]
     },
     "execution_count": 54,
     "metadata": {},
     "output_type": "execute_result"
    },
    {
     "data": {
      "image/png": "[encoded data removed]",
      "text/plain": [
       "<Figure size 432x288 with 1 Axes>"
      ]
     },
     "metadata": {
      "needs_background": "light"
     },
     "output_type": "display_data"
    }
   ],
   "source": [
    "plt.fig,ax = plt.subplots()\n",
    "ax.scatter(a.real,a.imag)"
   ]
  },
  {
   "cell_type": "code",
   "execution_count": 55,
   "metadata": {
    "id": "Jen7tKizSyAZ"
   },
   "outputs": [],
   "source": [
    "def argand(a):\n",
    "    import matplotlib.pyplot as plt\n",
    "    import numpy as np\n",
    "    for x in range(len(a)):\n",
    "        plt.plot([0,a[x].real],[0,a[x].imag],'ro-',label='python')\n",
    "    limit=np.max(np.ceil(np.absolute(a))) # set limits for axis\n",
    "    plt.xlim((-limit,limit))\n",
    "    plt.ylim((-limit,limit))\n",
    "    plt.ylabel('Imaginary')\n",
    "    plt.xlabel('Real')\n",
    "    plt.show()"
   ]
  },
  {
   "cell_type": "code",
   "execution_count": 56,
   "metadata": {
    "colab": {
     "base_uri": "https://localhost:8080/",
     "height": 279
    },
    "id": "f4MJ2YvVS0LU",
    "outputId": "212df2a4-26cb-4437-9a6b-fb26abec1d65"
   },
   "outputs": [
    {
     "data": {
      "image/png": "[encoded data removed]",
      "text/plain": [
       "<Figure size 432x288 with 1 Axes>"
      ]
     },
     "metadata": {
      "needs_background": "light"
     },
     "output_type": "display_data"
    }
   ],
   "source": [
    "a = np.arange(5) + 1j*np.arange(6,11)\n",
    "argand(a)\n",
    "#from argand import argand\n"
   ]
  },
  {
   "cell_type": "markdown",
   "metadata": {
    "id": "4D0LFLMhO-ut"
   },
   "source": [
    "## Basic Arithmatic Operations & Complex Numbers"
   ]
  },
  {
   "cell_type": "code",
   "execution_count": 57,
   "metadata": {
    "colab": {
     "base_uri": "https://localhost:8080/"
    },
    "id": "GhE9ifLPO-uv",
    "outputId": "d472ad08-f157-4bea-a1a6-e9895ec2d5c6"
   },
   "outputs": [
    {
     "data": {
      "text/plain": [
       "14"
      ]
     },
     "execution_count": 57,
     "metadata": {},
     "output_type": "execute_result"
    }
   ],
   "source": [
    "5+9"
   ]
  },
  {
   "cell_type": "code",
   "execution_count": 58,
   "metadata": {
    "colab": {
     "base_uri": "https://localhost:8080/"
    },
    "id": "iMzTpwK1O-uw",
    "outputId": "2a181412-e58a-403e-d54d-7961f52841bf"
   },
   "outputs": [
    {
     "data": {
      "text/plain": [
       "48"
      ]
     },
     "execution_count": 58,
     "metadata": {},
     "output_type": "execute_result"
    }
   ],
   "source": [
    "12*4"
   ]
  },
  {
   "cell_type": "markdown",
   "metadata": {
    "id": "BM51ISjgO-ux"
   },
   "source": [
    "Complex numbers are always of the form\n",
    "\n",
    "\\begin{align}\n",
    "\\alpha = a + bi\n",
    "\\end{align}\n"
   ]
  },
  {
   "cell_type": "code",
   "execution_count": 59,
   "metadata": {
    "colab": {
     "base_uri": "https://localhost:8080/"
    },
    "id": "9FtQDamjO-uy",
    "outputId": "631c0b58-f5be-4b2c-9d02-b56a28871ac9"
   },
   "outputs": [
    {
     "data": {
      "text/plain": [
       "(-1+0j)"
      ]
     },
     "execution_count": 59,
     "metadata": {},
     "output_type": "execute_result"
    }
   ],
   "source": [
    "1j * 1j"
   ]
  },
  {
   "cell_type": "code",
   "execution_count": 60,
   "metadata": {
    "id": "71jYscr4O-u0"
   },
   "outputs": [],
   "source": [
    "z = 3 + 4j\n",
    "w = 1 - 2j"
   ]
  },
  {
   "cell_type": "code",
   "execution_count": null,
   "metadata": {
    "id": "V7-qZO3WO-u0"
   },
   "outputs": [],
   "source": []
  },
  {
   "cell_type": "code",
   "execution_count": 61,
   "metadata": {
    "colab": {
     "base_uri": "https://localhost:8080/"
    },
    "id": "iAeF25XdO-u1",
    "outputId": "eee2d05c-e39b-418b-c51c-3f616e4d02a9"
   },
   "outputs": [
    {
     "name": "stdout",
     "output_type": "stream",
     "text": [
      "z= (3+4j)\n",
      "Real(z)= 3.0\n",
      "Imag(z)= 4.0\n"
     ]
    }
   ],
   "source": [
    "print('z=', z)\n",
    "print('Real(z)=', np.real(z))\n",
    "print('Imag(z)=', np.imag(z))"
   ]
  },
  {
   "cell_type": "code",
   "execution_count": 62,
   "metadata": {
    "colab": {
     "base_uri": "https://localhost:8080/"
    },
    "id": "m6G5-MH4O-u2",
    "outputId": "0b73cafd-e630-4b8b-af19-f1de05d92fb6"
   },
   "outputs": [
    {
     "data": {
      "text/plain": [
       "(4+2j)"
      ]
     },
     "execution_count": 62,
     "metadata": {},
     "output_type": "execute_result"
    }
   ],
   "source": [
    "z+w"
   ]
  },
  {
   "cell_type": "code",
   "execution_count": 63,
   "metadata": {
    "colab": {
     "base_uri": "https://localhost:8080/"
    },
    "id": "B9EE-rO6O-u3",
    "outputId": "66cf0885-d33a-4d47-871b-2f9c0d37405a"
   },
   "outputs": [
    {
     "data": {
      "text/plain": [
       "(2+6j)"
      ]
     },
     "execution_count": 63,
     "metadata": {},
     "output_type": "execute_result"
    }
   ],
   "source": [
    "z-w"
   ]
  },
  {
   "cell_type": "code",
   "execution_count": 64,
   "metadata": {
    "colab": {
     "base_uri": "https://localhost:8080/"
    },
    "id": "Eus-vtKeO-u4",
    "outputId": "38541e6c-443c-4f8e-d7a4-1e6f58954843"
   },
   "outputs": [
    {
     "data": {
      "text/plain": [
       "(-1+2j)"
      ]
     },
     "execution_count": 64,
     "metadata": {},
     "output_type": "execute_result"
    }
   ],
   "source": [
    "z/w"
   ]
  },
  {
   "cell_type": "markdown",
   "metadata": {
    "id": "9UVQvLDVO-u4"
   },
   "source": [
    "## Complex conjugate"
   ]
  },
  {
   "cell_type": "code",
   "execution_count": 65,
   "metadata": {
    "colab": {
     "base_uri": "https://localhost:8080/"
    },
    "id": "DcRQVI_WO-u5",
    "outputId": "b2ae98e6-e8a0-4711-9fe3-0b914993e051"
   },
   "outputs": [
    {
     "data": {
      "text/plain": [
       "(3+4j)"
      ]
     },
     "execution_count": 65,
     "metadata": {},
     "output_type": "execute_result"
    }
   ],
   "source": [
    "z"
   ]
  },
  {
   "cell_type": "code",
   "execution_count": 66,
   "metadata": {
    "colab": {
     "base_uri": "https://localhost:8080/"
    },
    "id": "zvR3oDTvO-u6",
    "outputId": "7b732dcb-53db-45a5-bf54-22ccd6d22ced"
   },
   "outputs": [
    {
     "data": {
      "text/plain": [
       "(3-4j)"
      ]
     },
     "execution_count": 66,
     "metadata": {},
     "output_type": "execute_result"
    }
   ],
   "source": [
    "np.conj(z)"
   ]
  },
  {
   "cell_type": "markdown",
   "metadata": {
    "id": "Lo2w3CmVO-u6"
   },
   "source": [
    "## Norms/Absolute Values\n",
    "\n",
    "\n",
    "\n",
    "\\begin{align} ||z|| &= \\sqrt{zz^*} = \\sqrt{|z|^2},\\\\ ||w|| &= \\sqrt{ww^*} = \\sqrt{|w|^2}, \\end{align} "
   ]
  },
  {
   "cell_type": "code",
   "execution_count": 67,
   "metadata": {
    "colab": {
     "base_uri": "https://localhost:8080/"
    },
    "id": "GYSjJDLcO-u7",
    "outputId": "311a0883-f112-43ad-ba74-b54c3dbf5464"
   },
   "outputs": [
    {
     "name": "stdout",
     "output_type": "stream",
     "text": [
      "||z||= 5.0\n"
     ]
    }
   ],
   "source": [
    "print('||z||=', np.abs(z))"
   ]
  },
  {
   "cell_type": "code",
   "execution_count": 68,
   "metadata": {
    "colab": {
     "base_uri": "https://localhost:8080/"
    },
    "id": "P_005-i3O-u7",
    "outputId": "0eea7817-6a34-44d2-a88e-83f02ac77205"
   },
   "outputs": [
    {
     "name": "stdout",
     "output_type": "stream",
     "text": [
      "||w||= 2.23606797749979\n"
     ]
    }
   ],
   "source": [
    "print('||w||=', np.abs(w))"
   ]
  },
  {
   "cell_type": "markdown",
   "metadata": {
    "id": "PufhytMfO-u8"
   },
   "source": [
    "## Row Vectors, Column Vectors, and Bra-Ket Notation"
   ]
  },
  {
   "cell_type": "markdown",
   "metadata": {
    "id": "JAmX4uUnO-u8"
   },
   "source": [
    "\\begin{align} \\text{Column Vector:} \\ \\begin{pmatrix}\n",
    "a_1 \\\\ a_2 \\\\ \\vdots \\\\ a_n\n",
    "\\end{pmatrix} \n",
    "\\quad \\quad \\text{Row Vector:} \\ \\begin{pmatrix}\n",
    "a_1, & a_2, & \\cdots, & a_n\n",
    "\\end{pmatrix} \\end{align}\n",
    "\n"
   ]
  },
  {
   "cell_type": "code",
   "execution_count": 69,
   "metadata": {
    "id": "5U2xcX1EO-u9"
   },
   "outputs": [],
   "source": [
    "# Create a vector as a row\n",
    "row_vector = np.array([2-1j, 7j, -3])\n",
    "\n",
    "# Create a vector as a column\n",
    "column_vector = np.array([[2+1j],\n",
    "                          [-5],\n",
    "                          [2j]])"
   ]
  },
  {
   "cell_type": "code",
   "execution_count": 70,
   "metadata": {
    "colab": {
     "base_uri": "https://localhost:8080/"
    },
    "id": "a3hEexp3O-u-",
    "outputId": "6c0985c9-620b-42ed-c5ab-2e377538e683"
   },
   "outputs": [
    {
     "data": {
      "text/plain": [
       "array([ 2.-1.j,  0.+7.j, -3.+0.j])"
      ]
     },
     "execution_count": 70,
     "metadata": {},
     "output_type": "execute_result"
    }
   ],
   "source": [
    "row_vector"
   ]
  },
  {
   "cell_type": "markdown",
   "metadata": {
    "id": "cPQH1HW2O-u-"
   },
   "source": [
    "Row vectors in quantum mechanics are also called **bra-vectors**, and are denoted as follows:\n",
    "\n",
    "\\begin{align} \\langle A| = \\begin{pmatrix}\n",
    "a_1, & a_2, \\cdots, & a_n\n",
    "\\end{pmatrix} \\end{align}\n",
    "\n",
    "Column vectors are also called **ket-vectors** in quantum mechanics denoted as follows:\n",
    "\n",
    "\\begin{align} |B\\rangle = \\begin{pmatrix}\n",
    "b_1 \\\\ b_2 \\\\ \\vdots \\\\ b_n\n",
    "\\end{pmatrix} \\end{align}\n",
    "\n",
    "In general, if we have a column vector, i.e. a ket-vector:\n",
    "\n",
    "\\begin{align} |A\\rangle = \\begin{pmatrix}\n",
    "a_1 \\\\ a_2 \\\\ \\vdots \\\\ a_n\n",
    "\\end{pmatrix} \\end{align}\n",
    "\n",
    "the corresponding bra-vector:\n",
    "\n",
    "\\begin{align} \\langle A| = \\begin{pmatrix}\n",
    "a_1^*, & a_2^*, & \\cdots, & a_n^*\n",
    "\\end{pmatrix} \\end{align}\n"
   ]
  },
  {
   "cell_type": "code",
   "execution_count": 71,
   "metadata": {
    "id": "6piMcfKrO-u_"
   },
   "outputs": [],
   "source": [
    "ket_A = np.array([[2-1j],\n",
    "                  [5]])\n",
    "ket_B = np.array([[7], \n",
    "                  [-3j]])"
   ]
  },
  {
   "cell_type": "code",
   "execution_count": 72,
   "metadata": {
    "colab": {
     "base_uri": "https://localhost:8080/"
    },
    "id": "uVCjPBl1O-u_",
    "outputId": "e23965b5-bf4a-4fea-b437-ecac4e918309"
   },
   "outputs": [
    {
     "name": "stdout",
     "output_type": "stream",
     "text": [
      "[[9.-1.j]\n",
      " [5.-3.j]]\n"
     ]
    }
   ],
   "source": [
    "print(ket_A + ket_B)"
   ]
  },
  {
   "cell_type": "markdown",
   "metadata": {
    "id": "oAicwW3uO-vA"
   },
   "source": [
    "## Inner Product\n",
    "\n",
    "\\begin{align} \\langle A| = \\begin{pmatrix}\n",
    "a_1, & a_2, & \\cdots, & a_n\n",
    "\\end{pmatrix}, \\quad \\quad\n",
    "|B\\rangle = \\begin{pmatrix}\n",
    "b_1 \\\\ b_2 \\\\ \\vdots \\\\ b_n\n",
    "\\end{pmatrix} \\end{align}\n",
    "\n",
    "Taking the inner product of $\\langle A|$ and $|B\\rangle$ gives the following:\n",
    "\n",
    "\\begin{align} \\langle A| B \\rangle &= \\begin{pmatrix} \n",
    "a_1, & a_2, & \\cdots, & a_n\n",
    "\\end{pmatrix}\n",
    "\\begin{pmatrix}\n",
    "b_1 \\\\ b_2 \\\\ \\vdots \\\\ b_n\n",
    "\\end{pmatrix}\\\\\n",
    "&= \n",
    "a_1b_1 + a_2b_2 + \\cdots + a_nb_n\\\\\n",
    "&= \\sum_{i=1}^n a_ib_i\n",
    "\\end{align}"
   ]
  },
  {
   "cell_type": "code",
   "execution_count": 73,
   "metadata": {
    "colab": {
     "base_uri": "https://localhost:8080/"
    },
    "id": "1v3ngYOQO-vB",
    "outputId": "78c2053a-4ca1-459d-a7bb-dec586e8b01f"
   },
   "outputs": [
    {
     "data": {
      "text/plain": [
       "matrix([[1.-1.j],\n",
       "        [3.+0.j],\n",
       "        [0.+2.j],\n",
       "        [5.+1.j]])"
      ]
     },
     "execution_count": 73,
     "metadata": {},
     "output_type": "execute_result"
    }
   ],
   "source": [
    "# Define the 4x1 matrix version of a column vector (instead of using the np.array() version):\n",
    "A = np.matrix([[1-1j], \n",
    "               [3], \n",
    "               [2j], \n",
    "               [5+1j]])\n",
    "A"
   ]
  },
  {
   "cell_type": "code",
   "execution_count": 74,
   "metadata": {
    "colab": {
     "base_uri": "https://localhost:8080/"
    },
    "id": "TbibDqa8O-vB",
    "outputId": "bdb064e5-e57d-47e8-83c0-dd86f0d74525"
   },
   "outputs": [
    {
     "data": {
      "text/plain": [
       "matrix([[-0.-3.j,  2.+2.j, -0.-6.j, -7.+0.j]])"
      ]
     },
     "execution_count": 74,
     "metadata": {},
     "output_type": "execute_result"
    }
   ],
   "source": [
    "# Define B as a 1x4 matrix\n",
    "B = np.matrix([[-3j, 2+2j, -6j, -7]])\n",
    "\n",
    "B"
   ]
  },
  {
   "cell_type": "code",
   "execution_count": 75,
   "metadata": {
    "colab": {
     "base_uri": "https://localhost:8080/"
    },
    "id": "lKF6hIowO-vC",
    "outputId": "a0d1eae4-59d9-4e7c-fb0a-02bd21ddbcb8"
   },
   "outputs": [
    {
     "data": {
      "text/plain": [
       "matrix([[-20.-4.j]])"
      ]
     },
     "execution_count": 75,
     "metadata": {},
     "output_type": "execute_result"
    }
   ],
   "source": [
    "# Compute <B|A>\n",
    "np.dot(B,A)"
   ]
  },
  {
   "cell_type": "markdown",
   "metadata": {
    "id": "yZPFpwz-O-vD"
   },
   "source": [
    "## Matrices"
   ]
  },
  {
   "cell_type": "markdown",
   "metadata": {
    "id": "Dg_cGXTEO-vD"
   },
   "source": [
    "\n",
    "\\begin{align}\n",
    "M = \\begin{pmatrix}\n",
    "2-i & -3 \\\\\n",
    "-5i & 2\n",
    "\\end{pmatrix}\n",
    "\\end{align}"
   ]
  },
  {
   "cell_type": "code",
   "execution_count": 76,
   "metadata": {
    "colab": {
     "base_uri": "https://localhost:8080/"
    },
    "id": "wginfbVgO-vE",
    "outputId": "01e7d540-2cf2-4b85-96ea-47587b67bad3"
   },
   "outputs": [
    {
     "name": "stdout",
     "output_type": "stream",
     "text": [
      "[[ 2.-1.j -3.+0.j]\n",
      " [-0.-5.j  2.+0.j]]\n"
     ]
    }
   ],
   "source": [
    "M = np.array([[2-1j, -3],\n",
    "              [-5j, 2]])\n",
    "\n",
    "print(M)"
   ]
  },
  {
   "cell_type": "code",
   "execution_count": 77,
   "metadata": {
    "colab": {
     "base_uri": "https://localhost:8080/"
    },
    "id": "RpmtqfT5O-vE",
    "outputId": "f49a8dbf-81ba-410d-9562-9747810e2c73"
   },
   "outputs": [
    {
     "name": "stdout",
     "output_type": "stream",
     "text": [
      "[[ 2.-1.j -3.+0.j]\n",
      " [-0.-5.j  2.+0.j]]\n"
     ]
    }
   ],
   "source": [
    "M = np.matrix([[2-1j, -3],\n",
    "               [-5j, 2]])\n",
    "\n",
    "print(M)"
   ]
  },
  {
   "cell_type": "markdown",
   "metadata": {
    "id": "01yu8FarO-vF"
   },
   "source": [
    "Hermitian conjugates are given by taking the conjugate transpose of the matrix"
   ]
  },
  {
   "cell_type": "code",
   "execution_count": 78,
   "metadata": {
    "colab": {
     "base_uri": "https://localhost:8080/"
    },
    "id": "68DJajFTO-vG",
    "outputId": "00a4c808-be1a-48e3-a588-90765d74f5ee"
   },
   "outputs": [
    {
     "name": "stdout",
     "output_type": "stream",
     "text": [
      "[[ 2.+1.j -0.+5.j]\n",
      " [-3.-0.j  2.-0.j]]\n"
     ]
    }
   ],
   "source": [
    "print(M.H)"
   ]
  },
  {
   "cell_type": "markdown",
   "metadata": {
    "id": "C3fobBUQO-vG"
   },
   "source": [
    "## Tensor Products of Matrices"
   ]
  },
  {
   "cell_type": "markdown",
   "metadata": {
    "id": "z48IVp76O-vH"
   },
   "source": [
    "\\begin{align}\n",
    "\\begin{pmatrix}\n",
    "a & b \\\\\n",
    "c & d\n",
    "\\end{pmatrix} \\otimes \n",
    "\\begin{pmatrix}\n",
    "x & y \\\\\n",
    "z & w\n",
    "\\end{pmatrix} = \n",
    "\\begin{pmatrix}\n",
    "a \\begin{pmatrix}\n",
    "x & y \\\\\n",
    "z & w\n",
    "\\end{pmatrix} & b \\begin{pmatrix}\n",
    "x & y \\\\\n",
    "z & w\n",
    "\\end{pmatrix} \\\\\n",
    "c \\begin{pmatrix}\n",
    "x & y \\\\\n",
    "z & w\n",
    "\\end{pmatrix} & d \\begin{pmatrix}\n",
    "x & y \\\\\n",
    "z & w\n",
    "\\end{pmatrix}\n",
    "\\end{pmatrix} = \n",
    "\\begin{pmatrix}\n",
    "ax & ay & bx & by \\\\\n",
    "az & aw & bz & bw \\\\\n",
    "cx & cy & dx & dy \\\\\n",
    "cz & cw & dz & dw\n",
    "\\end{pmatrix}\n",
    "\\end{align}"
   ]
  },
  {
   "cell_type": "code",
   "execution_count": 84,
   "metadata": {
    "colab": {
     "base_uri": "https://localhost:8080/"
    },
    "id": "Pdk1IkPhPH0p",
    "outputId": "764fb9b4-ed3e-41d2-fb3b-ff616904e7b9"
   },
   "outputs": [],
   "source": [
    "A = np.matrix([[1j+8 , 2j-6], []])\n",
    "\n",
    "\n",
    "\n",
    "\n",
    "\n",
    "\n",
    "\n",
    "\n",
    "\n",
    "\n"
   ]
  },
  {
   "cell_type": "markdown",
   "metadata": {
    "id": "R3ja1oCuO-vI"
   },
   "source": [
    "# Task Two: Qubits, Bloch Sphere and Basis States"
   ]
  },
  {
   "cell_type": "code",
   "execution_count": 1,
   "metadata": {
    "colab": {
     "base_uri": "https://localhost:8080/"
    },
    "id": "jum5OvLHO-vJ",
    "outputId": "5dc9ce69-972b-4c8b-d61a-aa78ae230804"
   },
   "outputs": [
    {
     "data": {
      "text/plain": [
       "{'qiskit-terra': '0.21.1', 'qiskit-aer': '0.10.4', 'qiskit-ignis': None, 'qiskit-ibmq-provider': '0.19.2', 'qiskit': '0.37.1', 'qiskit-nature': None, 'qiskit-finance': None, 'qiskit-optimization': None, 'qiskit-machine-learning': None}"
      ]
     },
     "execution_count": 1,
     "metadata": {},
     "output_type": "execute_result"
    }
   ],
   "source": [
    "import qiskit\n",
    "qiskit.__qiskit_version__"
   ]
  },
  {
   "cell_type": "markdown",
   "metadata": {
    "id": "FKv7zcfmO-vK"
   },
   "source": [
    "\n",
    "\n",
    "\\begin{align}\n",
    "|\\psi \\rangle = \\begin{pmatrix}\n",
    "\\alpha \\\\ \\beta\n",
    "\\end{pmatrix}, \\quad \\text{where } \\sqrt{\\langle \\psi | \\psi \\rangle} = 1. \n",
    "\\end{align}"
   ]
  },
  {
   "cell_type": "markdown",
   "metadata": {
    "id": "ar94_9XZO-vK"
   },
   "source": [
    "Think of Qubit as an Electron:\n",
    "\n",
    "\\begin{align}\n",
    "\\text{spin-up}: \\ |0\\rangle &= \\begin{pmatrix} 1\\\\0 \\end{pmatrix} \\\\\n",
    "\\text{spin-down}: \\ |1\\rangle & = \\begin{pmatrix} 0\\\\1 \\end{pmatrix}\n",
    "\\end{align}"
   ]
  },
  {
   "cell_type": "code",
   "execution_count": 2,
   "metadata": {
    "id": "cVwHNRkWO-vL"
   },
   "outputs": [],
   "source": [
    "import numpy as np\n",
    "from qiskit import *\n",
    "from qiskit.visualization import plot_bloch_vector\n",
    "%matplotlib inline"
   ]
  },
  {
   "cell_type": "markdown",
   "metadata": {
    "id": "Gry0op0NO-vM"
   },
   "source": [
    "Another representation is via Bloch Sphere:"
   ]
  },
  {
   "cell_type": "code",
   "execution_count": 3,
   "metadata": {
    "colab": {
     "base_uri": "https://localhost:8080/",
     "height": 410
    },
    "id": "b-XM1ZPGO-vM",
    "outputId": "1984aae7-369a-428e-d718-a082cc382917"
   },
   "outputs": [
    {
     "data": {
      "image/png": "[encoded data removed]",
      "text/plain": [
       "<Figure size 360x360 with 1 Axes>"
      ]
     },
     "execution_count": 3,
     "metadata": {},
     "output_type": "execute_result"
    }
   ],
   "source": [
    "plot_bloch_vector([0,0,1], title=\"Spin-Up\")"
   ]
  },
  {
   "cell_type": "markdown",
   "metadata": {
    "id": "bZgpqtU-O-vN"
   },
   "source": [
    "## Spin + / - :\n",
    "\n",
    "\\begin{align}\n",
    "\\text{spin +}: \\ |+\\rangle &= \\begin{pmatrix} 1/\\sqrt{2} \\\\ 1/\\sqrt{2} \\end{pmatrix} = \\frac{1}{\\sqrt{2}} \\left(|0\\rangle + |1\\rangle\\right) \\\\\n",
    "\\text{spin -}: \\ |-\\rangle & = \\begin{pmatrix} 1/\\sqrt{2} \\\\ -1/\\sqrt{2} \\end{pmatrix} = \\frac{1}{\\sqrt{2}} \\left(|0\\rangle - |1\\rangle\\right)\n",
    "\\end{align}"
   ]
  },
  {
   "cell_type": "code",
   "execution_count": 4,
   "metadata": {
    "colab": {
     "base_uri": "https://localhost:8080/",
     "height": 410
    },
    "id": "xxwnMUplO-vO",
    "outputId": "70b7f45c-f852-4665-e46f-69dc006b61cf"
   },
   "outputs": [
    {
     "data": {
      "image/png": "[encoded data removed]",
      "text/plain": [
       "<Figure size 360x360 with 1 Axes>"
      ]
     },
     "execution_count": 4,
     "metadata": {},
     "output_type": "execute_result"
    }
   ],
   "source": [
    "plot_bloch_vector([1,0,0], title=\"spin-plus\")"
   ]
  },
  {
   "cell_type": "markdown",
   "metadata": {
    "id": "gSEXag85O-vP"
   },
   "source": [
    "## Basis States"
   ]
  },
  {
   "cell_type": "markdown",
   "metadata": {
    "id": "IRqgXr8_O-vP"
   },
   "source": [
    "\n",
    "\\begin{align}\n",
    " |0\\rangle &= \\begin{pmatrix} 1\\\\0 \\end{pmatrix} \\\\\n",
    " |1\\rangle & = \\begin{pmatrix} 0\\\\1 \\end{pmatrix}\n",
    "\\end{align}\n",
    "Preapring other states from Basis States:\n",
    "\\begin{align}\n",
    "|00 \\rangle &= |0\\rangle \\otimes |0\\rangle = \\begin{pmatrix} 1\\\\0 \\end{pmatrix} \\otimes \\begin{pmatrix} 1\\\\0 \\end{pmatrix} = \\begin{pmatrix} 1\\\\0\\\\0\\\\0 \\end{pmatrix} \\\\\n",
    "|01 \\rangle &= |0\\rangle \\otimes |1\\rangle = \\begin{pmatrix} 1\\\\0 \\end{pmatrix} \\otimes \\begin{pmatrix} 0\\\\1 \\end{pmatrix} = \\begin{pmatrix} 0\\\\1\\\\0\\\\0 \\end{pmatrix} \\\\\n",
    "|10 \\rangle &= |1\\rangle \\otimes |0\\rangle = \\begin{pmatrix} 0\\\\1 \\end{pmatrix} \\otimes \\begin{pmatrix} 1\\\\0 \\end{pmatrix} = \\begin{pmatrix} 0\\\\0\\\\1\\\\0 \\end{pmatrix} \\\\\n",
    "|11 \\rangle &= |1\\rangle \\otimes |1\\rangle = \\begin{pmatrix} 0\\\\1 \\end{pmatrix} \\otimes \\begin{pmatrix} 0\\\\1 \\end{pmatrix} = \\begin{pmatrix} 0\\\\0\\\\0\\\\1 \\end{pmatrix}\n",
    "\\end{align}"
   ]
  },
  {
   "cell_type": "code",
   "execution_count": 5,
   "metadata": {
    "id": "k-ubEPcIO-vQ"
   },
   "outputs": [],
   "source": [
    "qubit1_state = np.matrix([[1],[0]]) \n",
    "qubit2_state = np.matrix([[0],[1]])\n",
    "\n",
    "two_qubit_state =np.kron(qubit1_state, qubit2_state)"
   ]
  },
  {
   "cell_type": "code",
   "execution_count": null,
   "metadata": {
    "id": "-qXgY4WxO-vR"
   },
   "outputs": [],
   "source": []
  },
  {
   "cell_type": "markdown",
   "metadata": {
    "id": "I1U1NJpcO-vU"
   },
   "source": [
    "# Task Three: Qunatum Gates and Circuits"
   ]
  },
  {
   "cell_type": "code",
   "execution_count": 6,
   "metadata": {
    "id": "5XJskElBO-vV"
   },
   "outputs": [],
   "source": [
    "from qiskit import *\n",
    "from qiskit.visualization import plot_bloch_multivector"
   ]
  },
  {
   "cell_type": "markdown",
   "metadata": {
    "id": "ve6fmeqjO-vV"
   },
   "source": [
    "## Pauli Matrices"
   ]
  },
  {
   "cell_type": "markdown",
   "metadata": {
    "id": "EE3dOLhSO-vW"
   },
   "source": [
    "\\begin{align}\n",
    "I = \\begin{pmatrix} 1&0 \\\\ 0&1 \\end{pmatrix}, \\quad\n",
    "X = \\begin{pmatrix} 0&1 \\\\ 1&0 \\end{pmatrix}, \\quad\n",
    "Y = \\begin{pmatrix} 0&i \\\\ -i&0 \\end{pmatrix}, \\quad\n",
    "Z = \\begin{pmatrix} 1&0 \\\\ 0&-1 \\end{pmatrix} \\quad\n",
    "\\end{align}"
   ]
  },
  {
   "cell_type": "markdown",
   "metadata": {
    "id": "Yvp-IxDvO-vW"
   },
   "source": [
    "## X-gate"
   ]
  },
  {
   "cell_type": "markdown",
   "metadata": {
    "id": "KqErxt06O-vW"
   },
   "source": [
    "The X-gate is represented by the Pauli-X matrix:\n",
    "\n",
    "$$ X = \\begin{bmatrix} 0 & 1 \\\\ 1 & 0 \\end{bmatrix} = |0\\rangle\\langle1| + |1\\rangle\\langle0| $$\n",
    "\n",
    "Effect a gate has on a qubit: \n",
    "\n",
    "$$ X|0\\rangle = \\begin{bmatrix} 0 & 1 \\\\ 1 & 0 \\end{bmatrix}\\begin{bmatrix} 1 \\\\ 0 \\end{bmatrix} = \\begin{bmatrix} 0 \\\\ 1 \\end{bmatrix} = |1\\rangle$$\n"
   ]
  },
  {
   "cell_type": "code",
   "execution_count": 7,
   "metadata": {
    "colab": {
     "base_uri": "https://localhost:8080/",
     "height": 95
    },
    "id": "1lqQWwxNO-vX",
    "outputId": "3f7921e4-20b4-467f-ee1b-806809b19204"
   },
   "outputs": [
    {
     "data": {
      "image/png": "[encoded data removed]",
      "text/plain": [
       "<Figure size 133.526x84.28 with 1 Axes>"
      ]
     },
     "execution_count": 7,
     "metadata": {},
     "output_type": "execute_result"
    }
   ],
   "source": [
    "# Let's do an X-gate on a |0> qubit\n",
    "qc = QuantumCircuit(1)\n",
    "qc.x(0)\n",
    "qc.draw('mpl')"
   ]
  },
  {
   "cell_type": "code",
   "execution_count": 9,
   "metadata": {
    "colab": {
     "base_uri": "https://localhost:8080/",
     "height": 268
    },
    "id": "x3Cp-AY5O-vY",
    "outputId": "e11e716e-26a1-45da-be77-a7c91f9ce149"
   },
   "outputs": [
    {
     "data": {
      "image/png": "[encoded data removed]",
      "text/plain": [
       "<Figure size 288x288 with 1 Axes>"
      ]
     },
     "execution_count": 9,
     "metadata": {},
     "output_type": "execute_result"
    }
   ],
   "source": [
    "# Let's see the result\n",
    "backend = Aer.get_backend('statevector_simulator')\n",
    "out = execute(qc,backend).result().get_statevector()\n",
    "plot_bloch_multivector(out)"
   ]
  },
  {
   "cell_type": "markdown",
   "metadata": {
    "id": "1oUrGrIPO-vY"
   },
   "source": [
    "## Z & Y-Gate"
   ]
  },
  {
   "cell_type": "markdown",
   "metadata": {
    "id": "RpD47EiAO-vZ"
   },
   "source": [
    "\n",
    "\n",
    "$$ Y = \\begin{bmatrix} 0 & -i \\\\ i & 0 \\end{bmatrix} \\quad\\quad\\quad\\quad Z = \\begin{bmatrix} 1 & 0 \\\\ 0 & -1 \\end{bmatrix} $$\n",
    "\n",
    "$$ Y = -i|0\\rangle\\langle1| + i|1\\rangle\\langle0| \\quad\\quad Z = |0\\rangle\\langle0| - |1\\rangle\\langle1| $$\n",
    "\n",
    "\n"
   ]
  },
  {
   "cell_type": "code",
   "execution_count": 10,
   "metadata": {
    "colab": {
     "base_uri": "https://localhost:8080/",
     "height": 95
    },
    "id": "G72iBNNvO-vZ",
    "outputId": "9bf8b806-8141-43a8-bc2f-d10763f1bec2"
   },
   "outputs": [
    {
     "data": {
      "image/png": "[encoded data removed]",
      "text/plain": [
       "<Figure size 253.926x84.28 with 1 Axes>"
      ]
     },
     "execution_count": 10,
     "metadata": {},
     "output_type": "execute_result"
    }
   ],
   "source": [
    "qc.y(0) # Do Y-gate on qubit 0\n",
    "qc.z(0) # Do Z-gate on qubit 0\n",
    "qc.draw('mpl')"
   ]
  },
  {
   "cell_type": "markdown",
   "metadata": {
    "id": "zJY4J_vxO-va"
   },
   "source": [
    "## Hadamard Gate"
   ]
  },
  {
   "cell_type": "markdown",
   "metadata": {
    "id": "wpl0JVmxO-va"
   },
   "source": [
    "\n",
    "\n",
    "$$ H = \\tfrac{1}{\\sqrt{2}}\\begin{bmatrix} 1 & 1 \\\\ 1 & -1 \\end{bmatrix} $$\n",
    "\n",
    "We can see that this performs the transformations below:\n",
    "\n",
    "$$ H|0\\rangle = |+\\rangle $$\n",
    "\n",
    "$$ H|1\\rangle = |-\\rangle $$"
   ]
  },
  {
   "cell_type": "code",
   "execution_count": 11,
   "metadata": {
    "colab": {
     "base_uri": "https://localhost:8080/",
     "height": 185
    },
    "id": "Lw48c1N1O-vb",
    "outputId": "816542e0-6a7c-40ff-a171-d847f8ac712f"
   },
   "outputs": [
    {
     "data": {
      "image/png": "[encoded data removed]",
      "text/plain": [
       "<Figure size 146.797x204.68 with 1 Axes>"
      ]
     },
     "execution_count": 11,
     "metadata": {},
     "output_type": "execute_result"
    }
   ],
   "source": [
    "qc = QuantumCircuit(3)\n",
    "# Apply H-gate to each qubit:\n",
    "for qubit in range(3):\n",
    "    qc.h(qubit)\n",
    "# See the circuit:\n",
    "qc.draw('mpl')"
   ]
  },
  {
   "cell_type": "markdown",
   "metadata": {
    "id": "EtvMT-BZO-vb"
   },
   "source": [
    "## Identity Gate"
   ]
  },
  {
   "cell_type": "markdown",
   "metadata": {
    "id": "S1Vw9fw1O-vc"
   },
   "source": [
    "\n",
    "\n",
    "$$\n",
    "I = \\begin{bmatrix} 1 & 0 \\\\ 0 & 1\\end{bmatrix}\n",
    "$$\n",
    "\n",
    "\n",
    "\n",
    "$$ I = XX $$\n",
    "\n"
   ]
  },
  {
   "cell_type": "code",
   "execution_count": 12,
   "metadata": {
    "colab": {
     "base_uri": "https://localhost:8080/",
     "height": 95
    },
    "id": "JW7f454rO-vc",
    "outputId": "649b3a62-30cf-470e-faf7-84e8d26e3203"
   },
   "outputs": [
    {
     "data": {
      "image/png": "[encoded data removed]",
      "text/plain": [
       "<Figure size 103.426x84.28 with 1 Axes>"
      ]
     },
     "execution_count": 12,
     "metadata": {},
     "output_type": "execute_result"
    }
   ],
   "source": [
    "qc = QuantumCircuit(1)\n",
    "#qc.i(0)\n",
    "qc.draw('mpl')"
   ]
  },
  {
   "cell_type": "markdown",
   "metadata": {
    "id": "j7BDbKGHO-vd"
   },
   "source": [
    " ** Other Gates: S-gate , T-gate, U-gate"
   ]
  },
  {
   "cell_type": "markdown",
   "metadata": {
    "id": "0Dd28-56O-vd"
   },
   "source": [
    "## Multiple Qubits, Entanglement"
   ]
  },
  {
   "cell_type": "markdown",
   "metadata": {
    "id": "D5ywv1w4O-vd"
   },
   "source": [
    "## Multiple Qubits"
   ]
  },
  {
   "cell_type": "markdown",
   "metadata": {
    "id": "v8oVuaioO-ve"
   },
   "source": [
    "The state of two qubits :\n",
    "\n",
    "$$ |psi\\rangle = a_{00}|00\\rangle + a_{01}|01\\rangle + a_{10}|10\\rangle + a_{11}|11\\rangle = \\begin{bmatrix} a_{00} \\\\ a_{01} \\\\ a_{10} \\\\ a_{11} \\end{bmatrix} $$"
   ]
  },
  {
   "cell_type": "code",
   "execution_count": 13,
   "metadata": {
    "id": "alf07QBfO-ve"
   },
   "outputs": [],
   "source": [
    "from qiskit import * "
   ]
  },
  {
   "cell_type": "code",
   "execution_count": 14,
   "metadata": {
    "colab": {
     "base_uri": "https://localhost:8080/",
     "height": 185
    },
    "id": "W1kK_y9hO-vf",
    "outputId": "99454cbc-bdf2-4b3c-cbc3-ec145a57aad5"
   },
   "outputs": [
    {
     "data": {
      "image/png": "[encoded data removed]",
      "text/plain": [
       "<Figure size 146.797x204.68 with 1 Axes>"
      ]
     },
     "execution_count": 14,
     "metadata": {},
     "output_type": "execute_result"
    }
   ],
   "source": [
    "qc = QuantumCircuit(3)\n",
    "\n",
    "for qubit in range(3):\n",
    "    qc.h(qubit)\n",
    "\n",
    "qc.draw('mpl')"
   ]
  },
  {
   "cell_type": "markdown",
   "metadata": {
    "id": "iIHiMFx0O-vf"
   },
   "source": [
    "Each qubit is in the state $|+\\rangle$, so we should see the vector:\n",
    "\n",
    "$$ \n",
    "|{+++}\\rangle = \\frac{1}{\\sqrt{8}}\\begin{bmatrix} 1 \\\\ 1 \\\\ 1 \\\\ 1 \\\\\n",
    "                              1 \\\\ 1 \\\\ 1 \\\\ 1 \\\\\n",
    "              \\end{bmatrix}\n",
    "$$"
   ]
  },
  {
   "cell_type": "code",
   "execution_count": 15,
   "metadata": {
    "colab": {
     "base_uri": "https://localhost:8080/"
    },
    "id": "glQ2IAj3O-vg",
    "outputId": "0d701a3b-8726-48bd-dda6-a605a9fd9050"
   },
   "outputs": [
    {
     "name": "stdout",
     "output_type": "stream",
     "text": [
      "Statevector([0.35355339+0.j, 0.35355339+0.j, 0.35355339+0.j,\n",
      "             0.35355339+0.j, 0.35355339+0.j, 0.35355339+0.j,\n",
      "             0.35355339+0.j, 0.35355339+0.j],\n",
      "            dims=(2, 2, 2))\n"
     ]
    }
   ],
   "source": [
    "backend = Aer.get_backend('statevector_simulator')\n",
    "final_state= execute(qc, backend).result().get_statevector()\n",
    "print(final_state)"
   ]
  },
  {
   "cell_type": "code",
   "execution_count": 16,
   "metadata": {
    "colab": {
     "base_uri": "https://localhost:8080/",
     "height": 140
    },
    "id": "o3Y1hA_CO-vg",
    "outputId": "4264638c-44eb-4259-e41c-1ddf850455a4"
   },
   "outputs": [
    {
     "data": {
      "image/png": "[encoded data removed]",
      "text/plain": [
       "<Figure size 146.652x144.48 with 1 Axes>"
      ]
     },
     "execution_count": 16,
     "metadata": {},
     "output_type": "execute_result"
    }
   ],
   "source": [
    "qc = QuantumCircuit(2)\n",
    "\n",
    "qc.x(0)\n",
    "qc.h(1)\n",
    "\n",
    "qc.draw('mpl')"
   ]
  },
  {
   "cell_type": "markdown",
   "metadata": {
    "id": "kIrFkVyRO-vh"
   },
   "source": [
    "\n",
    "\n",
    "$$\n",
    "X|q_1\\rangle \\otimes H|q_0\\rangle = (X\\otimes H)|q_1 q_0\\rangle\n",
    "$$\n",
    "\n",
    "The operation looks like this:\n",
    "\n",
    "$$\n",
    "X\\otimes H = \\begin{bmatrix} 0 & 1 \\\\ 1 & 0 \\end{bmatrix} \\otimes \\tfrac{1}{\\sqrt{2}}\\begin{bmatrix} 1 & 1 \\\\ 1 & -1 \\end{bmatrix} = \\frac{1}{\\sqrt{2}}\n",
    "\\begin{bmatrix} 0 & 0 & 1 & 1 \\\\\n",
    "                0 & 0 & 1 & -1 \\\\\n",
    "                1 & 1 & 0 & 0 \\\\\n",
    "                1 & -1 & 0 & 0 \\\\\n",
    "\\end{bmatrix}\n",
    "$$\n",
    "\n",
    "Which we can then apply to our 4D statevector $|q_1 q_0\\rangle$. You will often see the clearer notation:\n",
    "\n",
    "$$\n",
    "X\\otimes H = \n",
    "\\begin{bmatrix} 0 & H \\\\\n",
    "               H & 0\\\\\n",
    "\\end{bmatrix}\n",
    "$$"
   ]
  },
  {
   "cell_type": "markdown",
   "metadata": {
    "id": "hJuppGF_O-vh"
   },
   "source": [
    "## C-Not Gate"
   ]
  },
  {
   "cell_type": "code",
   "execution_count": 17,
   "metadata": {
    "colab": {
     "base_uri": "https://localhost:8080/",
     "height": 140
    },
    "id": "9rSGz6L7O-vi",
    "outputId": "9e7f0835-29b8-4c12-a00b-4c8eb9c5a424"
   },
   "outputs": [
    {
     "data": {
      "image/png": "[encoded data removed]",
      "text/plain": [
       "<Figure size 146.652x144.48 with 1 Axes>"
      ]
     },
     "execution_count": 17,
     "metadata": {},
     "output_type": "execute_result"
    }
   ],
   "source": [
    "qc = QuantumCircuit(2)\n",
    "\n",
    "qc.cx(0, 1)\n",
    "\n",
    "qc.draw('mpl')\n",
    "\n"
   ]
  },
  {
   "cell_type": "markdown",
   "metadata": {
    "id": "UBIPChO4O-vj"
   },
   "source": [
    "Classical truth table of C-Not gate:\n",
    "\n",
    "| Input (t,c) | Output (t,c) |\n",
    "|:-----------:|:------------:|\n",
    "| 00          | 00           |\n",
    "| 01          | 11           |\n",
    "| 10          | 10           |\n",
    "| 11          | 01           |\n",
    "\n"
   ]
  },
  {
   "cell_type": "markdown",
   "metadata": {
    "id": "xI6zpvc-O-vk"
   },
   "source": [
    "## Entanglement"
   ]
  },
  {
   "cell_type": "code",
   "execution_count": 18,
   "metadata": {
    "colab": {
     "base_uri": "https://localhost:8080/",
     "height": 140
    },
    "id": "1fYLjc4VO-vk",
    "outputId": "e0a1eb59-ae4d-4fb4-8cc4-c4f902aaf887"
   },
   "outputs": [
    {
     "data": {
      "image/png": "[encoded data removed]",
      "text/plain": [
       "<Figure size 146.652x144.48 with 1 Axes>"
      ]
     },
     "execution_count": 18,
     "metadata": {},
     "output_type": "execute_result"
    }
   ],
   "source": [
    "qc = QuantumCircuit(2)\n",
    "# Apply H-gate to the first:\n",
    "qc.h(0)\n",
    "qc.draw('mpl')"
   ]
  },
  {
   "cell_type": "code",
   "execution_count": 19,
   "metadata": {
    "colab": {
     "base_uri": "https://localhost:8080/"
    },
    "id": "dMJxbCVTO-vl",
    "outputId": "a43b3f4b-0ddd-4a1f-ccb8-139df84b7e3c"
   },
   "outputs": [
    {
     "name": "stdout",
     "output_type": "stream",
     "text": [
      "Statevector([0.70710678+0.j, 0.70710678+0.j, 0.        +0.j,\n",
      "             0.        +0.j],\n",
      "            dims=(2, 2))\n"
     ]
    }
   ],
   "source": [
    "# Let's see the result:\n",
    "backend = Aer.get_backend('statevector_simulator')\n",
    "final_state = execute(qc,backend).result().get_statevector()\n",
    "print(final_state)"
   ]
  },
  {
   "cell_type": "markdown",
   "metadata": {
    "id": "0H2s6T1bO-vm"
   },
   "source": [
    "Quantum System Sate is:\n",
    "\n",
    "$$\n",
    "|0{+}\\rangle = \\tfrac{1}{\\sqrt{2}}(|00\\rangle + |01\\rangle)\n",
    "$$\n"
   ]
  },
  {
   "cell_type": "code",
   "execution_count": 20,
   "metadata": {
    "colab": {
     "base_uri": "https://localhost:8080/",
     "height": 140
    },
    "id": "ty8fYd1PO-vm",
    "outputId": "beee98f3-f098-4f0d-c325-1ec051f75458"
   },
   "outputs": [
    {
     "data": {
      "image/png": "[encoded data removed]",
      "text/plain": [
       "<Figure size 206.852x144.48 with 1 Axes>"
      ]
     },
     "execution_count": 20,
     "metadata": {},
     "output_type": "execute_result"
    }
   ],
   "source": [
    "qc = QuantumCircuit(2)\n",
    "# Apply H-gate to the first:\n",
    "qc.h(0)\n",
    "# Apply a CNOT:\n",
    "qc.cx(0,1)\n",
    "qc.draw('mpl')"
   ]
  },
  {
   "cell_type": "code",
   "execution_count": 21,
   "metadata": {
    "colab": {
     "base_uri": "https://localhost:8080/"
    },
    "id": "vgnQ3-paO-vn",
    "outputId": "390d003f-1f1f-4298-e963-6849cf4b8fc8"
   },
   "outputs": [
    {
     "name": "stdout",
     "output_type": "stream",
     "text": [
      "Statevector([0.70710678+0.j, 0.        +0.j, 0.        +0.j,\n",
      "             0.70710678+0.j],\n",
      "            dims=(2, 2))\n"
     ]
    }
   ],
   "source": [
    "# Let's see the result:\n",
    "backend = Aer.get_backend('statevector_simulator')\n",
    "final_state = execute(qc,backend).result().get_statevector()\n",
    "print(final_state)"
   ]
  },
  {
   "cell_type": "markdown",
   "metadata": {
    "id": "ywIrd4sOO-vn"
   },
   "source": [
    "We see we have this final state (Bell State):\n",
    "\n",
    "$$\n",
    "\\text{CNOT}|0{+}\\rangle = \\tfrac{1}{\\sqrt{2}}(|00\\rangle + |11\\rangle)\n",
    "$$ \n",
    "\n"
   ]
  },
  {
   "cell_type": "markdown",
   "metadata": {
    "id": "dJSAFn3IO-vo"
   },
   "source": [
    "\n",
    "\n",
    "```\n",
    "# This is formatted as code\n",
    "```\n",
    "\n",
    "Other Bell States:"
   ]
  },
  {
   "cell_type": "markdown",
   "metadata": {
    "id": "INJSJo_hypJs"
   },
   "source": [
    "#Mo Quantum tunelling\n",
    "1_4:\n",
    "\"The transverse field Ising model is critically important to explain how quantum annealing works because by adding the  𝜎𝑋  part to the Hamiltonian it becomes possible to exploit quantum effects like tunnelling. It is also important for understanding the quantum approximation optimization algorithms, since it was inspired by quantum annealing.\""
   ]
  },
  {
   "cell_type": "markdown",
   "metadata": {
    "id": "lDRtm9tZO-vo"
   },
   "source": [
    "## Bernstein-Vazirani Algorithm"
   ]
  },
  {
   "cell_type": "markdown",
   "metadata": {
    "id": "Sq_9Hpq8O-vo"
   },
   "source": [
    "\n",
    "A black-box function $f$, which takes as input a string of bits ($x$), and returns either $0$ or $1$, that is:\n",
    "\n",
    "$$f(\\{x_0,x_1,x_2,...\\}) \\rightarrow 0 \\textrm{ or } 1 \\textrm{ where } x_n \\textrm{ is }0 \\textrm{ or } 1  $$ \n",
    "\n",
    "The function is guaranteed to return the bitwise product of the input with some string, $s$. \n"
   ]
  },
  {
   "cell_type": "markdown",
   "metadata": {
    "id": "AuLbDmb1O-vp"
   },
   "source": [
    "In other words, given an input $x$, $f(x) = s \\cdot x \\, \\text{(mod 2)} =\\ x_0 * s_0+x_1*s_1+x_2*s_2+...\\ $ mod 2"
   ]
  },
  {
   "cell_type": "markdown",
   "metadata": {
    "id": "81XvWHQzO-vp"
   },
   "source": [
    "# Classical-solution:\n",
    "    \n",
    "|Input(x)|\n",
    "|:-----:|\n",
    "|100...0|\n",
    "|010...0|\n",
    "|001...0|\n",
    "|000...1|\n",
    "\n",
    "Where each query reveals a different bit of $s$ (the bit $s_i$)"
   ]
  },
  {
   "cell_type": "markdown",
   "metadata": {
    "id": "zjDMWzBIO-vq"
   },
   "source": [
    "# The quantum Bernstein-Vazirani Oracle:\n",
    "    \n",
    "1. Initialise the inputs qubits to the $|0\\rangle^{\\otimes n}$ state, and output qubit to $|{-}\\rangle$.\n",
    "2. Apply Hadamard gates to the input register\n",
    "3. Query the oracle\n",
    "4. Apply Hadamard gates to the input register\n",
    "5. Measure"
   ]
  },
  {
   "cell_type": "markdown",
   "metadata": {
    "id": "JMNAQkQ7O-vq"
   },
   "source": [
    "## Example Two Qubits:\n",
    "\n",
    "<ol>\n",
    "    <li> The register of two qubits is initialized to zero:\n",
    "    \n",
    "\n",
    "$$\\lvert \\psi_0 \\rangle = \\lvert 0 0 \\rangle$$\n",
    "\n",
    " \n",
    "   </li>\n",
    "\n",
    "   <li> Apply a Hadamard gate to both qubits:\n",
    "    \n",
    "\n",
    "$$\\lvert \\psi_1 \\rangle = \\frac{1}{2} \\left( \\lvert 0 0 \\rangle + \\lvert 0 1 \\rangle + \\lvert 1 0 \\rangle + \\lvert 1 1 \\rangle \\right) $$\n",
    "\n",
    " \n",
    "   </li>\n",
    "\n",
    "   <li> For the string $s=11$, the quantum oracle performs the operation:\n",
    "$$\n",
    "|x \\rangle \\xrightarrow{f_s} (-1)^{x\\cdot 11} |x \\rangle. \n",
    "$$\n",
    "\n",
    "$$\\lvert \\psi_2 \\rangle = \\frac{1}{2} \\left( (-1)^{00\\cdot 11}|00\\rangle + (-1)^{01\\cdot 11}|01\\rangle + (-1)^{10\\cdot 11}|10\\rangle + (-1)^{11\\cdot 11}|11\\rangle \\right)$$\n",
    "\n",
    "$$\\lvert \\psi_2 \\rangle = \\frac{1}{2} \\left( \\lvert 0 0 \\rangle - \\lvert 0 1 \\rangle - \\lvert 1 0 \\rangle + \\lvert 1 1 \\rangle \\right)$$\n",
    "\n",
    " \n",
    "   </li>\n",
    "\n",
    "   <li> Apply a Hadamard gate to both qubits:\n",
    "    \n",
    "\n",
    "$$\\lvert \\psi_3 \\rangle = \\lvert 1 1 \\rangle$$\n",
    "\n",
    " \n",
    "   </li>\n",
    "\n",
    "   <li> Measure to find the secret string $s=11$\n",
    "   </li>\n",
    "\n",
    "\n",
    "</ol>\n"
   ]
  },
  {
   "cell_type": "code",
   "execution_count": 22,
   "metadata": {
    "id": "8_kXAsdLO-vq"
   },
   "outputs": [],
   "source": [
    "from qiskit import *\n",
    "%matplotlib inline\n",
    "from qiskit.tools.visualization import plot_histogram"
   ]
  },
  {
   "cell_type": "code",
   "execution_count": 23,
   "metadata": {
    "id": "x2dFGk7RO-vr"
   },
   "outputs": [],
   "source": [
    "secret_num = '101001'"
   ]
  },
  {
   "cell_type": "code",
   "execution_count": 24,
   "metadata": {
    "colab": {
     "base_uri": "https://localhost:8080/"
    },
    "id": "GUtlGefZO-vr",
    "outputId": "f539b908-c628-48fb-cc33-54c8cefb51fb"
   },
   "outputs": [
    {
     "data": {
      "text/plain": [
       "<qiskit.circuit.instructionset.InstructionSet at 0x14fe3e1d0>"
      ]
     },
     "execution_count": 24,
     "metadata": {},
     "output_type": "execute_result"
    }
   ],
   "source": [
    "circuit = QuantumCircuit(6+1,6)\n",
    "circuit.h([0,1,2,3,4,5])\n",
    "\n",
    "circuit.x(6)\n",
    "circuit.h(6)\n",
    "\n",
    "circuit.barrier()\n",
    "\n",
    "\n",
    "circuit.cx(5,6)\n",
    "circuit.cx(3,6)\n",
    "circuit.cx(0,6)\n",
    "\n",
    "circuit.barrier()\n",
    "circuit.h([0,1,2,3,4,5])\n",
    "\n",
    "circuit.measure([0,1,2,3,4,5],[0,1,2,3,4,5])"
   ]
  },
  {
   "cell_type": "code",
   "execution_count": 25,
   "metadata": {
    "colab": {
     "base_uri": "https://localhost:8080/",
     "height": 413
    },
    "id": "wLhZ5KbyO-vs",
    "outputId": "9e7f8e94-11df-42dd-e9da-cf0b46bc1a3a"
   },
   "outputs": [
    {
     "data": {
      "image/png": "[encoded data removed]",
      "text/plain": [
       "<Figure size 929.397x505.68 with 1 Axes>"
      ]
     },
     "execution_count": 25,
     "metadata": {},
     "output_type": "execute_result"
    }
   ],
   "source": [
    "circuit.draw(output= 'mpl')"
   ]
  },
  {
   "cell_type": "code",
   "execution_count": 26,
   "metadata": {
    "colab": {
     "base_uri": "https://localhost:8080/"
    },
    "id": "81FEeORCO-vs",
    "outputId": "4bff102f-3e70-4642-b437-a2dc4ba5c2f4"
   },
   "outputs": [
    {
     "name": "stdout",
     "output_type": "stream",
     "text": [
      "{'101001': 1}\n"
     ]
    }
   ],
   "source": [
    "simulator = Aer.get_backend('qasm_simulator')\n",
    "result = execute(circuit, backend= simulator, shots = 1).result()\n",
    "counts= result.get_counts()\n",
    "print(counts)"
   ]
  },
  {
   "cell_type": "code",
   "execution_count": null,
   "metadata": {
    "id": "KvrqWngMO-vt"
   },
   "outputs": [],
   "source": []
  }
 ],
 "metadata": {
  "colab": {
   "collapsed_sections": [
    "0Dd28-56O-vd"
   ],
   "name": "01_QML_Fundamental_Concepts_in_Quantum_Mechanics.ipynb",
   "provenance": [],
   "toc_visible": true
  },
  "kernelspec": {
   "display_name": "Python 3 (ipykernel)",
   "language": "python",
   "name": "python3"
  },
  "language_info": {
   "codemirror_mode": {
    "name": "ipython",
    "version": 3
   },
   "file_extension": ".py",
   "mimetype": "text/x-python",
   "name": "python",
   "nbconvert_exporter": "python",
   "pygments_lexer": "ipython3",
   "version": "3.10.9"
  },
  "latex_envs": {
   "LaTeX_envs_menu_present": true,
   "autoclose": false,
   "autocomplete": true,
   "bibliofile": "biblio.bib",
   "cite_by": "apalike",
   "current_citInitial": 1,
   "eqLabelWithNumbers": true,
   "eqNumInitial": 1,
   "hotkeys": {
    "equation": "Ctrl-E",
    "itemize": "Ctrl-I"
   },
   "labels_anchors": false,
   "latex_user_defs": false,
   "report_style_numbering": false,
   "user_envs_cfg": false
  },
  "toc": {
   "base_numbering": 1,
   "nav_menu": {},
   "number_sections": true,
   "sideBar": true,
   "skip_h1_title": false,
   "title_cell": "Table of Contents",
   "title_sidebar": "Contents",
   "toc_cell": false,
   "toc_position": {
    "height": "587px",
    "left": "47px",
    "top": "255px",
    "width": "424.390625px"
   },
   "toc_section_display": true,
   "toc_window_display": true
  },
  "widgets": {
   "application/vnd.jupyter.widget-state+json": {
    "state": {},
    "version_major": 2,
    "version_minor": 0
   }
  }
 },
 "nbformat": 4,
 "nbformat_minor": 4
}
