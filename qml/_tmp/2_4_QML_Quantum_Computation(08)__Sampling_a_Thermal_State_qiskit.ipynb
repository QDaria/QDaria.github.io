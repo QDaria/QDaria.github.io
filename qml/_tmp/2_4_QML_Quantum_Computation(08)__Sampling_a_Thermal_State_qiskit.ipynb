{
 "cells": [
  {
   "attachments": {},
   "cell_type": "markdown",
   "metadata": {
    "id": "_EzGmVV4Ryqu"
   },
   "source": [
    "# Sampling a Thermal State\n",
    "\n",
    "We talked about variation of circuits, which are quantum algorithms designed for imperfect quantum computers. We can also take it one level further and just accept imperfection and accept that, when you have a system-- say, a quantum annealer-- then it interacts with the environment, and, if you let this equilibriation happen, then we know at the end of it we are going to end up in the thermal state. So the thermal state is in this thermal equilibrium with the environment. So the environment has a temperature, and this system attains the same temperature. And if we pull out samples from this thermal state, and they follow a specified distribution, they follow Boltzmann distribution. \n",
    "\n",
    "$$H=-\\sum_{<i,j>}J_{ij}\\sigma_{i}^{z}\\sigma_{j}^{z}+\\sum_{i}h_{i}\\sigma_{i}^{z}$$\n",
    "\n",
    "$$P(E_{i})=\\frac{e^{\\frac{-E_{i}}{T}}}{2}$$\n",
    "\n",
    "So this is critical, because every time when you face the problem of pulling out samples of a Boltzmann distribution. In machine learning, you can just plug in this idea of annealing to sample the thermal state. The only difficulty is that this temperature is not what you read out in a thermometer in your dilution refrigerator that cools down your superconducting system. It's an effective temperature which comes also from the noise and other factors that surround the quantum processing unit. So this has to be estimated. But, once you do that, you can use this as an algorithmic primitive. You are not restricted to a quantum annealer. You can actually do something very similar by using a gate model quantum computer. So the is called quantum approximate thermalization. \n",
    "\n",
    "# Recap:\n",
    "\n",
    "$$\\phi^{\\dagger'}=\\frac{1}{\\sqrt{2}}(\\mid00\\rangle+\\mid11\\rangle)$$\n",
    "\n",
    "$$Tr|\\psi^{\\dagger}\\rangle\\langle\\psi^{\\dagger}\\mid=\\frac{I}{2}$$\n",
    "\n",
    "To get the idea, just go back to the first module, in one of the videos we talked about, that if you take the maximally entangled state and we modulize over one of the subsystems-- it doesn't matter which subsystem-- in other words, we take the partial trace in one of the subsystems-- then we end up with the maximally mixed state. Now, the maximally mixed state is just the thermal state at infinite temperature. So that can think-- can take this idea further and have some larger system, trace it out, and get the thermal state? And that's exactly what you are doing. So you create some easy system-- for instance, the sigma x Hamiltonian acting on each site-- \n",
    "\n",
    "$$H_{0}=\\sum_{i}\\sigma^{x}$$\n",
    "\n",
    "and you take an ancilla in the same number of qubits as the number of qubits you have here, and if you start, for instance, with just one qubit for the sigma-x interaction and one qubit for the ancilla, then you can take this state-- which looks remarkably like the maximally entangled state. So now you have the plus state. The plus state is just the equal superposition of 0 and 1. \n",
    "\n",
    "# Algorithm\n",
    "\n",
    "1. Take an easy system with an ancilla. Trace out the ancilla –> thermal state. $\\mid\\psi\\rangle=\\frac{1}{\\sqrt{2}}\\left(e^{-\\frac{1}{2T}}\\mid+\\rangle\\mid+\\rangle+e^{-\\frac{1}{2T}}\\mid-\\rangle\\mid-\\rangle\\right)$\n",
    "\n",
    "$$Tr\\mid\\psi\\rangle\\langle\\psi\\mid=\\frac{e^{\\frac{-E_{i}}{T}}}{2}=\\rho_{0}$$\n",
    "\n",
    "2. QUAO to approximation $\\rho$\n",
    "\n",
    "And the minus state is the same thing, with the minus sign here. So we can just write it this way. So it looks almost identical to the maximally entangled state, with the extra difference that you have these coefficients $e^{\\frac{-E_{i}}{T}}$in front of the individual terms-- and some normalization factor. Now, if you-- this is the ancilla system $e^{-\\frac{1}{2T}}\\mid-\\rangle\\mid-\\rangle$. And this $\\mid+\\rangle+e^{-\\frac{1}{2T}}\\mid-\\rangle$ is your actual system that you are interested in. Now, if you trace out the ancilla system, what you are getting is exactly the thermal state $\\frac{e^{\\frac{-E_{i}}{T}}}{2}$ of this Hamiltonian $H_{0}=\\sum_{i}\\sigma^{x}$. So this was easy to prepare. And it's just the same idea as we did here. And now we can use, as a second step, the quantum approximate optimization algorithm, to go from here, from this rho 0 thermal state, which is in equilibrium with the environment, to the thermal state of a system of interest-- for instance, the Ising model. And the QAOA approximates a unitary evolution. In other words, it's not going to change the thermal equilibrium. So we will always stay close to the thermal equilibrium. So, once you finish optimizing over this parametric circuit, you will be able to read out an approximate thermal state of the system of interest. \n",
    "\n",
    "• The ground state has zero probability in the thermal state. False\n",
    "\n",
    "• A superconducting quantum annealer works at a finite temperature instead of absolute zero. True\n",
    "\n",
    "• What are the two main ideas that going into the gate-model variational algorithm called quantum approximate thermalization? \n",
    "\n",
    "– Tracing out part of an entangled state yields a mixed state.\n",
    "\n",
    "– QAOA stays close to the starting eigenstate of a system.\n"
   ]
  },
  {
   "cell_type": "markdown",
   "metadata": {
    "id": "i8m1OqvHxb7e"
   },
   "source": [
    "In the previous notebook, we showed how QAOA can approximate the ground state $|\\psi_0\\rangle$ of a many-body system characterized by a Hamiltonian $H$. We connected this problem to binary optimization in computer science in notebook 4, and used this connection to understand adiabatic quantum computing and variational algorithms.\n",
    "\n",
    "However, we also talked about the engineering constraints we face in real devices: the evolution in these devices is actually that of an open quantum system, where the quantum processing unit interacts with the environment. In that case, the ground state of $H$ won't be a pure state $|\\psi_0\\rangle$ but a density matrix $\\rho_0$\n",
    "\n",
    "<img src=\"figures/open_system.svg\" alt=\"A quantum processor as an open quantum system\" style=\"width: 400px;\"/>\n",
    "\n",
    "The environment is defined by a temperature $T$, and if we let the system equilibrate, the QPU will become thermalized at temperature $T$. As we saw in the notebook on evolution in open and closed systems, the energy of the states will follow a Boltzmann distribution: $\\rho_0=\\frac{1}{Z} e^{-H/T}$ where $Z=tr (e^{-H/T})$ is a normalization factor (called the *partition function*), ensuring that $tr(\\rho_0)=1$. The inverse temperature $1/T$ is often denoted by $\\beta$, so the state can also be written as $\\rho_0=\\frac{1}{Z} e^{-\\beta H}$. If $H$ has a discrete basis of orthonormal eigenstates $\\{|n\\rangle\\}$ with eigenvalues $\\{E_n\\}$, we can write $H=\\sum_n E_n |n\\rangle \\langle n|$ and $\\rho_0=\\frac{1}{Z} \\sum_n e^{-E_n/T} |n\\rangle \\langle n|$ (since exponentiating a diagonal operator consists in exponentiating the elements of the diagonal). Hence, the thermal density matrix is a mixed state where each eigenstate of $H$ with energy $E$ has a classical probability $P(E)=\\frac{1}{Z} e^{-E/T}$, a Boltzmann distribution. We can see that the minimum energy eigenstate will have the highest probability. When $T \\rightarrow 0$, the minimum energy eigenstate will have a probability close to $1$. When $T \\rightarrow \\infty$, all the eigenstates tend to have equal probability.\n",
    "\n",
    "The question that arises now is: how to approximate this thermalized state $\\rho_0$ of the Hamiltonian $H$ using a quantum circuit? For pure ground states, there were two methods: quantum annealing and QAOA. We will see here that those two methods can be adjusted to also prepare thermalized density matrices.\n",
    "\n",
    "We will see later that we can use this preparation to train certain machine learning models.\n",
    "\n",
    "# Quantum annealing\n",
    "\n",
    "Let us start by importing a handful of packages:"
   ]
  },
  {
   "cell_type": "code",
   "execution_count": null,
   "metadata": {
    "ExecuteTime": {
     "end_time": "2018-11-19T20:10:00.429323Z",
     "start_time": "2018-11-19T20:10:00.423825Z"
    },
    "collapsed": true,
    "id": "Rqo5V-Aoxb7u",
    "jupyter": {
     "outputs_hidden": true
    }
   },
   "outputs": [],
   "source": [
    "import itertools\n",
    "import matplotlib.pyplot as plt\n",
    "import numpy as np\n",
    "import dimod\n",
    "%matplotlib inline\n",
    "np.set_printoptions(precision=3, suppress=True)"
   ]
  },
  {
   "cell_type": "markdown",
   "metadata": {
    "id": "mLqJJTbtxb7w"
   },
   "source": [
    "We are interested in the thermal state of the classical Ising model. We create a random model over ten spins and we will sample a hundred states."
   ]
  },
  {
   "cell_type": "code",
   "execution_count": null,
   "metadata": {
    "ExecuteTime": {
     "end_time": "2018-11-19T20:10:00.449815Z",
     "start_time": "2018-11-19T20:10:00.437909Z"
    },
    "collapsed": true,
    "id": "elJ9tpwkxb7x",
    "jupyter": {
     "outputs_hidden": true
    }
   },
   "outputs": [],
   "source": [
    "n_spins = 10\n",
    "n_samples = 1000\n",
    "h = {v: np.random.uniform(-2, 2) for v in range(n_spins)}\n",
    "J = {}\n",
    "for u, v in itertools.combinations(h, 2):\n",
    "    if np.random.random() < .05:\n",
    "        J[(u, v)] = np.random.uniform(-1, 1)\n",
    "model = dimod.BinaryQuadraticModel(h, J, 0.0, dimod.SPIN)\n",
    "sampler = dimod.SimulatedAnnealingSampler()"
   ]
  },
  {
   "cell_type": "markdown",
   "metadata": {
    "id": "bzGLnqx0xb7y"
   },
   "source": [
    "Let's sample the energies at different temperatures. The `dimod` implementation of simulated annealing allows us to set an initial and final temperature for the annealing. If we set it to the same value, we mimic the effect of a finite temperature and we will have a wider range of configurations and energy levels in the samples. The next cell can take a while to execute."
   ]
  },
  {
   "cell_type": "code",
   "execution_count": null,
   "metadata": {
    "ExecuteTime": {
     "end_time": "2018-11-19T20:11:12.304140Z",
     "start_time": "2018-11-19T20:10:00.452460Z"
    },
    "collapsed": true,
    "id": "5JemQsLixb7z",
    "jupyter": {
     "outputs_hidden": true
    }
   },
   "outputs": [],
   "source": [
    "temperature_0 = 1\n",
    "response = sampler.sample(model, beta_range=[1/temperature_0, 1/temperature_0], num_reads=n_samples)\n",
    "energies_0 = [solution.energy for solution in response.data()]\n",
    "temperature_1 = 10\n",
    "response = sampler.sample(model, beta_range=[1/temperature_1, 1/temperature_1], num_reads=n_samples)\n",
    "energies_1 = [solution.energy for solution in response.data()]\n",
    "temperature_2 = 100\n",
    "response = sampler.sample(model, beta_range=[1/temperature_2, 1/temperature_2], num_reads=n_samples)\n",
    "energies_2 = [solution.energy for solution in response.data()]"
   ]
  },
  {
   "cell_type": "markdown",
   "metadata": {
    "id": "KM5n01iuxb7z"
   },
   "source": [
    "We define a function to plot the resulting probability distribution."
   ]
  },
  {
   "cell_type": "code",
   "execution_count": null,
   "metadata": {
    "ExecuteTime": {
     "end_time": "2018-11-19T20:11:12.764017Z",
     "start_time": "2018-11-19T20:11:12.307684Z"
    },
    "id": "EuVYcreJxb70",
    "outputId": "01141b59-d33a-4fd9-f1fd-0419a4ef9526"
   },
   "outputs": [
    {
     "data": {
      "image/png": "[encoded data removed]",
      "text/plain": [
       "<Figure size 432x288 with 1 Axes>"
      ]
     },
     "metadata": {
      "tags": []
     },
     "output_type": "display_data"
    }
   ],
   "source": [
    "def plot_probabilities(energy_samples, temperatures):\n",
    "    fig, ax = plt.subplots()\n",
    "    for i, (energies, T) in enumerate(zip(energy_samples, temperatures)):\n",
    "        probabilities = np.exp(-np.array(sorted(energies))/T)\n",
    "        Z = probabilities.sum()\n",
    "        probabilities /= Z\n",
    "        ax.plot(energies, probabilities, linewidth=3, label = \"$T_\" + str(i+1)+\"$\")\n",
    "    minimum_energy = min([min(energies) for energies in energy_samples])\n",
    "    maximum_energy = max([max(energies) for energies in energy_samples])\n",
    "    ax.set_xlim(minimum_energy, maximum_energy)\n",
    "    ax.set_xticks([])\n",
    "    ax.set_yticks([])\n",
    "    ax.set_xlabel('Energy')\n",
    "    ax.set_ylabel('Probability')\n",
    "    ax.legend()\n",
    "    plt.show()\n",
    "\n",
    "plot_probabilities([energies_0, energies_1, energies_2], \n",
    "                   [temperature_0, temperature_1, temperature_2])"
   ]
  },
  {
   "cell_type": "markdown",
   "metadata": {
    "id": "MgzhRR2Yxb73"
   },
   "source": [
    "Just as we saw in the introduction, the distribution flattens out at a high temperature ($T_3$). On the other hand, the energy is peaked for a low temperature, and we do not even have samples for high-energy states."
   ]
  },
  {
   "cell_type": "markdown",
   "metadata": {
    "id": "aZohrottxb74"
   },
   "source": [
    "# Quantum Approximate Thermalization\n",
    "\n",
    "There are many results for preparing a thermal state on a gate-model quantum computer, but most of them need a large-scale device. More recently, a protocol for approximating thermalization was developed using shallow circuits [[1](#1)]. The idea is that if we knew that the thermal state was a pure state $\\psi$ (which means $\\rho=|\\psi \\rangle \\langle \\psi |$), we could apply QAOA to get to the thermal state of a target Hamiltonian. Since QAOA approximates the adiabatic pathway, it should be a conservative change, so at the end of it, we would be close to the thermal state of the target Hamiltonian.\n",
    "\n",
    "To find the thermal state of the simple system, the trick is to purify $\\rho$ on a larger Hilbert space. If we call $\\mathcal{H_1}$ our current Hilbert space, purifying a density matrix $\\rho$ consists of finding a second Hilbert space $\\mathcal{H_2}$ such that there exists $| \\psi \\rangle \\in \\mathcal{H_1} \\otimes \\mathcal{H_2}$ such that $\\rho = \\textrm{Tr}_{\\mathcal{H_2}} \\left( |\\psi \\rangle \\langle \\psi | \\right)$, where $\\textrm{Tr}_{\\mathcal{H_2}}$ is the partial trace taken over the second Hilbert space -- in essence, we are marginalizing the probability distribution. This resembles the idea of what we shown in the notebook on measurements and mixed states: if we trace out a subsystem of the maximally entangled state $|\\phi^+\\rangle$, we get the maximally mixed state. The maximally mixed state is essentially a thermal state at infinite temperature.\n",
    "\n",
    "It can be shown that $| \\psi \\rangle =1/\\sqrt{2 \\cosh \\frac{1}{2T}} \\sum_{z \\in {-1,1}} e^{- \\frac{z}{2T}} |z \\rangle_{\\mathcal{H_1}} \\otimes | z \\rangle_{\\mathcal{H_2}}$ purifies $\\rho=\\frac{1}{Z}e^{- H_m/T}$ [[1](#1)], where $H_m$ is the mixing Hamiltonian in QAOA. This state can be built with a circuit composed uniquely of RX gates and CNOT gates"
   ]
  },
  {
   "cell_type": "code",
   "execution_count": null,
   "metadata": {
    "ExecuteTime": {
     "end_time": "2018-11-19T20:11:13.926133Z",
     "start_time": "2018-11-19T20:11:12.766644Z"
    },
    "collapsed": true,
    "id": "DybpatP3xb75",
    "jupyter": {
     "outputs_hidden": true
    }
   },
   "outputs": [],
   "source": [
    "import itertools\n",
    "import numpy as np\n",
    "import matplotlib.pyplot as plt\n",
    "%matplotlib inline\n",
    "from functools import reduce, partial\n",
    "from scipy.optimize import minimize\n",
    "\n",
    "from qiskit import BasicAer as Aer\n",
    "from qiskit import QuantumRegister, QuantumCircuit, ClassicalRegister\n",
    "from qiskit import execute\n",
    "from qiskit.quantum_info import Pauli\n",
    "\n",
    "from qiskit.aqua import get_aer_backend, QuantumInstance\n",
    "from qiskit.aqua.operator import Operator\n",
    "from qiskit.aqua.components.optimizers import COBYLA\n",
    "from qiskit.aqua.algorithms import QAOA\n",
    "from qiskit.aqua.components.initial_states.custom import Custom"
   ]
  },
  {
   "attachments": {},
   "cell_type": "markdown",
   "metadata": {
    "id": "HueF2LWAxb76"
   },
   "source": [
    "# High temperature"
   ]
  },
  {
   "cell_type": "markdown",
   "metadata": {
    "id": "aJ7UrTj0xb76"
   },
   "source": [
    "We create an example system of two qubits that needs two extra qubits for purification. In this first example, we set $T=1000$."
   ]
  },
  {
   "cell_type": "code",
   "execution_count": null,
   "metadata": {
    "ExecuteTime": {
     "end_time": "2018-11-19T20:11:13.932601Z",
     "start_time": "2018-11-19T20:11:13.928400Z"
    },
    "collapsed": true,
    "id": "9bZDSy9Exb76",
    "jupyter": {
     "outputs_hidden": true
    }
   },
   "outputs": [],
   "source": [
    "n_qubits = 2\n",
    "n_system = n_qubits * 2\n",
    "T = 1000"
   ]
  },
  {
   "cell_type": "markdown",
   "metadata": {
    "id": "fFcQrs2Xxb77"
   },
   "source": [
    "We define a simple Ising model with a weight matrix and set $p=1$ in QAOA."
   ]
  },
  {
   "cell_type": "code",
   "execution_count": null,
   "metadata": {
    "ExecuteTime": {
     "end_time": "2018-11-19T20:11:13.948745Z",
     "start_time": "2018-11-19T20:11:13.937892Z"
    },
    "collapsed": true,
    "id": "iLffOehZxb78",
    "jupyter": {
     "outputs_hidden": true
    }
   },
   "outputs": [],
   "source": [
    "weights = np.array([[0,1],[0,0]])\n",
    "p = 2"
   ]
  },
  {
   "cell_type": "markdown",
   "metadata": {
    "id": "ezR1Mgwcxb78"
   },
   "source": [
    "Based on these parameters, we define the Ising Hamiltonian $H=\\sum W_{ij} \\sigma_i\\sigma_j$ (for the weight matrix defined above, $H=\\sigma_1 \\sigma_2$, whose minimum is reached when $\\sigma_1 \\neq \\sigma_2$)"
   ]
  },
  {
   "cell_type": "code",
   "execution_count": null,
   "metadata": {
    "ExecuteTime": {
     "end_time": "2018-11-19T20:11:13.984797Z",
     "start_time": "2018-11-19T20:11:13.950693Z"
    },
    "collapsed": true,
    "id": "gBdcR3LPxb79",
    "jupyter": {
     "outputs_hidden": true
    }
   },
   "outputs": [],
   "source": [
    "def pauli_z(qubit, coeff):\n",
    "    eye = np.eye((n_system))\n",
    "    return Operator([[coeff, Pauli(eye[qubit], np.zeros(n_system))]])\n",
    "\n",
    "def product_pauli_z(q1, q2, coeff):\n",
    "    eye = np.eye((n_system))\n",
    "    return Operator([[coeff, Pauli(eye[q1], np.zeros(n_system)) * Pauli(eye[q2], np.zeros(n_system))]])\n",
    "\n",
    "def ising_hamiltonian(weights):\n",
    "    H = reduce(lambda x,y:x+y,\n",
    "            [product_pauli_z(i,j, -weights[i,j])\n",
    "             for (i,j) in itertools.product(range(n_qubits), range(n_qubits))])\n",
    "    H.to_matrix()\n",
    "    return H"
   ]
  },
  {
   "cell_type": "code",
   "execution_count": null,
   "metadata": {
    "collapsed": true,
    "id": "GP0bsljoxb79",
    "jupyter": {
     "outputs_hidden": true
    }
   },
   "outputs": [],
   "source": [
    "Hc = ising_hamiltonian(weights)"
   ]
  },
  {
   "cell_type": "markdown",
   "metadata": {
    "id": "Nq0FmmgUxb7-"
   },
   "source": [
    "We prepare the intial state $|\\psi_0 \\rangle = 1/\\sqrt{2 cosh(\\frac{1}{2T})} \\sum_{z \\in {1, -1}} e^{- z/T} | z \\rangle_S \\otimes | z \\rangle_E$, with $E$ a temporary space used for purification purpose. It can be shown that tracing out this state over $E$ reproduces the state $\\rho \\propto e^{-H_m/T} $. We initialize the circuit first:"
   ]
  },
  {
   "cell_type": "code",
   "execution_count": null,
   "metadata": {
    "ExecuteTime": {
     "end_time": "2018-11-19T20:11:13.996055Z",
     "start_time": "2018-11-19T20:11:13.988499Z"
    },
    "collapsed": true,
    "id": "eWw5n_VVxb7-",
    "jupyter": {
     "outputs_hidden": true
    }
   },
   "outputs": [],
   "source": [
    "qr = QuantumRegister(n_system)\n",
    "cr = ClassicalRegister(n_qubits)\n",
    "backend = Aer.get_backend('qasm_simulator')"
   ]
  },
  {
   "cell_type": "markdown",
   "metadata": {
    "id": "rt1U_sEyxb7-"
   },
   "source": [
    "And we prepare the state:"
   ]
  },
  {
   "cell_type": "code",
   "execution_count": null,
   "metadata": {
    "ExecuteTime": {
     "end_time": "2018-11-19T20:11:14.017731Z",
     "start_time": "2018-11-19T20:11:14.010949Z"
    },
    "collapsed": true,
    "id": "QVinzVuvxb7_",
    "jupyter": {
     "outputs_hidden": true
    }
   },
   "outputs": [],
   "source": [
    "def prepare_init_state(T):\n",
    "    init_circuit = QuantumCircuit(qr)\n",
    "    α = 2 * np.arctan(np.exp(- 1/T))\n",
    "    for i in range(n_qubits):\n",
    "        init_circuit.rx(α, qr[n_qubits+i])\n",
    "        init_circuit.cx(qr[n_qubits+i], qr[i])\n",
    "    init_state = Custom(n_system, circuit=init_circuit)\n",
    "    return init_state"
   ]
  },
  {
   "cell_type": "markdown",
   "metadata": {
    "id": "ZjtaGj_cxb8A"
   },
   "source": [
    "We will now use the QAOA implementation of Qiskit Aqua, with the above initial circuit appended to the regular variational circuit."
   ]
  },
  {
   "cell_type": "code",
   "execution_count": null,
   "metadata": {
    "ExecuteTime": {
     "end_time": "2018-11-19T20:11:14.032266Z",
     "start_time": "2018-11-19T20:11:14.019967Z"
    },
    "collapsed": true,
    "id": "7kpjkawJxb8A",
    "jupyter": {
     "outputs_hidden": true
    }
   },
   "outputs": [],
   "source": [
    "def get_thermal_state(T):\n",
    "    print(\"Begin QAOA...\")\n",
    "    \n",
    "    optimizer = COBYLA()\n",
    "    initial_state = prepare_init_state(T)\n",
    "    qaoa = QAOA(Hc, optimizer, p, initial_state)\n",
    "    backend = get_aer_backend('statevector_simulator')\n",
    "    quantum_instance = QuantumInstance(backend)\n",
    "    result = qaoa.run(quantum_instance)\n",
    "    print(\"Results of QAOA\", result)\n",
    "    \n",
    "    return qaoa.get_optimal_cost(), qaoa.get_optimal_circuit()"
   ]
  },
  {
   "cell_type": "markdown",
   "metadata": {
    "id": "U_A0Hqtaxb8B"
   },
   "source": [
    "We run the protocol to get the thermal state:"
   ]
  },
  {
   "cell_type": "code",
   "execution_count": null,
   "metadata": {
    "id": "esNK4E-Vxb8C",
    "outputId": "3ecc6022-144c-493f-b930-dde15ac70fec"
   },
   "outputs": [
    {
     "name": "stdout",
     "output_type": "stream",
     "text": [
      "Begin QAOA...\n",
      "Results of QAOA {'num_optimizer_evals': 58, 'min_val': -0.0009999995512849913, 'opt_params': array([ 0.352, -0.079, -0.65 ,  1.049]), 'eval_time': 20.307998657226562, 'eval_count': 58, 'energy': -0.0009999995512849913, 'eigvals': array([-0.001]), 'min_vector': array([ 0.384-0.042j,  0.1  +0.146j,  0.1  +0.146j, -0.061+0.187j,\n",
      "        0.161+0.073j, -0.027-0.385j, -0.173+0.093j,  0.161+0.073j,\n",
      "        0.161+0.073j, -0.173+0.093j, -0.027-0.385j,  0.161+0.073j,\n",
      "       -0.061+0.187j,  0.1  +0.146j,  0.1  +0.146j,  0.384-0.042j]), 'eigvecs': array([[ 0.384-0.042j,  0.1  +0.146j,  0.1  +0.146j, -0.061+0.187j,\n",
      "         0.161+0.073j, -0.027-0.385j, -0.173+0.093j,  0.161+0.073j,\n",
      "         0.161+0.073j, -0.173+0.093j, -0.027-0.385j,  0.161+0.073j,\n",
      "        -0.061+0.187j,  0.1  +0.146j,  0.1  +0.146j,  0.384-0.042j]])}\n",
      "Result of QAOA -0.0009999995512849913\n"
     ]
    }
   ],
   "source": [
    "cost, thermal_state = get_thermal_state(T)\n",
    "print(\"Result of QAOA\", cost)"
   ]
  },
  {
   "cell_type": "markdown",
   "metadata": {
    "id": "rB3b78Ojxb8C"
   },
   "source": [
    "Finally, we reformat the final results, measure out the result, and plot the energy distribution:"
   ]
  },
  {
   "cell_type": "code",
   "execution_count": null,
   "metadata": {
    "collapsed": true,
    "id": "MqbGqPGSxb8D",
    "jupyter": {
     "outputs_hidden": true
    }
   },
   "outputs": [],
   "source": [
    "def get_energy(spin_configuration):\n",
    "    x = spin_configuration.reshape(-1, 1)\n",
    "    return np.sum([[-weights[i,j] * x[i] * x[j] for j in range(n_qubits)] for i in range(n_qubits)])\n",
    "\n",
    "def get_energy_distribution(thermal_state):\n",
    "    thermal_state.add_register(cr)\n",
    "    for i in range(n_qubits):\n",
    "        thermal_state.measure(qr[i], cr[i])\n",
    "        job = execute(thermal_state, backend, shots=1000)\n",
    "    results = job.result().get_counts(thermal_state)\n",
    "    \n",
    "    list_spin_configs = np.array(np.concatenate([[list(spin_config)] * results[spin_config] for spin_config in results]), dtype=\"int\")\n",
    "    list_spin_configs[list_spin_configs == 0] = -1\n",
    "    list_energy = np.array([get_energy(spin_config) for spin_config in list_spin_configs])\n",
    "    return list_energy"
   ]
  },
  {
   "cell_type": "code",
   "execution_count": null,
   "metadata": {
    "ExecuteTime": {
     "end_time": "2018-11-19T20:11:44.601197Z",
     "start_time": "2018-11-19T20:11:14.085143Z"
    },
    "id": "ZhMrONyaxb8D",
    "outputId": "bb73df0b-822a-4352-a5f3-6dda728210ed"
   },
   "outputs": [
    {
     "data": {
      "image/png": "[encoded data removed]",
      "text/plain": [
       "<Figure size 432x288 with 1 Axes>"
      ]
     },
     "metadata": {
      "tags": []
     },
     "output_type": "display_data"
    }
   ],
   "source": [
    "list_energy = get_energy_distribution(thermal_state)\n",
    "hist = plt.hist(list_energy, density=True)"
   ]
  },
  {
   "cell_type": "markdown",
   "metadata": {
    "id": "1u4Tnb8Txb8E"
   },
   "source": [
    "The two eigenvalues, i.e. possible energies, of our Hamiltonian $H=\\sigma_1 \\sigma_2$ are $E=-1$ and $E=1$. At infinite temperature ($\\beta=0$), they should be assigned an equal probability, which is the case in the histogram above. Let's repeat the experiment at a lower temperature."
   ]
  },
  {
   "attachments": {},
   "cell_type": "markdown",
   "metadata": {
    "id": "EYADDQwLxb8E"
   },
   "source": [
    "# Low temperature\n",
    "\n",
    "We set $T=0.5$. With this, we should get the lowest energy with a high probability."
   ]
  },
  {
   "cell_type": "code",
   "execution_count": null,
   "metadata": {
    "collapsed": true,
    "id": "xo0TeK1Cxb8F",
    "jupyter": {
     "outputs_hidden": true
    }
   },
   "outputs": [],
   "source": [
    "T = 0.5"
   ]
  },
  {
   "cell_type": "code",
   "execution_count": null,
   "metadata": {
    "id": "ltR6R5gYxb8F",
    "outputId": "7679d1d9-3e5e-48c9-bdc5-33ee1f060930"
   },
   "outputs": [
    {
     "name": "stdout",
     "output_type": "stream",
     "text": [
      "Begin QAOA...\n",
      "Results of QAOA {'num_optimizer_evals': 80, 'min_val': -0.9640274055928333, 'opt_params': array([ 1.192, -0.014,  0.785,  0.006]), 'eval_time': 27.96871829032898, 'eval_count': 80, 'energy': -0.9640274055928333, 'eigvals': array([-0.964]), 'min_vector': array([ 0.179-0.245j, -0.004+0.005j, -0.004+0.005j,  0.312-0.246j,\n",
      "        0.245-0.246j,  0.005+0.062j,  0.004-0.071j,  0.245-0.246j,\n",
      "        0.245-0.246j,  0.004-0.071j,  0.005+0.062j,  0.245-0.246j,\n",
      "        0.312-0.246j, -0.004+0.005j, -0.004+0.005j,  0.179-0.245j]), 'eigvecs': array([[ 0.179-0.245j, -0.004+0.005j, -0.004+0.005j,  0.312-0.246j,\n",
      "         0.245-0.246j,  0.005+0.062j,  0.004-0.071j,  0.245-0.246j,\n",
      "         0.245-0.246j,  0.004-0.071j,  0.005+0.062j,  0.245-0.246j,\n",
      "         0.312-0.246j, -0.004+0.005j, -0.004+0.005j,  0.179-0.245j]])}\n"
     ]
    },
    {
     "data": {
      "image/png": "[encoded data removed]",
      "text/plain": [
       "<Figure size 432x288 with 1 Axes>"
      ]
     },
     "metadata": {
      "tags": []
     },
     "output_type": "display_data"
    }
   ],
   "source": [
    "cost, thermal_state = get_thermal_state(T)\n",
    "\n",
    "list_energy = get_energy_distribution(thermal_state)\n",
    "hist = plt.hist(list_energy, density=True)"
   ]
  },
  {
   "cell_type": "markdown",
   "metadata": {
    "id": "xHUzvQOixb8G"
   },
   "source": [
    "The minimum energy eigenstate should now have a much higher probability. Try to repeat the experiment with different $\\beta$ to see the effect of the temperature on the prepared thermal state."
   ]
  },
  {
   "cell_type": "markdown",
   "metadata": {
    "id": "7bXROUGaxb8G"
   },
   "source": [
    "# References\n",
    "\n",
    "[1] Verdon, G., Broughton, M., Biamonte, J. (2017) [A quantum algorithm to train neural networks using low-depth circuits](https://arxiv.org/abs/1712.05304). *arXiv:1712.05304*. <a id='1'></a>"
   ]
  }
 ],
 "metadata": {
  "colab": {
   "collapsed_sections": [],
   "name": "2_4_QML_Quantum_Computation(08):_Sampling_a_Thermal_State-qiskit.ipynb",
   "provenance": []
  },
  "kernelspec": {
   "display_name": "Python 3 (ipykernel)",
   "language": "python",
   "name": "python3"
  },
  "language_info": {
   "codemirror_mode": {
    "name": "ipython",
    "version": 3
   },
   "file_extension": ".py",
   "mimetype": "text/x-python",
   "name": "python",
   "nbconvert_exporter": "python",
   "pygments_lexer": "ipython3",
   "version": "3.10.4"
  },
  "varInspector": {
   "cols": {
    "lenName": 16,
    "lenType": 16,
    "lenVar": 40
   },
   "kernels_config": {
    "python": {
     "delete_cmd_postfix": "",
     "delete_cmd_prefix": "del ",
     "library": "var_list.py",
     "varRefreshCmd": "print(var_dic_list())"
    },
    "r": {
     "delete_cmd_postfix": ") ",
     "delete_cmd_prefix": "rm(",
     "library": "var_list.r",
     "varRefreshCmd": "cat(var_dic_list()) "
    }
   },
   "types_to_exclude": [
    "module",
    "function",
    "builtin_function_or_method",
    "instance",
    "_Feature"
   ],
   "window_display": false
  },
  "widgets": {
   "application/vnd.jupyter.widget-state+json": {
    "state": {},
    "version_major": 2,
    "version_minor": 0
   }
  }
 },
 "nbformat": 4,
 "nbformat_minor": 4
}
